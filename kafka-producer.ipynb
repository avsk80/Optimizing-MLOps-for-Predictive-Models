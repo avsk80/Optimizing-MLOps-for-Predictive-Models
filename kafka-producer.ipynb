{
 "cells": [
  {
   "cell_type": "code",
   "execution_count": 0,
   "metadata": {
    "application/vnd.databricks.v1+cell": {
     "cellMetadata": {
      "byteLimit": 2048000,
      "rowLimit": 10000
     },
     "inputWidgets": {},
     "nuid": "576aa171-7b5f-41c6-bb61-da1c6900f228",
     "showTitle": false,
     "title": ""
    }
   },
   "outputs": [
    {
     "output_type": "display_data",
     "data": {
      "text/html": [
       "<style scoped>\n",
       "  .ansiout {\n",
       "    display: block;\n",
       "    unicode-bidi: embed;\n",
       "    white-space: pre-wrap;\n",
       "    word-wrap: break-word;\n",
       "    word-break: break-all;\n",
       "    font-family: \"Menlo\", \"Monaco\", \"Consolas\", \"Ubuntu Mono\", \"Source Code Pro\", monospace;\n",
       "    font-size: 13px;\n",
       "    color: #555;\n",
       "    margin-left: 4px;\n",
       "    line-height: 19px;\n",
       "  }\n",
       "</style>\n",
       "<div class=\"ansiout\">res1: Boolean = true\n",
       "</div>"
      ]
     },
     "metadata": {
      "application/vnd.databricks.v1+output": {
       "addedWidgets": {},
       "arguments": {},
       "data": "<div class=\"ansiout\">res1: Boolean = true\n</div>",
       "datasetInfos": [],
       "metadata": {
        "isDbfsCommandResult": false
       },
       "removedWidgets": [],
       "type": "html"
      }
     },
     "output_type": "display_data"
    }
   ],
   "source": [
    "%fs mkdirs /Volumes/msba_6331_group1/default/csom-msba6311-g1/checkpoint/kafka_producer"
   ]
  },
  {
   "cell_type": "code",
   "execution_count": 0,
   "metadata": {
    "application/vnd.databricks.v1+cell": {
     "cellMetadata": {
      "byteLimit": 2048000,
      "rowLimit": 10000
     },
     "inputWidgets": {},
     "nuid": "044f18bc-28cd-490d-9679-d0693389140d",
     "showTitle": false,
     "title": ""
    }
   },
   "outputs": [
    {
     "output_type": "display_data",
     "data": {
      "text/html": [
       "<style scoped>\n",
       "  .ansiout {\n",
       "    display: block;\n",
       "    unicode-bidi: embed;\n",
       "    white-space: pre-wrap;\n",
       "    word-wrap: break-word;\n",
       "    word-break: break-all;\n",
       "    font-family: \"Menlo\", \"Monaco\", \"Consolas\", \"Ubuntu Mono\", \"Source Code Pro\", monospace;\n",
       "    font-size: 13px;\n",
       "    color: #555;\n",
       "    margin-left: 4px;\n",
       "    line-height: 19px;\n",
       "  }\n",
       "</style>\n",
       "<div class=\"ansiout\">res2: Boolean = true\n",
       "</div>"
      ]
     },
     "metadata": {
      "application/vnd.databricks.v1+output": {
       "addedWidgets": {},
       "arguments": {},
       "data": "<div class=\"ansiout\">res2: Boolean = true\n</div>",
       "datasetInfos": [],
       "metadata": {
        "isDbfsCommandResult": false
       },
       "removedWidgets": [],
       "type": "html"
      }
     },
     "output_type": "display_data"
    }
   ],
   "source": [
    "%fs mkdirs /Volumes/msba_6331_group1/default/csom-msba6311-g1/checkpoint/kafka_consumer"
   ]
  },
  {
   "cell_type": "code",
   "execution_count": 0,
   "metadata": {
    "application/vnd.databricks.v1+cell": {
     "cellMetadata": {
      "byteLimit": 2048000,
      "rowLimit": 10000
     },
     "inputWidgets": {},
     "nuid": "d7802d6a-6b9c-41e3-89d3-36346e195f4a",
     "showTitle": false,
     "title": ""
    }
   },
   "outputs": [
    {
     "output_type": "display_data",
     "data": {
      "text/html": [
       "<style scoped>\n",
       "  .ansiout {\n",
       "    display: block;\n",
       "    unicode-bidi: embed;\n",
       "    white-space: pre-wrap;\n",
       "    word-wrap: break-word;\n",
       "    word-break: break-all;\n",
       "    font-family: \"Menlo\", \"Monaco\", \"Consolas\", \"Ubuntu Mono\", \"Source Code Pro\", monospace;\n",
       "    font-size: 13px;\n",
       "    color: #555;\n",
       "    margin-left: 4px;\n",
       "    line-height: 19px;\n",
       "  }\n",
       "</style>\n",
       "<div class=\"ansiout\">res3: Boolean = true\n",
       "</div>"
      ]
     },
     "metadata": {
      "application/vnd.databricks.v1+output": {
       "addedWidgets": {},
       "arguments": {},
       "data": "<div class=\"ansiout\">res3: Boolean = true\n</div>",
       "datasetInfos": [],
       "metadata": {
        "isDbfsCommandResult": false
       },
       "removedWidgets": [],
       "type": "html"
      }
     },
     "output_type": "display_data"
    }
   ],
   "source": [
    "%fs mkdirs /Volumes/msba_6331_group1/default/csom-msba6311-g1/data/accidents_final"
   ]
  },
  {
   "cell_type": "code",
   "execution_count": 0,
   "metadata": {
    "application/vnd.databricks.v1+cell": {
     "cellMetadata": {
      "byteLimit": 2048000,
      "rowLimit": 10000
     },
     "inputWidgets": {},
     "nuid": "ff58b030-b02e-4a4c-b6c0-bfd1bac1328c",
     "showTitle": false,
     "title": ""
    }
   },
   "outputs": [
    {
     "output_type": "stream",
     "name": "stdout",
     "output_type": "stream",
     "text": [
      "total 0\n-rwxrwxrwx 1 root root 0 Jan  1  1970 test\n-rwxrwxrwx 1 root root 0 Jan  1  1970 kafka-read-idompotent\n-rwxrwxrwx 1 root root 0 Jan  1  1970 kafka-producer\n-rwxrwxrwx 1 root root 0 Jan  1  1970 Import from Kafka - 2023-11-23\n"
     ]
    }
   ],
   "source": [
    "%sh ls -ltr"
   ]
  },
  {
   "cell_type": "code",
   "execution_count": 0,
   "metadata": {
    "application/vnd.databricks.v1+cell": {
     "cellMetadata": {
      "byteLimit": 2048000,
      "rowLimit": 10000
     },
     "inputWidgets": {},
     "nuid": "e82e83f1-5036-4287-919c-7e537010659a",
     "showTitle": false,
     "title": ""
    }
   },
   "outputs": [
    {
     "output_type": "execute_result",
     "data": {
      "text/plain": [
       "True"
      ]
     },
     "execution_count": 51,
     "metadata": {},
     "output_type": "execute_result"
    }
   ],
   "source": [
    "# dbutils.fs.cp(\"file:/databricks/driver/data\", \"dbfs:/FileStore/msba_project_data/\",recurse=True)"
   ]
  },
  {
   "cell_type": "code",
   "execution_count": 0,
   "metadata": {
    "application/vnd.databricks.v1+cell": {
     "cellMetadata": {
      "byteLimit": 2048000,
      "implicitDf": true,
      "rowLimit": 10000
     },
     "inputWidgets": {},
     "nuid": "910beb47-826a-4247-99b5-c36f107180aa",
     "showTitle": false,
     "title": ""
    }
   },
   "outputs": [
    {
     "output_type": "display_data",
     "data": {
      "text/html": [
       "<style scoped>\n",
       "  .table-result-container {\n",
       "    max-height: 300px;\n",
       "    overflow: auto;\n",
       "  }\n",
       "  table, th, td {\n",
       "    border: 1px solid black;\n",
       "    border-collapse: collapse;\n",
       "  }\n",
       "  th, td {\n",
       "    padding: 5px;\n",
       "  }\n",
       "  th {\n",
       "    text-align: left;\n",
       "  }\n",
       "</style><div class='table-result-container'><table class='table-result'><thead style='background-color: white'><tr></tr></thead><tbody></tbody></table></div>"
      ]
     },
     "metadata": {
      "application/vnd.databricks.v1+output": {
       "addedWidgets": {},
       "aggData": [],
       "aggError": "",
       "aggOverflow": false,
       "aggSchema": [],
       "aggSeriesLimitReached": false,
       "aggType": "",
       "arguments": {},
       "columnCustomDisplayInfos": {},
       "data": [],
       "datasetInfos": [],
       "dbfsResultPath": null,
       "isJsonSchema": true,
       "metadata": {
        "dataframeName": null
       },
       "overflow": false,
       "plotOptions": {
        "customPlotOptions": {},
        "displayType": "table",
        "pivotAggregation": null,
        "pivotColumns": null,
        "xColumns": null,
        "yColumns": null
       },
       "removedWidgets": [],
       "schema": [],
       "type": "table"
      }
     },
     "output_type": "display_data"
    }
   ],
   "source": [
    "%sql\n",
    "USE CATALOG msba_6331_group1;\n",
    "USE SCHEMA default;"
   ]
  },
  {
   "cell_type": "code",
   "execution_count": 0,
   "metadata": {
    "application/vnd.databricks.v1+cell": {
     "cellMetadata": {
      "byteLimit": 2048000,
      "implicitDf": true,
      "rowLimit": 10000
     },
     "inputWidgets": {},
     "nuid": "17ec2273-5633-4a90-8c96-f3fc570406e8",
     "showTitle": false,
     "title": ""
    }
   },
   "outputs": [
    {
     "output_type": "display_data",
     "data": {
      "text/html": [
       "<style scoped>\n",
       "  .table-result-container {\n",
       "    max-height: 300px;\n",
       "    overflow: auto;\n",
       "  }\n",
       "  table, th, td {\n",
       "    border: 1px solid black;\n",
       "    border-collapse: collapse;\n",
       "  }\n",
       "  th, td {\n",
       "    padding: 5px;\n",
       "  }\n",
       "  th {\n",
       "    text-align: left;\n",
       "  }\n",
       "</style><div class='table-result-container'><table class='table-result'><thead style='background-color: white'><tr></tr></thead><tbody></tbody></table></div>"
      ]
     },
     "metadata": {
      "application/vnd.databricks.v1+output": {
       "addedWidgets": {},
       "aggData": [],
       "aggError": "",
       "aggOverflow": false,
       "aggSchema": [],
       "aggSeriesLimitReached": false,
       "aggType": "",
       "arguments": {},
       "columnCustomDisplayInfos": {},
       "data": [],
       "datasetInfos": [],
       "dbfsResultPath": null,
       "isJsonSchema": true,
       "metadata": {
        "dataframeName": null
       },
       "overflow": false,
       "plotOptions": {
        "customPlotOptions": {},
        "displayType": "table",
        "pivotAggregation": null,
        "pivotColumns": null,
        "xColumns": null,
        "yColumns": null
       },
       "removedWidgets": [],
       "schema": [],
       "type": "table"
      }
     },
     "output_type": "display_data"
    }
   ],
   "source": [
    "%sql\n",
    "DROP TABLE accidents_kafka_ingest;"
   ]
  },
  {
   "cell_type": "code",
   "execution_count": 0,
   "metadata": {
    "application/vnd.databricks.v1+cell": {
     "cellMetadata": {
      "byteLimit": 2048000,
      "implicitDf": true,
      "rowLimit": 10000
     },
     "inputWidgets": {},
     "nuid": "b6b79793-8a6c-4c46-9a4f-ce7ddfb33c83",
     "showTitle": false,
     "title": ""
    }
   },
   "outputs": [
    {
     "output_type": "display_data",
     "data": {
      "text/html": [
       "<style scoped>\n",
       "  .table-result-container {\n",
       "    max-height: 300px;\n",
       "    overflow: auto;\n",
       "  }\n",
       "  table, th, td {\n",
       "    border: 1px solid black;\n",
       "    border-collapse: collapse;\n",
       "  }\n",
       "  th, td {\n",
       "    padding: 5px;\n",
       "  }\n",
       "  th {\n",
       "    text-align: left;\n",
       "  }\n",
       "</style><div class='table-result-container'><table class='table-result'><thead style='background-color: white'><tr><th>database</th><th>tableName</th><th>isTemporary</th></tr></thead><tbody><tr><td>default</td><td>accidents_final</td><td>false</td></tr><tr><td>default</td><td>test</td><td>false</td></tr></tbody></table></div>"
      ]
     },
     "metadata": {
      "application/vnd.databricks.v1+output": {
       "addedWidgets": {},
       "aggData": [],
       "aggError": "",
       "aggOverflow": false,
       "aggSchema": [],
       "aggSeriesLimitReached": false,
       "aggType": "",
       "arguments": {},
       "columnCustomDisplayInfos": {},
       "data": [
        [
         "default",
         "accidents_final",
         false
        ],
        [
         "default",
         "test",
         false
        ]
       ],
       "datasetInfos": [],
       "dbfsResultPath": null,
       "isJsonSchema": true,
       "metadata": {
        "dataframeName": "_sqldf",
        "executionCount": 1
       },
       "overflow": false,
       "plotOptions": {
        "customPlotOptions": {},
        "displayType": "table",
        "pivotAggregation": null,
        "pivotColumns": null,
        "xColumns": null,
        "yColumns": null
       },
       "removedWidgets": [],
       "schema": [
        {
         "metadata": "{}",
         "name": "database",
         "type": "\"string\""
        },
        {
         "metadata": "{}",
         "name": "tableName",
         "type": "\"string\""
        },
        {
         "metadata": "{}",
         "name": "isTemporary",
         "type": "\"boolean\""
        }
       ],
       "type": "table"
      }
     },
     "output_type": "display_data"
    }
   ],
   "source": [
    "%sql\n",
    "SHOW TABLES;"
   ]
  },
  {
   "cell_type": "code",
   "execution_count": 0,
   "metadata": {
    "application/vnd.databricks.v1+cell": {
     "cellMetadata": {
      "byteLimit": 2048000,
      "implicitDf": true,
      "rowLimit": 10000
     },
     "inputWidgets": {},
     "nuid": "ebc7d278-4847-4711-a95c-e34511c3eb83",
     "showTitle": false,
     "title": ""
    }
   },
   "outputs": [
    {
     "output_type": "display_data",
     "data": {
      "text/html": [
       "<style scoped>\n",
       "  .table-result-container {\n",
       "    max-height: 300px;\n",
       "    overflow: auto;\n",
       "  }\n",
       "  table, th, td {\n",
       "    border: 1px solid black;\n",
       "    border-collapse: collapse;\n",
       "  }\n",
       "  th, td {\n",
       "    padding: 5px;\n",
       "  }\n",
       "  th {\n",
       "    text-align: left;\n",
       "  }\n",
       "</style><div class='table-result-container'><table class='table-result'><thead style='background-color: white'><tr></tr></thead><tbody></tbody></table></div>"
      ]
     },
     "metadata": {
      "application/vnd.databricks.v1+output": {
       "addedWidgets": {},
       "aggData": [],
       "aggError": "",
       "aggOverflow": false,
       "aggSchema": [],
       "aggSeriesLimitReached": false,
       "aggType": "",
       "arguments": {},
       "columnCustomDisplayInfos": {},
       "data": [],
       "datasetInfos": [],
       "dbfsResultPath": null,
       "isJsonSchema": true,
       "metadata": {
        "dataframeName": null
       },
       "overflow": false,
       "plotOptions": {
        "customPlotOptions": {},
        "displayType": "table",
        "pivotAggregation": null,
        "pivotColumns": null,
        "xColumns": null,
        "yColumns": null
       },
       "removedWidgets": [],
       "schema": [],
       "type": "table"
      }
     },
     "output_type": "display_data"
    }
   ],
   "source": [
    "%sql\n",
    "\n",
    "-- CREATE TABLE IF NOT EXISTS accidents_kafka_ingest(\n",
    "--   KEY STRING, \n",
    "--   VALUE STRUCT<\n",
    "--         ID                     string,\n",
    "--         Source                 string,\n",
    "--         Severity               int,\n",
    "--         Start_Time             string,\n",
    "--         End_Time               string,\n",
    "--         Start_Lat              float,\n",
    "--         Start_Lng              float,\n",
    "--         End_Lat                float,\n",
    "--         End_Lng                float,\n",
    "--         Distance_miles         float,\n",
    "--         Description            string,\n",
    "--         Street                 string,\n",
    "--         City                   string,\n",
    "--         County                 string,\n",
    "--         State                  string,\n",
    "--         Zipcode                string,\n",
    "--         Country                string,\n",
    "--         Timezone               string,\n",
    "--         Airport_Code           string,\n",
    "--         Weather_Timestamp      string,\n",
    "--         Temperature_F          float,\n",
    "--         Wind_Chill_F           float,\n",
    "--         Humidity_percent       float,\n",
    "--         Pressure_in            float,\n",
    "--         Visibility_mi          float,\n",
    "--         Wind_Direction         string,\n",
    "--         Wind_Speed_mph         float,\n",
    "--         Precipitation_in       float,\n",
    "--         Weather_Condition      string,\n",
    "--         Amenity                string,\n",
    "--         Bump                   string,\n",
    "--         Crossing               string,\n",
    "--         Give_Way               string,\n",
    "--         Junction               string,\n",
    "--         No_Exit                string,\n",
    "--         Railway                string,\n",
    "--         Roundabout             string,\n",
    "--         Station                string,\n",
    "--         Stop                   string,\n",
    "--         Traffic_Calming        string,\n",
    "--         Traffic_Signal         string,\n",
    "--         Turning_Loop           string,  \n",
    "--         Sunrise_Sunset         string, \n",
    "--         Civil_Twilight         string,\n",
    "--         Nautical_Twilight      string,\n",
    "--         Astronomical_Twilight  string >,\n",
    "--   topic STRING, \n",
    "--   timestamp TIMESTAMP\n",
    "--   )\n",
    "-- USING DELTA;\n",
    "-- LOCATION 'dbfs:/FileStore/msba_project_data/kafka_to_json/'\n",
    "\n",
    "CREATE TABLE IF NOT EXISTS accidents_kafka_ingest(\n",
    "        timestamp              string,\n",
    "        ID                     string,\n",
    "        Source                 string,\n",
    "        prediction             string,\n",
    "        Severity               double,\n",
    "        Start_Time             string,\n",
    "        End_Time               string,\n",
    "        Start_Lat              float,\n",
    "        Start_Lng              float,\n",
    "        End_Lat                float,\n",
    "        End_Lng                float,\n",
    "        Distance_miles         float,\n",
    "        Description            string,\n",
    "        Street                 string,\n",
    "        City                   string,\n",
    "        County                 string,\n",
    "        State                  string,\n",
    "        Zipcode                string,\n",
    "        Country                string,\n",
    "        Timezone               string,\n",
    "        Airport_Code           string,\n",
    "        Weather_Timestamp      string,\n",
    "        Temperature_F          float,\n",
    "        Wind_Chill_F           float,\n",
    "        Humidity_percent       float,\n",
    "        Pressure_in            float,\n",
    "        Visibility_mi          float,\n",
    "        Wind_Direction         string,\n",
    "        Wind_Speed_mph         float,\n",
    "        Precipitation_in       float,\n",
    "        Weather_Condition      string,\n",
    "        Amenity                string,\n",
    "        Bump                   string,\n",
    "        Crossing               string,\n",
    "        Give_Way               string,\n",
    "        Junction               string,\n",
    "        No_Exit                string,\n",
    "        Railway                string,\n",
    "        Roundabout             string,\n",
    "        Station                string,\n",
    "        Stop                   string,\n",
    "        Traffic_Calming        string,\n",
    "        Traffic_Signal         string,\n",
    "        Turning_Loop           string,  \n",
    "        Sunrise_Sunset         string, \n",
    "        Civil_Twilight         string,\n",
    "        Nautical_Twilight      string,\n",
    "        Astronomical_Twilight  string\n",
    ")\n",
    "USING DELTA;\n",
    "\n",
    "CREATE TABLE IF NOT EXISTS accidents_final(\n",
    "        ID                     string,\n",
    "        Source                 string,\n",
    "        Severity               DOUBLE,\n",
    "        Start_Time             string,\n",
    "        End_Time               string,\n",
    "        Start_Lat              float,\n",
    "        Start_Lng              float,\n",
    "        End_Lat                float,\n",
    "        End_Lng                float,\n",
    "        Distance_miles         float,\n",
    "        Description            string,\n",
    "        Street                 string,\n",
    "        City                   string,\n",
    "        County                 string,\n",
    "        State                  string,\n",
    "        Zipcode                string,\n",
    "        Country                string,\n",
    "        Timezone               string,\n",
    "        Airport_Code           string,\n",
    "        Weather_Timestamp      string,\n",
    "        Temperature_F          float,\n",
    "        Wind_Chill_F           float,\n",
    "        Humidity_percent       float,\n",
    "        Pressure_in            float,\n",
    "        Visibility_mi          float,\n",
    "        Wind_Direction         string,\n",
    "        Wind_Speed_mph         float,\n",
    "        Precipitation_in       float,\n",
    "        Weather_Condition      string,\n",
    "        Amenity                string,\n",
    "        Bump                   string,\n",
    "        Crossing               string,\n",
    "        Give_Way               string,\n",
    "        Junction               string,\n",
    "        No_Exit                string,\n",
    "        Railway                string,\n",
    "        Roundabout             string,\n",
    "        Station                string,\n",
    "        Stop                   string,\n",
    "        Traffic_Calming        string,\n",
    "        Traffic_Signal         string,\n",
    "        Turning_Loop           string,  \n",
    "        Sunrise_Sunset         string, \n",
    "        Civil_Twilight         string,\n",
    "        Nautical_Twilight      string,\n",
    "        Astronomical_Twilight  string\n",
    ")\n",
    "USING DELTA\n",
    "-- LOCATION '/Volumes/msba_6331_group1/default/csom-msba6311-g1/data/accidents_final'\n",
    ";"
   ]
  },
  {
   "cell_type": "markdown",
   "metadata": {
    "application/vnd.databricks.v1+cell": {
     "cellMetadata": {},
     "inputWidgets": {},
     "nuid": "8b1d7717-b0f8-4bc0-82d0-620f8ee0f900",
     "showTitle": false,
     "title": ""
    }
   },
   "source": [
    "install org.apache.spark:spark-sql-kafka-0-10_2.12:3.5.0"
   ]
  },
  {
   "cell_type": "code",
   "execution_count": 0,
   "metadata": {
    "application/vnd.databricks.v1+cell": {
     "cellMetadata": {
      "byteLimit": 2048000,
      "rowLimit": 10000
     },
     "inputWidgets": {},
     "nuid": "d73c4e8a-3a0b-404e-8792-7b73d12d1230",
     "showTitle": false,
     "title": ""
    }
   },
   "outputs": [
    {
     "output_type": "execute_result",
     "data": {
      "text/plain": [
       "9"
      ]
     },
     "execution_count": 3,
     "metadata": {},
     "output_type": "execute_result"
    }
   ],
   "source": [
    "spark.read.json(\"/Volumes/msba_6331_group1/default/csom-msba6311-g1/producer_json/start_yr_mnth=2016-03/*.json\").count()"
   ]
  },
  {
   "cell_type": "markdown",
   "metadata": {
    "application/vnd.databricks.v1+cell": {
     "cellMetadata": {
      "byteLimit": 2048000,
      "rowLimit": 10000
     },
     "inputWidgets": {},
     "nuid": "3035fae4-171e-4f70-8120-1130f487445c",
     "showTitle": false,
     "title": ""
    }
   },
   "source": [
    "\n",
    "done streaming\n",
    "\n",
    "2016-01\n",
    "2016-02 \n",
    "2016-03 in progress"
   ]
  },
  {
   "cell_type": "code",
   "execution_count": 0,
   "metadata": {
    "application/vnd.databricks.v1+cell": {
     "cellMetadata": {
      "byteLimit": 2048000,
      "rowLimit": 10000
     },
     "inputWidgets": {},
     "nuid": "7098d9cb-901c-425b-969c-b88cbbdaada6",
     "showTitle": false,
     "title": ""
    }
   },
   "outputs": [],
   "source": [
    "class Producer:\n",
    "    def __init__(self):\n",
    "        self.base_path = \"/Volumes/msba_6331_group1/default/csom-msba6311-g1/\"\n",
    "        self.ckp_path = f\"{self.base_path}/checkpoint/kafka_producer\"\n",
    "        # self.src_data_folder = f\"{self.base_path}/producer_json/start_yr_mnth=2016-03/*.json\"\n",
    "        self.src_data_folder = f\"{self.base_path}/demo/sample-7/*.json\"\n",
    "        self.BOOTSTRAP_SERVER = \"pkc-4r087.us-west2.gcp.confluent.cloud:9092\"\n",
    "        self.security_protocol=\"SASL_SSL\"\n",
    "        self.sasl_mechanisms=\"PLAIN\"\n",
    "        # self.client_id= \"avsk_local\"\n",
    "        # Required connection configs for Kafka producer, consumer, and admin\n",
    "        self.CLUSTER_API_KEY = \"P4D2F5FH6EHZ6UWY\"\n",
    "        self.CLUSTER_API_SECRET = \"EuMUYhrKNAohqWpSskDQEYyk6CVIzpx3ItcTlLFJvWkNK6Kqc3v3/wXQ3gxr9ARr\"\n",
    "        self.JAAS_MODULE = \"org.apache.kafka.common.security.plain.PlainLoginModule\"\n",
    "        self.topic_name = \"us_acc_test\"\n",
    "\n",
    "    def get_schema(self):\n",
    "        schema = \"\"\" \n",
    "        ID                     string,\n",
    "        Source                 string,\n",
    "        Severity               int,\n",
    "        Start_Time             string,\n",
    "        End_Time               string,\n",
    "        Start_Lat              float,\n",
    "        Start_Lng              float,\n",
    "        End_Lat                float,\n",
    "        End_Lng                float,\n",
    "        Distance_miles           float,\n",
    "        Description            string,\n",
    "        Street                 string,\n",
    "        City                   string,\n",
    "        County                 string,\n",
    "        State                  string,\n",
    "        Zipcode                string,\n",
    "        Country                string,\n",
    "        Timezone               string,\n",
    "        Airport_Code           string,\n",
    "        Weather_Timestamp      string,\n",
    "        Temperature_F         float,\n",
    "        Wind_Chill_F          float,\n",
    "        Humidity_percent            float,\n",
    "        Pressure_in           float,\n",
    "        Visibility_mi         float,\n",
    "        Wind_Direction         string,\n",
    "        Wind_Speed_mph        float,\n",
    "        Precipitation_in      float,\n",
    "        Weather_Condition      string,\n",
    "        Amenity                string,\n",
    "        Bump                   string,\n",
    "        Crossing               string,\n",
    "        Give_Way               string,\n",
    "        Junction               string,\n",
    "        No_Exit                string,\n",
    "        Railway                string,\n",
    "        Roundabout             string,\n",
    "        Station                string,\n",
    "        Stop                   string,\n",
    "        Traffic_Calming        string,\n",
    "        Traffic_Signal         string,\n",
    "        Turning_Loop           string,  \n",
    "        Sunrise_Sunset         string, \n",
    "        Civil_Twilight         string,\n",
    "        Nautical_Twilight      string,\n",
    "        Astronomical_Twilight  string\n",
    "        \"\"\"\n",
    "        return schema\n",
    "    \n",
    "    def read_data(self):\n",
    "        from pyspark.sql.functions import expr\n",
    "        return ( spark.readStream\n",
    "                .format(\"json\")\n",
    "                .schema(self.get_schema())\n",
    "                .load(self.src_data_folder)\n",
    "        )\n",
    "\n",
    "    def formatKafkaMsg(self, df, key):\n",
    "        return (df.selectExpr(f\"{key} as key\", \"to_json(struct(*)) as value\"))\n",
    "\n",
    "    def sendToKafka(self, kafka_df):\n",
    "        return ( kafka_df.writeStream\n",
    "                    .queryName(\"kafka-producer\")\n",
    "                    .format(\"kafka\")\n",
    "                    .option(\"kafka.bootstrap.servers\", self.BOOTSTRAP_SERVER)\n",
    "                    .option(\"kafka.security.protocol\", self.security_protocol)\n",
    "                    .option(\"kafka.sasl.mechanism\", self.sasl_mechanisms)\n",
    "                    .option(\"kafka.sasl.jaas.config\", f\"{self.JAAS_MODULE} required username='{self.CLUSTER_API_KEY}' password='{self.CLUSTER_API_SECRET}';\")\n",
    "                    .option(\"topic\", self.topic_name)\n",
    "                    .option(\"checkpointLocation\", self.ckp_path)\n",
    "                    .outputMode(\"append\")\n",
    "                    .start()\n",
    "            )\n",
    "        \n",
    "    def process(self):\n",
    "        print(\"starting to stream to kafka\")\n",
    "        j_data = self.read_data()\n",
    "        kafka_df = self.formatKafkaMsg(j_data, \"ID\")\n",
    "        sQuery = self.sendToKafka(kafka_df)\n",
    "        print(\"Done\")\n",
    "        return sQuery\n"
   ]
  },
  {
   "cell_type": "code",
   "execution_count": 0,
   "metadata": {
    "application/vnd.databricks.v1+cell": {
     "cellMetadata": {
      "byteLimit": 2048000,
      "rowLimit": 10000
     },
     "inputWidgets": {},
     "nuid": "cf12e2f2-b151-482c-b503-b158439185a7",
     "showTitle": false,
     "title": ""
    }
   },
   "outputs": [
    {
     "output_type": "stream",
     "name": "stdout",
     "output_type": "stream",
     "text": [
      "starting to stream to kafka\nDone\n"
     ]
    }
   ],
   "source": [
    "p = Producer()\n",
    "sQuery = p.process()"
   ]
  },
  {
   "cell_type": "code",
   "execution_count": 0,
   "metadata": {
    "application/vnd.databricks.v1+cell": {
     "cellMetadata": {
      "byteLimit": 2048000,
      "rowLimit": 10000
     },
     "inputWidgets": {},
     "nuid": "f65200f3-5b4f-487b-9d5f-c715ca0ceba2",
     "showTitle": false,
     "title": ""
    }
   },
   "outputs": [],
   "source": [
    "sQuery.stop()"
   ]
  },
  {
   "cell_type": "code",
   "execution_count": 0,
   "metadata": {
    "application/vnd.databricks.v1+cell": {
     "cellMetadata": {
      "byteLimit": 2048000,
      "rowLimit": 10000
     },
     "inputWidgets": {},
     "nuid": "d73d1a16-a07d-48fd-8288-dc44f84fbe29",
     "showTitle": false,
     "title": ""
    }
   },
   "outputs": [
    {
     "output_type": "display_data",
     "data": {
      "text/html": [
       "<style scoped>\n",
       "  .table-result-container {\n",
       "    max-height: 300px;\n",
       "    overflow: auto;\n",
       "  }\n",
       "  table, th, td {\n",
       "    border: 1px solid black;\n",
       "    border-collapse: collapse;\n",
       "  }\n",
       "  th, td {\n",
       "    padding: 5px;\n",
       "  }\n",
       "  th {\n",
       "    text-align: left;\n",
       "  }\n",
       "</style><div class='table-result-container'><table class='table-result'><thead style='background-color: white'><tr><th>severity</th><th>count</th></tr></thead><tbody><tr><td>0</td><td>158</td></tr><tr><td>1</td><td>6</td></tr></tbody></table></div>"
      ]
     },
     "metadata": {
      "application/vnd.databricks.v1+output": {
       "addedWidgets": {},
       "aggData": [],
       "aggError": "",
       "aggOverflow": false,
       "aggSchema": [],
       "aggSeriesLimitReached": false,
       "aggType": "",
       "arguments": {},
       "columnCustomDisplayInfos": {},
       "data": [
        [
         0,
         158
        ],
        [
         1,
         6
        ]
       ],
       "datasetInfos": [],
       "dbfsResultPath": null,
       "isJsonSchema": true,
       "metadata": {},
       "overflow": false,
       "plotOptions": {
        "customPlotOptions": {},
        "displayType": "table",
        "pivotAggregation": null,
        "pivotColumns": null,
        "xColumns": null,
        "yColumns": null
       },
       "removedWidgets": [],
       "schema": [
        {
         "metadata": "{}",
         "name": "severity",
         "type": "\"long\""
        },
        {
         "metadata": "{}",
         "name": "count",
         "type": "\"long\""
        }
       ],
       "type": "table"
      }
     },
     "output_type": "display_data"
    }
   ],
   "source": [
    "spark.read.json(\"/Volumes/msba_6331_group1/default/csom-msba6311-g1/demo/sample-7/*.json\").groupBy(\"severity\").count().display()"
   ]
  },
  {
   "cell_type": "code",
   "execution_count": 0,
   "metadata": {
    "application/vnd.databricks.v1+cell": {
     "cellMetadata": {},
     "inputWidgets": {},
     "nuid": "ee2fd295-0845-462e-89be-52e7221e7a32",
     "showTitle": false,
     "title": ""
    }
   },
   "outputs": [],
   "source": []
  }
 ],
 "metadata": {
  "application/vnd.databricks.v1+notebook": {
   "dashboards": [],
   "language": "python",
   "notebookMetadata": {
    "mostRecentlyExecutedCommandWithImplicitDF": {
     "commandId": 3137343374668551,
     "dataframes": [
      "_sqldf"
     ]
    },
    "pythonIndentUnit": 4
   },
   "notebookName": "kafka-producer",
   "widgets": {}
  }
 },
 "nbformat": 4,
 "nbformat_minor": 0
}
