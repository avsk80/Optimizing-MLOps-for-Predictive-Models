{
 "cells": [
  {
   "cell_type": "code",
   "execution_count": 0,
   "metadata": {
    "application/vnd.databricks.v1+cell": {
     "cellMetadata": {
      "byteLimit": 2048000,
      "rowLimit": 10000
     },
     "inputWidgets": {},
     "nuid": "6afaa62d-19b7-46e0-b1f8-b9dea257406a",
     "showTitle": false,
     "title": ""
    }
   },
   "outputs": [],
   "source": [
    "import smtplib\n",
    "\n",
    "def send_email(email_address: str, subject: str, body: str):\n",
    "    \"\"\"\n",
    "    send_email sends an email to the email address specified in the\n",
    "    argument.\n",
    "\n",
    "    Parameters\n",
    "    ----------\n",
    "    email_address: email address of the recipient\n",
    "    subject: subject of the email\n",
    "    body: body of the email\n",
    "    \"\"\"\n",
    "    email_address = \"abbar005@umn.edu\"\n",
    "    password = \"pfly xndi npfb pwda\"\n",
    "\n",
    "    server = smtplib.SMTP('smtp.gmail.com', 587)\n",
    "    server.starttls()\n",
    "    server.login(email_address, password)\n",
    "    server.sendmail(email_address, email_address,\n",
    "                    \"Subject: {}\\n\\n{}\".format(subject, body))\n",
    "    server.quit()"
   ]
  },
  {
   "cell_type": "code",
   "execution_count": 0,
   "metadata": {
    "application/vnd.databricks.v1+cell": {
     "cellMetadata": {
      "byteLimit": 2048000,
      "rowLimit": 10000
     },
     "inputWidgets": {},
     "nuid": "75b37148-bab0-47fb-af3f-04c14f2f8243",
     "showTitle": false,
     "title": ""
    }
   },
   "outputs": [],
   "source": [
    "# send_email(email_address=\"abbar005@gmail.com\", subject=\"Test\", body=\"Hi\")"
   ]
  },
  {
   "cell_type": "code",
   "execution_count": 0,
   "metadata": {
    "application/vnd.databricks.v1+cell": {
     "cellMetadata": {
      "byteLimit": 2048000,
      "rowLimit": 10000
     },
     "inputWidgets": {},
     "nuid": "d16594e0-c19f-4b09-b6ec-37cf322bb3a6",
     "showTitle": false,
     "title": ""
    }
   },
   "outputs": [],
   "source": [
    "from redmail import EmailSender\n",
    "from pathlib import Path\n",
    "\n",
    "def send_email_redmail(path, subject):\n",
    "    try:\n",
    "        # Configure an email sender\n",
    "        email = EmailSender(\n",
    "            host='smtp.gmail.com', port=587,\n",
    "            user_name=\"abbar005@umn.edu\", password=\"pfly xndi npfb pwda\"\n",
    "        )\n",
    "\n",
    "        # Send an email\n",
    "        email.send(\n",
    "            sender=\"abbar005@umn.edu\",\n",
    "            receivers=[\"abbar005@umn.edu\"],\n",
    "            subject=subject,\n",
    "            attachments={\n",
    "                \"Report.html\": Path(path)\n",
    "            }\n",
    "        )\n",
    "\n",
    "    except Exception as e:\n",
    "        print(e)\n",
    "        try:\n",
    "            print(\"sending email without attachments\")\n",
    "            # Send an email\n",
    "            email.send(\n",
    "                sender=\"abbar005@umn.edu\",\n",
    "                receivers=[\"abbar005@umn.edu\"],\n",
    "                subject=subject\n",
    "                )\n",
    "        except Exception as e:\n",
    "            print(e)"
   ]
  },
  {
   "cell_type": "code",
   "execution_count": 0,
   "metadata": {
    "application/vnd.databricks.v1+cell": {
     "cellMetadata": {
      "byteLimit": 2048000,
      "rowLimit": 10000
     },
     "inputWidgets": {},
     "nuid": "36c7d408-99ac-4f72-8c5b-8fd69d19441e",
     "showTitle": false,
     "title": ""
    }
   },
   "outputs": [],
   "source": [
    "# %sh cat /Workspace/Users/abbar005@umn.edu/data-drift/reports_data_drift"
   ]
  },
  {
   "cell_type": "code",
   "execution_count": 0,
   "metadata": {
    "application/vnd.databricks.v1+cell": {
     "cellMetadata": {
      "byteLimit": 2048000,
      "rowLimit": 10000
     },
     "inputWidgets": {},
     "nuid": "bb50c395-bfa3-4d49-b92c-aac2531b9ec9",
     "showTitle": false,
     "title": ""
    }
   },
   "outputs": [],
   "source": [
    "# %sh ls -ltr /Workspace/Users/abbar005@umn.edu/data-drift/"
   ]
  },
  {
   "cell_type": "code",
   "execution_count": 0,
   "metadata": {
    "application/vnd.databricks.v1+cell": {
     "cellMetadata": {
      "byteLimit": 2048000,
      "rowLimit": 10000
     },
     "inputWidgets": {},
     "nuid": "f84b41b5-107d-4c1d-986a-d41298940281",
     "showTitle": false,
     "title": ""
    }
   },
   "outputs": [],
   "source": [
    "# send_email_redmail()"
   ]
  },
  {
   "cell_type": "code",
   "execution_count": 0,
   "metadata": {
    "application/vnd.databricks.v1+cell": {
     "cellMetadata": {},
     "inputWidgets": {},
     "nuid": "cca03bc8-eb44-4932-8e98-ee7f44a48fee",
     "showTitle": false,
     "title": ""
    }
   },
   "outputs": [],
   "source": []
  }
 ],
 "metadata": {
  "application/vnd.databricks.v1+notebook": {
   "dashboards": [],
   "language": "python",
   "notebookMetadata": {
    "mostRecentlyExecutedCommandWithImplicitDF": {
     "commandId": -1,
     "dataframes": [
      "_sqldf"
     ]
    },
    "pythonIndentUnit": 4
   },
   "notebookName": "email-alert-script",
   "widgets": {}
  }
 },
 "nbformat": 4,
 "nbformat_minor": 0
}
