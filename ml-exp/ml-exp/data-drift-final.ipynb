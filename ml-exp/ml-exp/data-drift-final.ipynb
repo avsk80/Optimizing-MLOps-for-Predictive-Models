{
 "cells": [
  {
   "cell_type": "code",
   "execution_count": 0,
   "metadata": {
    "application/vnd.databricks.v1+cell": {
     "cellMetadata": {
      "byteLimit": 2048000,
      "rowLimit": 10000
     },
     "inputWidgets": {},
     "nuid": "8b52609b-5834-4738-a5f7-7aae535855da",
     "showTitle": false,
     "title": ""
    }
   },
   "outputs": [
    {
     "output_type": "display_data",
     "data": {
      "text/html": [
       "<style scoped>\n",
       "  .ansiout {\n",
       "    display: block;\n",
       "    unicode-bidi: embed;\n",
       "    white-space: pre-wrap;\n",
       "    word-wrap: break-word;\n",
       "    word-break: break-all;\n",
       "    font-family: \"Menlo\", \"Monaco\", \"Consolas\", \"Ubuntu Mono\", \"Source Code Pro\", monospace;\n",
       "    font-size: 13px;\n",
       "    color: #555;\n",
       "    margin-left: 4px;\n",
       "    line-height: 19px;\n",
       "  }\n",
       "</style>\n",
       "<div class=\"ansiout\">res0: Boolean = true\n",
       "</div>"
      ]
     },
     "metadata": {
      "application/vnd.databricks.v1+output": {
       "addedWidgets": {},
       "arguments": {},
       "data": "<div class=\"ansiout\">res0: Boolean = true\n</div>",
       "datasetInfos": [],
       "metadata": {
        "isDbfsCommandResult": false
       },
       "removedWidgets": [],
       "type": "html"
      }
     },
     "output_type": "display_data"
    }
   ],
   "source": [
    "%fs mkdirs dbfs:/FileStore/msba_project_data/landing/data_drift"
   ]
  },
  {
   "cell_type": "code",
   "execution_count": 0,
   "metadata": {
    "application/vnd.databricks.v1+cell": {
     "cellMetadata": {
      "byteLimit": 2048000,
      "rowLimit": 10000
     },
     "inputWidgets": {},
     "nuid": "ed000970-0d6e-4e0f-9de2-3a18d0b92441",
     "showTitle": false,
     "title": ""
    }
   },
   "outputs": [],
   "source": [
    "import pandas as pd\n",
    "import numpy as np\n",
    "from sklearn import datasets\n",
    "from evidently.dashboard import Dashboard  \n",
    "from evidently.tabs import DataDriftTab\n",
    "import mlflow\n",
    "import evidently\n",
    "import smtplib"
   ]
  },
  {
   "cell_type": "code",
   "execution_count": 0,
   "metadata": {
    "application/vnd.databricks.v1+cell": {
     "cellMetadata": {
      "byteLimit": 2048000,
      "rowLimit": 10000
     },
     "inputWidgets": {},
     "nuid": "6cc9b75c-9c97-4330-9989-372fd830754e",
     "showTitle": false,
     "title": ""
    }
   },
   "outputs": [],
   "source": [
    "%run /Users/abbar005@umn.edu/ml-exp/email-alert-script"
   ]
  },
  {
   "cell_type": "code",
   "execution_count": 0,
   "metadata": {
    "application/vnd.databricks.v1+cell": {
     "cellMetadata": {
      "byteLimit": 2048000,
      "rowLimit": 10000
     },
     "inputWidgets": {},
     "nuid": "80a60f12-35cf-4c09-802a-b3f8235c6cc7",
     "showTitle": false,
     "title": ""
    }
   },
   "outputs": [],
   "source": [
    "cols_of_interest = [\"Temperature_F\", \"Wind_Chill_F\", \"Humidity_percent\", \"Pressure_in\", \"Visibility_mi\", \"Wind_Speed_mph\", \"Precipitation_in\"]\n",
    "df = spark.read.table(\"msba_6331_group1.default.accidents_final\").cache()\n",
    "train, test = df.select(cols_of_interest).randomSplit([0.7, 0.3], 0)\n",
    "train_s, test_s = train.sample(fraction=0.1, seed=0).toPandas(), test.sample(fraction=0.1, seed=0).toPandas()"
   ]
  },
  {
   "cell_type": "code",
   "execution_count": 0,
   "metadata": {
    "application/vnd.databricks.v1+cell": {
     "cellMetadata": {
      "byteLimit": 2048000,
      "rowLimit": 10000
     },
     "inputWidgets": {},
     "nuid": "2a49f578-26ef-42d8-bb06-d87948eaec2c",
     "showTitle": false,
     "title": ""
    }
   },
   "outputs": [],
   "source": [
    "outlier_from_train = train.select(\"Temperature_F\", \"Wind_Chill_F\", \"Humidity_percent\", \"Pressure_in\", \"Visibility_mi\", \"Wind_Speed_mph\", \"Precipitation_in\").toPandas()\n",
    "\n",
    "outlier_df = pd.DataFrame()\n",
    "num_outliers = int(len(outlier_from_train) * 0.5)  # 50% outliers\n",
    "\n",
    "for col in outlier_from_train.columns:\n",
    "    # Calculate mean and standard deviation\n",
    "    mean = outlier_from_train[col].mean()\n",
    "    std = outlier_from_train[col].std()\n",
    "\n",
    "    # Generate normal data\n",
    "    normal_data = np.random.normal(mean, std, size=len(outlier_from_train) - num_outliers)\n",
    "\n",
    "    # Generate outlier data\n",
    "    # Outliers are generated as values far from the mean\n",
    "    outliers = np.random.normal(mean, std * 3, size=num_outliers)  \n",
    "\n",
    "    # Combine and shuffle normal data and outliers\n",
    "    combined_data = np.concatenate([normal_data, outliers])\n",
    "    np.random.shuffle(combined_data)\n",
    "\n",
    "    outlier_df[col] = combined_data\n",
    "test_s = outlier_df"
   ]
  },
  {
   "cell_type": "code",
   "execution_count": 0,
   "metadata": {
    "application/vnd.databricks.v1+cell": {
     "cellMetadata": {
      "byteLimit": 2048000,
      "rowLimit": 10000
     },
     "inputWidgets": {},
     "nuid": "1bc0d302-2825-429f-ba24-aad911895ec3",
     "showTitle": false,
     "title": ""
    }
   },
   "outputs": [],
   "source": [
    "def detect_drift(train_s, test_s):\n",
    "    # print(train_s.count())\n",
    "    # print(test_s.count())\n",
    "    train_pd, test_pd = train_s, test_s\n",
    "    EXPERIMENT_NAME=\"/Users/abbar005@umn.edu/data-drift/reports_data_drift\"\n",
    "    \n",
    "    mlflow.set_experiment(EXPERIMENT_NAME)\n",
    "    with mlflow.start_run():\n",
    "        drift_dashboard = Dashboard(tabs=[DataDriftTab])\n",
    "\n",
    "        drift_dashboard.calculate(train_pd, test_pd)\n",
    "        drift_dashboard.save(EXPERIMENT_NAME+\"/input_data_drift.html\")\n",
    "        drift_dashboard.save(\"/Users/abbar005@umn.edu/data-drift\"+\"/input_data_drift.html\")\n",
    "        drift_dashboard._save_to_json(EXPERIMENT_NAME+\"/input_data_drift.json\")\n",
    "        mlflow.log_artifacts(EXPERIMENT_NAME)\n",
    "\n",
    "        json_file = pd.read_json(EXPERIMENT_NAME+\"/input_data_drift.json\")\n",
    "        msg = json_file.widgets.values[0]['title']\n",
    "        send_email_redmail(path=EXPERIMENT_NAME+\"/input_data_drift.html\", subject=msg)"
   ]
  },
  {
   "cell_type": "code",
   "execution_count": 0,
   "metadata": {
    "application/vnd.databricks.v1+cell": {
     "cellMetadata": {
      "byteLimit": 2048000,
      "rowLimit": 10000
     },
     "inputWidgets": {},
     "nuid": "4264b4e0-95e9-429b-ad7a-05db0b66bc8a",
     "showTitle": false,
     "title": ""
    }
   },
   "outputs": [
    {
     "output_type": "stream",
     "name": "stdout",
     "output_type": "stream",
     "text": [
      "Temperature_F       3490\nWind_Chill_F        3490\nHumidity_percent    3490\nPressure_in         3490\nVisibility_mi       3490\nWind_Speed_mph      3490\nPrecipitation_in    3490\ndtype: int64\nTemperature_F       35350\nWind_Chill_F        35350\nHumidity_percent    35350\nPressure_in         35350\nVisibility_mi       35350\nWind_Speed_mph      35350\nPrecipitation_in    35350\ndtype: int64\n"
     ]
    },
    {
     "output_type": "display_data",
     "data": {
      "application/vnd.jupyter.widget-view+json": {
       "model_id": "7ecbdbad802c4e1a83e8ff776da79415",
       "version_major": 2,
       "version_minor": 0
      },
      "text/plain": [
       "Uploading artifacts:   0%|          | 0/2 [00:00<?, ?it/s]"
      ]
     },
     "metadata": {},
     "output_type": "display_data"
    },
    {
     "output_type": "stream",
     "name": "stderr",
     "output_type": "stream",
     "text": [
      "/local_disk0/.ephemeral_nfs/cluster_libraries/python/lib/python3.10/site-packages/redmail/email/sender.py:164: FutureWarning:\n\nArgument user_name was renamed as username. Please use username instead.\n\n"
     ]
    },
    {
     "output_type": "stream",
     "name": "stdout",
     "output_type": "stream",
     "text": [
      "(552, b\"5.3.4 Your message exceeded Google's message size limits. Please visit\\n5.3.4  https://support.google.com/mail/?p=MaxSizeError to view our size\\n5.3.4 guidelines. pr1-20020a05620a86c100b0077d7cfde46csm5843097qkn.106 - gsmtp\", 'abbar005@umn.edu')\nsending email without attachments\n"
     ]
    }
   ],
   "source": [
    "detect_drift(train_s, test_s)"
   ]
  },
  {
   "cell_type": "code",
   "execution_count": 0,
   "metadata": {
    "application/vnd.databricks.v1+cell": {
     "cellMetadata": {},
     "inputWidgets": {},
     "nuid": "85540167-0fd2-43a7-a69b-a9e6ce72ae33",
     "showTitle": false,
     "title": ""
    }
   },
   "outputs": [],
   "source": []
  }
 ],
 "metadata": {
  "application/vnd.databricks.v1+notebook": {
   "dashboards": [],
   "language": "python",
   "notebookMetadata": {
    "mostRecentlyExecutedCommandWithImplicitDF": {
     "commandId": -1,
     "dataframes": [
      "_sqldf"
     ]
    },
    "pythonIndentUnit": 4
   },
   "notebookName": "data-drift-final",
   "widgets": {}
  }
 },
 "nbformat": 4,
 "nbformat_minor": 0
}
