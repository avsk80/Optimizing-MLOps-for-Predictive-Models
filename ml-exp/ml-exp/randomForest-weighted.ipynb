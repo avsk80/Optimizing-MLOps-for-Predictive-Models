{
 "cells": [
  {
   "cell_type": "code",
   "execution_count": 0,
   "metadata": {
    "application/vnd.databricks.v1+cell": {
     "cellMetadata": {
      "byteLimit": 2048000,
      "rowLimit": 10000
     },
     "inputWidgets": {},
     "nuid": "a3e86c2d-1213-463a-831f-ad7c2b195165",
     "showTitle": false,
     "title": ""
    }
   },
   "outputs": [],
   "source": [
    "# import mlflow\n",
    "# mlflow.pyspark.ml.autolog() #This is enabled by default in databricks environment"
   ]
  },
  {
   "cell_type": "code",
   "execution_count": 0,
   "metadata": {
    "application/vnd.databricks.v1+cell": {
     "cellMetadata": {
      "byteLimit": 2048000,
      "rowLimit": 10000
     },
     "inputWidgets": {},
     "nuid": "bde57a59-8805-4b27-a471-5f6e5eff983c",
     "showTitle": false,
     "title": ""
    }
   },
   "outputs": [],
   "source": [
    "from pyspark.sql import functions as F"
   ]
  },
  {
   "cell_type": "code",
   "execution_count": 0,
   "metadata": {
    "application/vnd.databricks.v1+cell": {
     "cellMetadata": {
      "byteLimit": 2048000,
      "rowLimit": 10000
     },
     "inputWidgets": {},
     "nuid": "49c3d92b-58ff-42dd-be45-4c3729c4ad9a",
     "showTitle": false,
     "title": ""
    }
   },
   "outputs": [
    {
     "output_type": "execute_result",
     "data": {
      "text/plain": [
       "50563"
      ]
     },
     "execution_count": 2,
     "metadata": {},
     "output_type": "execute_result"
    }
   ],
   "source": [
    "df = spark.read.table(\"msba_6331_group1.default.accidents_final\")\n",
    "df = df.withColumn(\"Start_Time\", F.to_timestamp(df.Start_Time)) \\\n",
    "    .withColumn(\"End_Time\", F.to_timestamp(df.End_Time)) \\\n",
    "    .withColumn(\"Severity\", df.Severity.cast(\"double\")) \\\n",
    "    .withColumn(\"accident_duration_mins\", ((F.col(\"End_Time\").cast(\"long\") - F.col(\"Start_Time\").cast(\"long\"))/60))\n",
    "# df.printSchema()\n",
    "df.count()"
   ]
  },
  {
   "cell_type": "code",
   "execution_count": 0,
   "metadata": {
    "application/vnd.databricks.v1+cell": {
     "cellMetadata": {
      "byteLimit": 2048000,
      "rowLimit": 10000
     },
     "inputWidgets": {},
     "nuid": "8ae29511-64c6-4320-826e-56a8d409f934",
     "showTitle": false,
     "title": ""
    }
   },
   "outputs": [
    {
     "output_type": "display_data",
     "data": {
      "text/html": [
       "<style scoped>\n",
       "  .table-result-container {\n",
       "    max-height: 300px;\n",
       "    overflow: auto;\n",
       "  }\n",
       "  table, th, td {\n",
       "    border: 1px solid black;\n",
       "    border-collapse: collapse;\n",
       "  }\n",
       "  th, td {\n",
       "    padding: 5px;\n",
       "  }\n",
       "  th {\n",
       "    text-align: left;\n",
       "  }\n",
       "</style><div class='table-result-container'><table class='table-result'><thead style='background-color: white'><tr><th>Severity</th><th>State</th><th>Temperature_F</th><th>Wind_Chill_F</th><th>Humidity_percent</th><th>Pressure_in</th><th>Visibility_mi</th><th>Wind_Speed_mph</th><th>Amenity</th><th>Bump</th><th>Crossing</th><th>Give_Way</th><th>Junction</th><th>No_Exit</th><th>Railway</th><th>Roundabout</th><th>Station</th><th>Stop</th><th>Traffic_Calming</th><th>Traffic_Signal</th><th>Turning_Loop</th><th>Sunrise_Sunset</th><th>Civil_Twilight</th><th>Nautical_Twilight</th><th>Astronomical_Twilight</th><th>accident_duration_mins</th></tr></thead><tbody><tr><td>0.0</td><td>CA</td><td>85.0</td><td>85.0</td><td>27.0</td><td>28.4</td><td>10.0</td><td>10.0</td><td>False</td><td>False</td><td>False</td><td>False</td><td>False</td><td>False</td><td>False</td><td>False</td><td>False</td><td>False</td><td>False</td><td>False</td><td>False</td><td>Day</td><td>Day</td><td>Day</td><td>Day</td><td>28.4</td></tr><tr><td>0.0</td><td>CA</td><td>92.0</td><td>92.0</td><td>26.0</td><td>29.79</td><td>10.0</td><td>10.0</td><td>False</td><td>False</td><td>False</td><td>False</td><td>False</td><td>False</td><td>False</td><td>False</td><td>False</td><td>False</td><td>False</td><td>False</td><td>False</td><td>Day</td><td>Day</td><td>Day</td><td>Day</td><td>103.95</td></tr><tr><td>0.0</td><td>OK</td><td>83.0</td><td>83.0</td><td>74.0</td><td>29.25</td><td>10.0</td><td>7.0</td><td>False</td><td>False</td><td>True</td><td>False</td><td>False</td><td>False</td><td>False</td><td>False</td><td>False</td><td>False</td><td>False</td><td>True</td><td>False</td><td>Night</td><td>Night</td><td>Night</td><td>Night</td><td>74.6</td></tr><tr><td>1.0</td><td>IL</td><td>84.0</td><td>84.0</td><td>44.0</td><td>29.09</td><td>10.0</td><td>9.0</td><td>False</td><td>False</td><td>False</td><td>False</td><td>False</td><td>False</td><td>False</td><td>False</td><td>False</td><td>False</td><td>False</td><td>False</td><td>False</td><td>Day</td><td>Day</td><td>Day</td><td>Day</td><td>29.7</td></tr><tr><td>1.0</td><td>NY</td><td>75.0</td><td>75.0</td><td>78.0</td><td>29.57</td><td>10.0</td><td>0.0</td><td>False</td><td>False</td><td>False</td><td>False</td><td>False</td><td>False</td><td>False</td><td>False</td><td>False</td><td>False</td><td>False</td><td>False</td><td>False</td><td>Day</td><td>Day</td><td>Day</td><td>Day</td><td>104.5</td></tr><tr><td>1.0</td><td>CA</td><td>91.0</td><td>91.0</td><td>34.0</td><td>28.98</td><td>10.0</td><td>8.0</td><td>False</td><td>False</td><td>False</td><td>False</td><td>True</td><td>False</td><td>False</td><td>False</td><td>False</td><td>False</td><td>False</td><td>False</td><td>False</td><td>Day</td><td>Day</td><td>Day</td><td>Day</td><td>284.8333333333333</td></tr><tr><td>0.0</td><td>NJ</td><td>82.0</td><td>82.0</td><td>74.0</td><td>29.86</td><td>10.0</td><td>5.0</td><td>False</td><td>False</td><td>False</td><td>False</td><td>True</td><td>False</td><td>False</td><td>False</td><td>False</td><td>False</td><td>False</td><td>False</td><td>False</td><td>Day</td><td>Day</td><td>Day</td><td>Day</td><td>29.833333333333332</td></tr><tr><td>0.0</td><td>CA</td><td>83.0</td><td>83.0</td><td>47.0</td><td>29.75</td><td>10.0</td><td>12.0</td><td>False</td><td>False</td><td>False</td><td>False</td><td>False</td><td>False</td><td>False</td><td>False</td><td>False</td><td>False</td><td>False</td><td>False</td><td>False</td><td>Day</td><td>Day</td><td>Day</td><td>Day</td><td>29.933333333333334</td></tr><tr><td>0.0</td><td>NC</td><td>79.0</td><td>79.0</td><td>64.0</td><td>29.15</td><td>10.0</td><td>5.0</td><td>False</td><td>False</td><td>False</td><td>False</td><td>False</td><td>False</td><td>False</td><td>False</td><td>False</td><td>False</td><td>False</td><td>False</td><td>False</td><td>Day</td><td>Day</td><td>Day</td><td>Day</td><td>149.9</td></tr><tr><td>1.0</td><td>GA</td><td>74.0</td><td>74.0</td><td>97.0</td><td>28.88</td><td>10.0</td><td>0.0</td><td>False</td><td>False</td><td>False</td><td>False</td><td>False</td><td>False</td><td>False</td><td>False</td><td>False</td><td>False</td><td>False</td><td>False</td><td>False</td><td>Night</td><td>Night</td><td>Day</td><td>Day</td><td>48.43333333333333</td></tr></tbody></table></div>"
      ]
     },
     "metadata": {
      "application/vnd.databricks.v1+output": {
       "addedWidgets": {},
       "aggData": [],
       "aggError": "",
       "aggOverflow": false,
       "aggSchema": [],
       "aggSeriesLimitReached": false,
       "aggType": "",
       "arguments": {},
       "columnCustomDisplayInfos": {},
       "data": [
        [
         0.0,
         "CA",
         85.0,
         85.0,
         27.0,
         28.4,
         10.0,
         10.0,
         "False",
         "False",
         "False",
         "False",
         "False",
         "False",
         "False",
         "False",
         "False",
         "False",
         "False",
         "False",
         "False",
         "Day",
         "Day",
         "Day",
         "Day",
         28.4
        ],
        [
         0.0,
         "CA",
         92.0,
         92.0,
         26.0,
         29.79,
         10.0,
         10.0,
         "False",
         "False",
         "False",
         "False",
         "False",
         "False",
         "False",
         "False",
         "False",
         "False",
         "False",
         "False",
         "False",
         "Day",
         "Day",
         "Day",
         "Day",
         103.95
        ],
        [
         0.0,
         "OK",
         83.0,
         83.0,
         74.0,
         29.25,
         10.0,
         7.0,
         "False",
         "False",
         "True",
         "False",
         "False",
         "False",
         "False",
         "False",
         "False",
         "False",
         "False",
         "True",
         "False",
         "Night",
         "Night",
         "Night",
         "Night",
         74.6
        ],
        [
         1.0,
         "IL",
         84.0,
         84.0,
         44.0,
         29.09,
         10.0,
         9.0,
         "False",
         "False",
         "False",
         "False",
         "False",
         "False",
         "False",
         "False",
         "False",
         "False",
         "False",
         "False",
         "False",
         "Day",
         "Day",
         "Day",
         "Day",
         29.7
        ],
        [
         1.0,
         "NY",
         75.0,
         75.0,
         78.0,
         29.57,
         10.0,
         0.0,
         "False",
         "False",
         "False",
         "False",
         "False",
         "False",
         "False",
         "False",
         "False",
         "False",
         "False",
         "False",
         "False",
         "Day",
         "Day",
         "Day",
         "Day",
         104.5
        ],
        [
         1.0,
         "CA",
         91.0,
         91.0,
         34.0,
         28.98,
         10.0,
         8.0,
         "False",
         "False",
         "False",
         "False",
         "True",
         "False",
         "False",
         "False",
         "False",
         "False",
         "False",
         "False",
         "False",
         "Day",
         "Day",
         "Day",
         "Day",
         284.8333333333333
        ],
        [
         0.0,
         "NJ",
         82.0,
         82.0,
         74.0,
         29.86,
         10.0,
         5.0,
         "False",
         "False",
         "False",
         "False",
         "True",
         "False",
         "False",
         "False",
         "False",
         "False",
         "False",
         "False",
         "False",
         "Day",
         "Day",
         "Day",
         "Day",
         29.833333333333332
        ],
        [
         0.0,
         "CA",
         83.0,
         83.0,
         47.0,
         29.75,
         10.0,
         12.0,
         "False",
         "False",
         "False",
         "False",
         "False",
         "False",
         "False",
         "False",
         "False",
         "False",
         "False",
         "False",
         "False",
         "Day",
         "Day",
         "Day",
         "Day",
         29.933333333333334
        ],
        [
         0.0,
         "NC",
         79.0,
         79.0,
         64.0,
         29.15,
         10.0,
         5.0,
         "False",
         "False",
         "False",
         "False",
         "False",
         "False",
         "False",
         "False",
         "False",
         "False",
         "False",
         "False",
         "False",
         "Day",
         "Day",
         "Day",
         "Day",
         149.9
        ],
        [
         1.0,
         "GA",
         74.0,
         74.0,
         97.0,
         28.88,
         10.0,
         0.0,
         "False",
         "False",
         "False",
         "False",
         "False",
         "False",
         "False",
         "False",
         "False",
         "False",
         "False",
         "False",
         "False",
         "Night",
         "Night",
         "Day",
         "Day",
         48.43333333333333
        ]
       ],
       "datasetInfos": [],
       "dbfsResultPath": null,
       "isJsonSchema": true,
       "metadata": {},
       "overflow": false,
       "plotOptions": {
        "customPlotOptions": {},
        "displayType": "table",
        "pivotAggregation": null,
        "pivotColumns": null,
        "xColumns": null,
        "yColumns": null
       },
       "removedWidgets": [],
       "schema": [
        {
         "metadata": "{}",
         "name": "Severity",
         "type": "\"double\""
        },
        {
         "metadata": "{}",
         "name": "State",
         "type": "\"string\""
        },
        {
         "metadata": "{}",
         "name": "Temperature_F",
         "type": "\"float\""
        },
        {
         "metadata": "{}",
         "name": "Wind_Chill_F",
         "type": "\"float\""
        },
        {
         "metadata": "{}",
         "name": "Humidity_percent",
         "type": "\"float\""
        },
        {
         "metadata": "{}",
         "name": "Pressure_in",
         "type": "\"float\""
        },
        {
         "metadata": "{}",
         "name": "Visibility_mi",
         "type": "\"float\""
        },
        {
         "metadata": "{}",
         "name": "Wind_Speed_mph",
         "type": "\"float\""
        },
        {
         "metadata": "{}",
         "name": "Amenity",
         "type": "\"string\""
        },
        {
         "metadata": "{}",
         "name": "Bump",
         "type": "\"string\""
        },
        {
         "metadata": "{}",
         "name": "Crossing",
         "type": "\"string\""
        },
        {
         "metadata": "{}",
         "name": "Give_Way",
         "type": "\"string\""
        },
        {
         "metadata": "{}",
         "name": "Junction",
         "type": "\"string\""
        },
        {
         "metadata": "{}",
         "name": "No_Exit",
         "type": "\"string\""
        },
        {
         "metadata": "{}",
         "name": "Railway",
         "type": "\"string\""
        },
        {
         "metadata": "{}",
         "name": "Roundabout",
         "type": "\"string\""
        },
        {
         "metadata": "{}",
         "name": "Station",
         "type": "\"string\""
        },
        {
         "metadata": "{}",
         "name": "Stop",
         "type": "\"string\""
        },
        {
         "metadata": "{}",
         "name": "Traffic_Calming",
         "type": "\"string\""
        },
        {
         "metadata": "{}",
         "name": "Traffic_Signal",
         "type": "\"string\""
        },
        {
         "metadata": "{}",
         "name": "Turning_Loop",
         "type": "\"string\""
        },
        {
         "metadata": "{}",
         "name": "Sunrise_Sunset",
         "type": "\"string\""
        },
        {
         "metadata": "{}",
         "name": "Civil_Twilight",
         "type": "\"string\""
        },
        {
         "metadata": "{}",
         "name": "Nautical_Twilight",
         "type": "\"string\""
        },
        {
         "metadata": "{}",
         "name": "Astronomical_Twilight",
         "type": "\"string\""
        },
        {
         "metadata": "{}",
         "name": "accident_duration_mins",
         "type": "\"double\""
        }
       ],
       "type": "table"
      }
     },
     "output_type": "display_data"
    }
   ],
   "source": [
    "df_model = df.drop(\"ID\", \"Source\", \"Start_Time\", \"End_Time\", \"Start_Lat\", \"Start_Lng\", \"End_Lat\", \"End_Lng\", \"Street\", \"City\", \"County\", \"Zipcode\", \"Description\", \"Country\", \"Timezone\", \"Airport_Code\", \"Weather_Timestamp\", \"Wind_Direction\", \"Weather_Condition\", \"Distance_miles\", \"Precipitation_in\")\n",
    "df_model.limit(10).display()"
   ]
  },
  {
   "cell_type": "code",
   "execution_count": 0,
   "metadata": {
    "application/vnd.databricks.v1+cell": {
     "cellMetadata": {
      "byteLimit": 2048000,
      "rowLimit": 10000
     },
     "inputWidgets": {},
     "nuid": "5ffcc448-f039-41c7-b99d-35948df52e17",
     "showTitle": false,
     "title": ""
    }
   },
   "outputs": [],
   "source": [
    "label = \"Severity\"\n",
    "\n",
    "numerical_cols = ['Temperature_F', 'Wind_Chill_F', 'Humidity_percent', 'Pressure_in', 'Visibility_mi', 'Wind_Speed_mph', 'accident_duration_mins']\n",
    "\n",
    "cat_cols = ['State'] \n",
    "\n",
    "boolean_cols = ['Amenity', 'Crossing','Give_Way','Junction', 'Railway', 'Station','Stop','Traffic_Signal', 'Sunrise_Sunset', 'Civil_Twilight','Nautical_Twilight','Astronomical_Twilight']"
   ]
  },
  {
   "cell_type": "code",
   "execution_count": 0,
   "metadata": {
    "application/vnd.databricks.v1+cell": {
     "cellMetadata": {
      "byteLimit": 2048000,
      "rowLimit": 10000
     },
     "inputWidgets": {},
     "nuid": "6c9abfda-8e9b-4461-ae15-df40edcee924",
     "showTitle": false,
     "title": ""
    }
   },
   "outputs": [],
   "source": [
    "from pyspark.ml.feature import OneHotEncoder, StandardScaler, SQLTransformer, StringIndexer, VectorAssembler\n",
    "from pyspark.ml.classification import RandomForestClassifier, RandomForestClassificationModel\n",
    "from pyspark.ml import Pipeline, PipelineModel"
   ]
  },
  {
   "cell_type": "code",
   "execution_count": 0,
   "metadata": {
    "application/vnd.databricks.v1+cell": {
     "cellMetadata": {
      "byteLimit": 2048000,
      "rowLimit": 10000
     },
     "inputWidgets": {},
     "nuid": "f81d2d14-3ed2-4a2c-850a-9ed633867e91",
     "showTitle": false,
     "title": ""
    }
   },
   "outputs": [],
   "source": [
    "\n",
    "# df_model_si = si.fit(df_model_limit_10).transform(df_model_limit_10)\n",
    "# df_model_si.display()\n",
    "\n",
    "# df_model_ohe = ohe.fit(df_model_si).transform(df_model_si)\n",
    "# df_model_ohe.display()\n",
    "\n",
    "# df_model_num_va = va.transform(df_model_ohe)\n",
    "# df_model_num_va.limit(10).display()\n",
    "\n",
    "# df_model_scaled = sc.fit(df_model_num_va).transform(df_model_num_va)\n",
    "# df_model_scaled.limit(10).display()\n",
    "\n",
    "#df_model_va = va_features.transform(df_model_scaled)\n",
    "# df_model_va.limit(10).display()"
   ]
  },
  {
   "cell_type": "code",
   "execution_count": 0,
   "metadata": {
    "application/vnd.databricks.v1+cell": {
     "cellMetadata": {
      "byteLimit": 2048000,
      "rowLimit": 10000
     },
     "inputWidgets": {},
     "nuid": "a73d5e77-26ce-4bfe-ac59-57762e3e83fc",
     "showTitle": false,
     "title": ""
    }
   },
   "outputs": [],
   "source": [
    "# cat_cols_ohe\n",
    "si_input_cols = cat_cols + boolean_cols\n",
    "si_output_cols = [ col+\"_si\" for col in si_input_cols]\n",
    "ohe_input_cols = [ col+\"_si\" for col in cat_cols ]\n",
    "ohe_output_cols = [ col+\"_ohe\" for col in cat_cols ]\n",
    "\n",
    "\n",
    "si = StringIndexer(inputCols=si_input_cols, outputCols=si_output_cols, handleInvalid='keep')\n",
    "ohe = OneHotEncoder(inputCols=ohe_input_cols, outputCols=ohe_output_cols, handleInvalid='keep')\n",
    "va = VectorAssembler(inputCols = numerical_cols, outputCol=\"numerical_features\")\n",
    "sc = StandardScaler(inputCol=\"numerical_features\", outputCol=\"numerical_scaled\")\n",
    "\n",
    "#combine all ohe + SI + sc\n",
    "input_features = [col+\"_ohe\" for col in cat_cols] + [col+\"_si\" for col in boolean_cols] + [sc.\n",
    "getOutputCol()]\n",
    "va_features = VectorAssembler(inputCols=input_features, outputCol=\"features\")\n"
   ]
  },
  {
   "cell_type": "code",
   "execution_count": 0,
   "metadata": {
    "application/vnd.databricks.v1+cell": {
     "cellMetadata": {
      "byteLimit": 2048000,
      "rowLimit": 10000
     },
     "inputWidgets": {},
     "nuid": "18e5c7e0-6d5c-4ddb-abe9-ceabc869f14c",
     "showTitle": false,
     "title": ""
    }
   },
   "outputs": [
    {
     "output_type": "stream",
     "name": "stdout",
     "output_type": "stream",
     "text": [
      "There are 35350 training and 15213 test points.\n"
     ]
    }
   ],
   "source": [
    "training, test = df_model.randomSplit([0.7, 0.3], 0)\n",
    " \n",
    "training.cache()\n",
    "test.cache()\n",
    " \n",
    "print(\"There are {} training and {} test points.\".format(training.count(), test.count()))"
   ]
  },
  {
   "cell_type": "code",
   "execution_count": 0,
   "metadata": {
    "application/vnd.databricks.v1+cell": {
     "cellMetadata": {
      "byteLimit": 2048000,
      "rowLimit": 10000
     },
     "inputWidgets": {},
     "nuid": "046e34d7-7c45-4f7c-add6-d2ea70567761",
     "showTitle": false,
     "title": ""
    }
   },
   "outputs": [
    {
     "output_type": "execute_result",
     "data": {
      "text/plain": [
       "(0.6969087611387115, 1.7696235482579095)"
      ]
     },
     "execution_count": 9,
     "metadata": {},
     "output_type": "execute_result"
    }
   ],
   "source": [
    "no_of_classes = training.selectExpr(\"Severity\").distinct().count()\n",
    "overall_count = training.count()\n",
    "class_0, class_1 = training.groupBy(\"Severity\").count().orderBy(\"count\", ascending=False).collect()[0], training.groupBy(\"Severity\").count().orderBy(\"count\", ascending=False).collect()[1] # access class_0[1], class_1[1] to get each class counts\n",
    "zero_wt = overall_count/(no_of_classes * class_0[1])\n",
    "non_zero_wt = overall_count/(no_of_classes * class_1[1])\n",
    "\n",
    "zero_wt, non_zero_wt"
   ]
  },
  {
   "cell_type": "code",
   "execution_count": 0,
   "metadata": {
    "application/vnd.databricks.v1+cell": {
     "cellMetadata": {
      "byteLimit": 2048000,
      "rowLimit": 10000
     },
     "inputWidgets": {},
     "nuid": "1ed09085-de75-431a-8816-de80cb1d9e59",
     "showTitle": false,
     "title": ""
    }
   },
   "outputs": [
    {
     "output_type": "display_data",
     "data": {
      "text/html": [
       "<style scoped>\n",
       "  .table-result-container {\n",
       "    max-height: 300px;\n",
       "    overflow: auto;\n",
       "  }\n",
       "  table, th, td {\n",
       "    border: 1px solid black;\n",
       "    border-collapse: collapse;\n",
       "  }\n",
       "  th, td {\n",
       "    padding: 5px;\n",
       "  }\n",
       "  th {\n",
       "    text-align: left;\n",
       "  }\n",
       "</style><div class='table-result-container'><table class='table-result'><thead style='background-color: white'><tr><th>Severity</th><th>State</th><th>Temperature_F</th><th>Wind_Chill_F</th><th>Humidity_percent</th><th>Pressure_in</th><th>Visibility_mi</th><th>Wind_Speed_mph</th><th>Amenity</th><th>Bump</th><th>Crossing</th><th>Give_Way</th><th>Junction</th><th>No_Exit</th><th>Railway</th><th>Roundabout</th><th>Station</th><th>Stop</th><th>Traffic_Calming</th><th>Traffic_Signal</th><th>Turning_Loop</th><th>Sunrise_Sunset</th><th>Civil_Twilight</th><th>Nautical_Twilight</th><th>Astronomical_Twilight</th><th>accident_duration_mins</th><th>weightCol</th></tr></thead><tbody><tr><td>0.0</td><td>AL</td><td>34.0</td><td>27.0</td><td>82.0</td><td>29.5</td><td>10.0</td><td>9.0</td><td>False</td><td>False</td><td>False</td><td>False</td><td>False</td><td>False</td><td>False</td><td>False</td><td>False</td><td>False</td><td>False</td><td>False</td><td>False</td><td>Night</td><td>Night</td><td>Night</td><td>Day</td><td>29.7</td><td>0.6969087611387115</td></tr><tr><td>0.0</td><td>AL</td><td>35.1</td><td>27.9</td><td>92.0</td><td>29.95</td><td>10.0</td><td>9.2</td><td>False</td><td>False</td><td>True</td><td>False</td><td>False</td><td>False</td><td>False</td><td>False</td><td>False</td><td>False</td><td>False</td><td>False</td><td>False</td><td>Night</td><td>Night</td><td>Night</td><td>Night</td><td>29.9</td><td>0.6969087611387115</td></tr><tr><td>0.0</td><td>AL</td><td>37.6</td><td>31.0</td><td>84.0</td><td>30.43</td><td>5.0</td><td>9.2</td><td>False</td><td>False</td><td>False</td><td>False</td><td>False</td><td>False</td><td>False</td><td>False</td><td>False</td><td>False</td><td>False</td><td>True</td><td>False</td><td>Day</td><td>Day</td><td>Day</td><td>Day</td><td>29.733333333333334</td><td>0.6969087611387115</td></tr><tr><td>0.0</td><td>AL</td><td>38.5</td><td>33.4</td><td>98.0</td><td>30.17</td><td>5.0</td><td>6.9</td><td>False</td><td>False</td><td>False</td><td>False</td><td>False</td><td>False</td><td>False</td><td>False</td><td>False</td><td>False</td><td>False</td><td>True</td><td>False</td><td>Night</td><td>Night</td><td>Night</td><td>Night</td><td>29.6</td><td>0.6969087611387115</td></tr><tr><td>0.0</td><td>AL</td><td>39.0</td><td>34.0</td><td>93.0</td><td>30.29</td><td>2.0</td><td>6.9</td><td>False</td><td>False</td><td>True</td><td>False</td><td>False</td><td>False</td><td>False</td><td>False</td><td>False</td><td>False</td><td>False</td><td>True</td><td>False</td><td>Day</td><td>Day</td><td>Day</td><td>Day</td><td>29.666666666666668</td><td>0.6969087611387115</td></tr></tbody></table></div>"
      ]
     },
     "metadata": {
      "application/vnd.databricks.v1+output": {
       "addedWidgets": {},
       "aggData": [],
       "aggError": "",
       "aggOverflow": false,
       "aggSchema": [],
       "aggSeriesLimitReached": false,
       "aggType": "",
       "arguments": {},
       "columnCustomDisplayInfos": {},
       "data": [
        [
         0.0,
         "AL",
         34.0,
         27.0,
         82.0,
         29.5,
         10.0,
         9.0,
         "False",
         "False",
         "False",
         "False",
         "False",
         "False",
         "False",
         "False",
         "False",
         "False",
         "False",
         "False",
         "False",
         "Night",
         "Night",
         "Night",
         "Day",
         29.7,
         0.6969087611387115
        ],
        [
         0.0,
         "AL",
         35.1,
         27.9,
         92.0,
         29.95,
         10.0,
         9.2,
         "False",
         "False",
         "True",
         "False",
         "False",
         "False",
         "False",
         "False",
         "False",
         "False",
         "False",
         "False",
         "False",
         "Night",
         "Night",
         "Night",
         "Night",
         29.9,
         0.6969087611387115
        ],
        [
         0.0,
         "AL",
         37.6,
         31.0,
         84.0,
         30.43,
         5.0,
         9.2,
         "False",
         "False",
         "False",
         "False",
         "False",
         "False",
         "False",
         "False",
         "False",
         "False",
         "False",
         "True",
         "False",
         "Day",
         "Day",
         "Day",
         "Day",
         29.733333333333334,
         0.6969087611387115
        ],
        [
         0.0,
         "AL",
         38.5,
         33.4,
         98.0,
         30.17,
         5.0,
         6.9,
         "False",
         "False",
         "False",
         "False",
         "False",
         "False",
         "False",
         "False",
         "False",
         "False",
         "False",
         "True",
         "False",
         "Night",
         "Night",
         "Night",
         "Night",
         29.6,
         0.6969087611387115
        ],
        [
         0.0,
         "AL",
         39.0,
         34.0,
         93.0,
         30.29,
         2.0,
         6.9,
         "False",
         "False",
         "True",
         "False",
         "False",
         "False",
         "False",
         "False",
         "False",
         "False",
         "False",
         "True",
         "False",
         "Day",
         "Day",
         "Day",
         "Day",
         29.666666666666668,
         0.6969087611387115
        ]
       ],
       "datasetInfos": [],
       "dbfsResultPath": null,
       "isJsonSchema": true,
       "metadata": {},
       "overflow": false,
       "plotOptions": {
        "customPlotOptions": {},
        "displayType": "table",
        "pivotAggregation": null,
        "pivotColumns": null,
        "xColumns": null,
        "yColumns": null
       },
       "removedWidgets": [],
       "schema": [
        {
         "metadata": "{}",
         "name": "Severity",
         "type": "\"double\""
        },
        {
         "metadata": "{}",
         "name": "State",
         "type": "\"string\""
        },
        {
         "metadata": "{}",
         "name": "Temperature_F",
         "type": "\"float\""
        },
        {
         "metadata": "{}",
         "name": "Wind_Chill_F",
         "type": "\"float\""
        },
        {
         "metadata": "{}",
         "name": "Humidity_percent",
         "type": "\"float\""
        },
        {
         "metadata": "{}",
         "name": "Pressure_in",
         "type": "\"float\""
        },
        {
         "metadata": "{}",
         "name": "Visibility_mi",
         "type": "\"float\""
        },
        {
         "metadata": "{}",
         "name": "Wind_Speed_mph",
         "type": "\"float\""
        },
        {
         "metadata": "{}",
         "name": "Amenity",
         "type": "\"string\""
        },
        {
         "metadata": "{}",
         "name": "Bump",
         "type": "\"string\""
        },
        {
         "metadata": "{}",
         "name": "Crossing",
         "type": "\"string\""
        },
        {
         "metadata": "{}",
         "name": "Give_Way",
         "type": "\"string\""
        },
        {
         "metadata": "{}",
         "name": "Junction",
         "type": "\"string\""
        },
        {
         "metadata": "{}",
         "name": "No_Exit",
         "type": "\"string\""
        },
        {
         "metadata": "{}",
         "name": "Railway",
         "type": "\"string\""
        },
        {
         "metadata": "{}",
         "name": "Roundabout",
         "type": "\"string\""
        },
        {
         "metadata": "{}",
         "name": "Station",
         "type": "\"string\""
        },
        {
         "metadata": "{}",
         "name": "Stop",
         "type": "\"string\""
        },
        {
         "metadata": "{}",
         "name": "Traffic_Calming",
         "type": "\"string\""
        },
        {
         "metadata": "{}",
         "name": "Traffic_Signal",
         "type": "\"string\""
        },
        {
         "metadata": "{}",
         "name": "Turning_Loop",
         "type": "\"string\""
        },
        {
         "metadata": "{}",
         "name": "Sunrise_Sunset",
         "type": "\"string\""
        },
        {
         "metadata": "{}",
         "name": "Civil_Twilight",
         "type": "\"string\""
        },
        {
         "metadata": "{}",
         "name": "Nautical_Twilight",
         "type": "\"string\""
        },
        {
         "metadata": "{}",
         "name": "Astronomical_Twilight",
         "type": "\"string\""
        },
        {
         "metadata": "{}",
         "name": "accident_duration_mins",
         "type": "\"double\""
        },
        {
         "metadata": "{}",
         "name": "weightCol",
         "type": "\"double\""
        }
       ],
       "type": "table"
      }
     },
     "output_type": "display_data"
    }
   ],
   "source": [
    "training = training.withColumn(\"weightCol\", F.when(training.Severity == 0, zero_wt).otherwise(non_zero_wt))\n",
    "\n",
    "training.limit(5).display()"
   ]
  },
  {
   "cell_type": "code",
   "execution_count": 0,
   "metadata": {
    "application/vnd.databricks.v1+cell": {
     "cellMetadata": {
      "byteLimit": 2048000,
      "rowLimit": 10000
     },
     "inputWidgets": {},
     "nuid": "31c70b74-b442-42f9-9101-508ec9bc1325",
     "showTitle": false,
     "title": ""
    }
   },
   "outputs": [],
   "source": [
    "# StringIndexer: Convert the input column \"label\" (digits) to categorical values\n",
    "# indexer = StringIndexer(inputCol=\"label\", outputCol=\"indexedLabel\")\n",
    "# DecisionTreeClassifier: Learn to predict column \"indexedLabel\" using the \"features\" column\n",
    "# dtc = DecisionTreeClassifier(labelCol=\"indexedLabel\")\n",
    "rf = RandomForestClassifier(featuresCol='features', labelCol=\"Severity\", weightCol='weightCol')\n",
    "# Chain indexer + dtc together into a single ML Pipeline\n",
    "pipeline = Pipeline(stages=[si, ohe, va, sc, va_features, rf])"
   ]
  },
  {
   "cell_type": "code",
   "execution_count": 0,
   "metadata": {
    "application/vnd.databricks.v1+cell": {
     "cellMetadata": {
      "byteLimit": 2048000,
      "rowLimit": 10000
     },
     "inputWidgets": {},
     "nuid": "f7e14203-fab6-478a-944a-8f9fc2338275",
     "showTitle": false,
     "title": ""
    }
   },
   "outputs": [],
   "source": [
    "# Create an evaluator.  In this case, use \"weightedPrecision\".\n",
    "from pyspark.ml.evaluation import BinaryClassificationEvaluator\n",
    "evaluator = BinaryClassificationEvaluator(labelCol=\"Severity\", metricName=\"areaUnderPR\", weightCol='weightCol')\n",
    "evaluator_roc = BinaryClassificationEvaluator(labelCol=\"Severity\", metricName=\"areaUnderROC\", weightCol='weightCol')"
   ]
  },
  {
   "cell_type": "code",
   "execution_count": 0,
   "metadata": {
    "application/vnd.databricks.v1+cell": {
     "cellMetadata": {
      "byteLimit": 2048000,
      "rowLimit": 10000
     },
     "inputWidgets": {},
     "nuid": "4903caa2-c609-4dc9-8d8d-66c1671dfcb5",
     "showTitle": false,
     "title": ""
    }
   },
   "outputs": [],
   "source": [
    "from pyspark.ml.tuning import CrossValidator, ParamGridBuilder"
   ]
  },
  {
   "cell_type": "code",
   "execution_count": 0,
   "metadata": {
    "application/vnd.databricks.v1+cell": {
     "cellMetadata": {
      "byteLimit": 2048000,
      "rowLimit": 10000
     },
     "inputWidgets": {},
     "nuid": "995c1c07-2cb9-421f-bfbf-8daee7bc747f",
     "showTitle": false,
     "title": ""
    }
   },
   "outputs": [
    {
     "output_type": "display_data",
     "data": {
      "application/vnd.jupyter.widget-view+json": {
       "model_id": "2579c593f2b84d089144ca4c00f29330",
       "version_major": 2,
       "version_minor": 0
      },
      "text/plain": [
       "Downloading artifacts:   0%|          | 0/5324 [00:00<?, ?it/s]"
      ]
     },
     "metadata": {},
     "output_type": "display_data"
    },
    {
     "output_type": "display_data",
     "data": {
      "application/vnd.jupyter.widget-view+json": {
       "model_id": "645a70c657404c978e3d7fadd9345de2",
       "version_major": 2,
       "version_minor": 0
      },
      "text/plain": [
       "Uploading artifacts:   0%|          | 0/4 [00:00<?, ?it/s]"
      ]
     },
     "metadata": {},
     "output_type": "display_data"
    },
    {
     "output_type": "display_data",
     "data": {
      "application/vnd.jupyter.widget-view+json": {
       "model_id": "d5b1b58517ff4c34bd37e84e30b22c79",
       "version_major": 2,
       "version_minor": 0
      },
      "text/plain": [
       "Downloading artifacts:   0%|          | 0/39 [00:00<?, ?it/s]"
      ]
     },
     "metadata": {},
     "output_type": "display_data"
    },
    {
     "output_type": "display_data",
     "data": {
      "application/vnd.jupyter.widget-view+json": {
       "model_id": "a2c4164ac4144e349c6f33cc33a45660",
       "version_major": 2,
       "version_minor": 0
      },
      "text/plain": [
       "Uploading artifacts:   0%|          | 0/4 [00:00<?, ?it/s]"
      ]
     },
     "metadata": {},
     "output_type": "display_data"
    }
   ],
   "source": [
    "from pyspark.ml.tuning import ParamGridBuilder, CrossValidator\n",
    "# Other imports and your model setup\n",
    "\n",
    "# Set up the parameter grid\n",
    "# grid = ParamGridBuilder() \\\n",
    "#     .addGrid(dtc.maxDepth, [4, 6]) \\\n",
    "#     .addGrid(dtc.maxBins, [4, 6]) \\\n",
    "#     .build()\n",
    "\n",
    "grid = ParamGridBuilder() \\\n",
    "    .addGrid(rf.numTrees, [10, 20, 30]) \\\n",
    "    .addGrid(rf.maxDepth, [5, 10, 15]) \\\n",
    "    .addGrid(rf.thresholds, [[0.2, 0.1], [0.3, 0.2], [0.5, 0.2]]) \\\n",
    "    .build()\n",
    "\n",
    "# Set up cross-validation\n",
    "# cv = CrossValidator(estimator=pipeline, evaluator=evaluator, estimatorParamMaps=grid, numFolds=3)\n",
    "cv = CrossValidator(\n",
    "    estimator=pipeline, \n",
    "    estimatorParamMaps=grid, \n",
    "    evaluator=evaluator_roc, \n",
    "    numFolds=5,\n",
    "    collectSubModels=True  # Ensure this is set to True\n",
    ")\n",
    "\n",
    "# Run cross-validation\n",
    "cvModel = cv.fit(training)"
   ]
  },
  {
   "cell_type": "code",
   "execution_count": 0,
   "metadata": {
    "application/vnd.databricks.v1+cell": {
     "cellMetadata": {
      "byteLimit": 2048000,
      "rowLimit": 10000
     },
     "inputWidgets": {},
     "nuid": "d7361493-2425-4ee0-92cb-97a3cbbffdae",
     "showTitle": false,
     "title": ""
    }
   },
   "outputs": [],
   "source": [
    "pipeline_path = \"dbfs:/FileStore/artifacts/pipeline_accidents/rf_weighted\"\n",
    "pipeline_model_path = \"dbfs:/FileStore/artifacts/pipeline_model_accidents/rf_weighted\"\n",
    "\n",
    "pipeline.write().overwrite().save(pipeline_path)\n",
    "cvModel.bestModel.write().overwrite().save(pipeline_model_path)"
   ]
  },
  {
   "cell_type": "code",
   "execution_count": 0,
   "metadata": {
    "application/vnd.databricks.v1+cell": {
     "cellMetadata": {
      "byteLimit": 2048000,
      "rowLimit": 10000
     },
     "inputWidgets": {},
     "nuid": "c28bb9a6-6f46-4071-9cef-fdfc86151468",
     "showTitle": false,
     "title": ""
    }
   },
   "outputs": [],
   "source": [
    "from pyspark.ml import Pipeline, PipelineModel\n",
    "pipeline_for_inference = Pipeline.load(pipeline_path)\n",
    "pipeline_model_for_inference = PipelineModel.load(pipeline_model_path)"
   ]
  },
  {
   "cell_type": "code",
   "execution_count": 0,
   "metadata": {
    "application/vnd.databricks.v1+cell": {
     "cellMetadata": {
      "byteLimit": 2048000,
      "rowLimit": 10000
     },
     "inputWidgets": {},
     "nuid": "3b29d2dc-d25c-42c3-a1c9-a5946cfb30d5",
     "showTitle": false,
     "title": ""
    }
   },
   "outputs": [
    {
     "output_type": "display_data",
     "data": {
      "text/html": [
       "<style scoped>\n",
       "  .table-result-container {\n",
       "    max-height: 300px;\n",
       "    overflow: auto;\n",
       "  }\n",
       "  table, th, td {\n",
       "    border: 1px solid black;\n",
       "    border-collapse: collapse;\n",
       "  }\n",
       "  th, td {\n",
       "    padding: 5px;\n",
       "  }\n",
       "  th {\n",
       "    text-align: left;\n",
       "  }\n",
       "</style><div class='table-result-container'><table class='table-result'><thead style='background-color: white'><tr><th>Severity</th><th>State</th><th>Temperature_F</th><th>Wind_Chill_F</th><th>Humidity_percent</th><th>Pressure_in</th><th>Visibility_mi</th><th>Wind_Speed_mph</th><th>Amenity</th><th>Bump</th><th>Crossing</th><th>Give_Way</th><th>Junction</th><th>No_Exit</th><th>Railway</th><th>Roundabout</th><th>Station</th><th>Stop</th><th>Traffic_Calming</th><th>Traffic_Signal</th><th>Turning_Loop</th><th>Sunrise_Sunset</th><th>Civil_Twilight</th><th>Nautical_Twilight</th><th>Astronomical_Twilight</th><th>accident_duration_mins</th><th>weightCol</th><th>State_si</th><th>Amenity_si</th><th>Crossing_si</th><th>Give_Way_si</th><th>Junction_si</th><th>Railway_si</th><th>Station_si</th><th>Stop_si</th><th>Traffic_Signal_si</th><th>Sunrise_Sunset_si</th><th>Civil_Twilight_si</th><th>Nautical_Twilight_si</th><th>Astronomical_Twilight_si</th><th>State_ohe</th><th>numerical_features</th><th>numerical_scaled</th><th>features</th><th>rawPrediction</th><th>probability</th><th>prediction</th></tr></thead><tbody><tr><td>0.0</td><td>AL</td><td>26.0</td><td>16.0</td><td>44.0</td><td>29.58</td><td>10.0</td><td>12.0</td><td>False</td><td>False</td><td>False</td><td>False</td><td>False</td><td>False</td><td>False</td><td>False</td><td>False</td><td>False</td><td>False</td><td>False</td><td>False</td><td>Day</td><td>Day</td><td>Day</td><td>Day</td><td>59.71666666666667</td><td>1</td><td>18.0</td><td>0.0</td><td>0.0</td><td>0.0</td><td>0.0</td><td>0.0</td><td>0.0</td><td>0.0</td><td>0.0</td><td>0.0</td><td>0.0</td><td>0.0</td><td>0.0</td><td>Map(vectorType -> sparse, length -> 48, indices -> List(18), values -> List(1.0))</td><td>Map(vectorType -> dense, length -> 7, values -> List(26.0, 16.0, 44.0, 29.579999923706055, 10.0, 12.0, 59.71666666666667))</td><td>Map(vectorType -> dense, length -> 7, values -> List(1.33717909079366, 0.7281454147755491, 1.9368537717406695, 25.97675222849733, 3.3518943006431408, 2.240165932825109, 0.019251490980561246))</td><td>Map(vectorType -> sparse, length -> 67, indices -> List(18, 60, 61, 62, 63, 64, 65, 66), values -> List(1.0, 1.33717909079366, 0.7281454147755491, 1.9368537717406695, 25.97675222849733, 3.3518943006431408, 2.240165932825109, 0.019251490980561246))</td><td>Map(vectorType -> dense, length -> 2, values -> List(11.929847024212636, 18.07015297578737))</td><td>Map(vectorType -> dense, length -> 2, values -> List(0.3976615674737544, 0.6023384325262455))</td><td>1.0</td></tr><tr><td>0.0</td><td>AL</td><td>37.9</td><td>32.7</td><td>93.0</td><td>30.25</td><td>10.0</td><td>6.9</td><td>False</td><td>False</td><td>False</td><td>False</td><td>False</td><td>False</td><td>False</td><td>False</td><td>False</td><td>False</td><td>False</td><td>True</td><td>False</td><td>Night</td><td>Night</td><td>Night</td><td>Day</td><td>29.6</td><td>1</td><td>18.0</td><td>0.0</td><td>0.0</td><td>0.0</td><td>0.0</td><td>0.0</td><td>0.0</td><td>0.0</td><td>1.0</td><td>1.0</td><td>1.0</td><td>1.0</td><td>0.0</td><td>Map(vectorType -> sparse, length -> 48, indices -> List(18), values -> List(1.0))</td><td>Map(vectorType -> dense, length -> 7, values -> List(37.900001525878906, 32.70000076293945, 93.0, 30.25, 10.0, 6.900000095367432, 29.6))</td><td>Map(vectorType -> dense, length -> 7, values -> List(1.9491957531328108, 1.4881472261682074, 4.093804562997325, 26.56513715141323, 3.3518943006431408, 1.2880954291776767, 0.009542463851933233))</td><td>Map(vectorType -> sparse, length -> 67, indices -> List(18, 55, 56, 57, 58, 60, 61, 62, 63, 64, 65, 66), values -> List(1.0, 1.0, 1.0, 1.0, 1.0, 1.9491957531328108, 1.4881472261682074, 4.093804562997325, 26.56513715141323, 3.3518943006431408, 1.2880954291776767, 0.009542463851933233))</td><td>Map(vectorType -> dense, length -> 2, values -> List(21.55359929349775, 8.446400706502248))</td><td>Map(vectorType -> dense, length -> 2, values -> List(0.7184533097832584, 0.28154669021674156))</td><td>0.0</td></tr><tr><td>0.0</td><td>AL</td><td>40.0</td><td>40.0</td><td>94.0</td><td>29.16</td><td>8.0</td><td>0.0</td><td>False</td><td>False</td><td>False</td><td>False</td><td>False</td><td>False</td><td>False</td><td>False</td><td>False</td><td>False</td><td>False</td><td>False</td><td>False</td><td>Day</td><td>Day</td><td>Day</td><td>Day</td><td>104.76666666666667</td><td>1</td><td>18.0</td><td>0.0</td><td>0.0</td><td>0.0</td><td>0.0</td><td>0.0</td><td>0.0</td><td>0.0</td><td>0.0</td><td>0.0</td><td>0.0</td><td>0.0</td><td>0.0</td><td>Map(vectorType -> sparse, length -> 48, indices -> List(18), values -> List(1.0))</td><td>Map(vectorType -> dense, length -> 7, values -> List(40.0, 40.0, 94.0, 29.15999984741211, 8.0, 0.0, 104.76666666666667))</td><td>Map(vectorType -> dense, length -> 7, values -> List(2.0571986012210153, 1.8203635369388727, 4.1378239669005215, 25.607913893609638, 2.6815154405145125, 0.0, 0.033774734106560976))</td><td>Map(vectorType -> sparse, length -> 67, indices -> List(18, 60, 61, 62, 63, 64, 66), values -> List(1.0, 2.0571986012210153, 1.8203635369388727, 4.1378239669005215, 25.607913893609638, 2.6815154405145125, 0.033774734106560976))</td><td>Map(vectorType -> dense, length -> 2, values -> List(14.241550912918706, 15.758449087081292))</td><td>Map(vectorType -> dense, length -> 2, values -> List(0.4747183637639569, 0.5252816362360431))</td><td>1.0</td></tr><tr><td>0.0</td><td>AL</td><td>49.0</td><td>49.0</td><td>54.0</td><td>29.72</td><td>10.0</td><td>0.0</td><td>False</td><td>False</td><td>False</td><td>False</td><td>False</td><td>False</td><td>False</td><td>False</td><td>False</td><td>False</td><td>False</td><td>False</td><td>False</td><td>Day</td><td>Day</td><td>Day</td><td>Day</td><td>59.71666666666667</td><td>1</td><td>18.0</td><td>0.0</td><td>0.0</td><td>0.0</td><td>0.0</td><td>0.0</td><td>0.0</td><td>0.0</td><td>0.0</td><td>0.0</td><td>0.0</td><td>0.0</td><td>0.0</td><td>Map(vectorType -> sparse, length -> 48, indices -> List(18), values -> List(1.0))</td><td>Map(vectorType -> dense, length -> 7, values -> List(49.0, 49.0, 54.0, 29.719999313354492, 10.0, 0.0, 59.71666666666667))</td><td>Map(vectorType -> dense, length -> 7, values -> List(2.5200682864957438, 2.229945332750119, 2.37704781077264, 26.099697781790713, 3.3518943006431408, 0.0, 0.019251490980561246))</td><td>Map(vectorType -> sparse, length -> 67, indices -> List(18, 60, 61, 62, 63, 64, 66), values -> List(1.0, 2.5200682864957438, 2.229945332750119, 2.37704781077264, 26.099697781790713, 3.3518943006431408, 0.019251490980561246))</td><td>Map(vectorType -> dense, length -> 2, values -> List(13.457220158160489, 16.542779841839508))</td><td>Map(vectorType -> dense, length -> 2, values -> List(0.44857400527201635, 0.5514259947279837))</td><td>1.0</td></tr><tr><td>0.0</td><td>AL</td><td>53.0</td><td>53.0</td><td>55.0</td><td>29.22</td><td>10.0</td><td>6.0</td><td>False</td><td>False</td><td>False</td><td>True</td><td>False</td><td>False</td><td>False</td><td>False</td><td>False</td><td>True</td><td>False</td><td>False</td><td>False</td><td>Night</td><td>Night</td><td>Day</td><td>Day</td><td>29.683333333333334</td><td>1</td><td>18.0</td><td>0.0</td><td>0.0</td><td>1.0</td><td>0.0</td><td>0.0</td><td>0.0</td><td>1.0</td><td>0.0</td><td>1.0</td><td>1.0</td><td>0.0</td><td>0.0</td><td>Map(vectorType -> sparse, length -> 48, indices -> List(18), values -> List(1.0))</td><td>Map(vectorType -> dense, length -> 7, values -> List(53.0, 53.0, 55.0, 29.219999313354492, 10.0, 6.0, 29.683333333333334))</td><td>Map(vectorType -> dense, length -> 7, values -> List(2.725788146617845, 2.4119816864440065, 2.421067214675837, 25.660604605734296, 3.3518943006431408, 1.1200829664125544, 0.009569328896561423))</td><td>Map(vectorType -> sparse, length -> 67, indices -> List(18, 50, 54, 56, 57, 60, 61, 62, 63, 64, 65, 66), values -> List(1.0, 1.0, 1.0, 1.0, 1.0, 2.725788146617845, 2.4119816864440065, 2.421067214675837, 25.660604605734296, 3.3518943006431408, 1.1200829664125544, 0.009569328896561423))</td><td>Map(vectorType -> dense, length -> 2, values -> List(18.62035780284991, 11.379642197150087))</td><td>Map(vectorType -> dense, length -> 2, values -> List(0.6206785934283304, 0.37932140657166963))</td><td>1.0</td></tr><tr><td>0.0</td><td>AL</td><td>60.0</td><td>60.0</td><td>75.0</td><td>29.58</td><td>10.0</td><td>0.0</td><td>False</td><td>False</td><td>False</td><td>False</td><td>False</td><td>False</td><td>False</td><td>False</td><td>False</td><td>False</td><td>False</td><td>False</td><td>False</td><td>Day</td><td>Day</td><td>Day</td><td>Day</td><td>104.61666666666666</td><td>1</td><td>18.0</td><td>0.0</td><td>0.0</td><td>0.0</td><td>0.0</td><td>0.0</td><td>0.0</td><td>0.0</td><td>0.0</td><td>0.0</td><td>0.0</td><td>0.0</td><td>0.0</td><td>Map(vectorType -> sparse, length -> 48, indices -> List(18), values -> List(1.0))</td><td>Map(vectorType -> dense, length -> 7, values -> List(60.0, 60.0, 75.0, 29.579999923706055, 10.0, 0.0, 104.61666666666666))</td><td>Map(vectorType -> dense, length -> 7, values -> List(3.0857979018315227, 2.730545305408309, 3.3014552927397776, 25.97675222849733, 3.3518943006431408, 0.0, 0.033726377026230235))</td><td>Map(vectorType -> sparse, length -> 67, indices -> List(18, 60, 61, 62, 63, 64, 66), values -> List(1.0, 3.0857979018315227, 2.730545305408309, 3.3014552927397776, 25.97675222849733, 3.3518943006431408, 0.033726377026230235))</td><td>Map(vectorType -> dense, length -> 2, values -> List(13.431743580684234, 16.568256419315766))</td><td>Map(vectorType -> dense, length -> 2, values -> List(0.4477247860228078, 0.5522752139771921))</td><td>1.0</td></tr><tr><td>0.0</td><td>AL</td><td>60.0</td><td>60.0</td><td>95.0</td><td>29.06</td><td>10.0</td><td>5.0</td><td>False</td><td>False</td><td>False</td><td>False</td><td>False</td><td>False</td><td>False</td><td>False</td><td>False</td><td>False</td><td>False</td><td>True</td><td>False</td><td>Night</td><td>Night</td><td>Night</td><td>Night</td><td>29.633333333333333</td><td>1</td><td>18.0</td><td>0.0</td><td>0.0</td><td>0.0</td><td>0.0</td><td>0.0</td><td>0.0</td><td>0.0</td><td>1.0</td><td>1.0</td><td>1.0</td><td>1.0</td><td>1.0</td><td>Map(vectorType -> sparse, length -> 48, indices -> List(18), values -> List(1.0))</td><td>Map(vectorType -> dense, length -> 7, values -> List(60.0, 60.0, 95.0, 29.059999465942383, 10.0, 5.0, 29.633333333333333))</td><td>Map(vectorType -> dense, length -> 7, values -> List(3.0857979018315227, 2.730545305408309, 4.181843370803718, 25.520094923396847, 3.3518943006431408, 0.9334024720104619, 0.009553209869784508))</td><td>Map(vectorType -> sparse, length -> 67, indices -> List(18, 55, 56, 57, 58, 59, 60, 61, 62, 63, 64, 65, 66), values -> List(1.0, 1.0, 1.0, 1.0, 1.0, 1.0, 3.0857979018315227, 2.730545305408309, 4.181843370803718, 25.520094923396847, 3.3518943006431408, 0.9334024720104619, 0.009553209869784508))</td><td>Map(vectorType -> dense, length -> 2, values -> List(21.11466326802865, 8.885336731971348))</td><td>Map(vectorType -> dense, length -> 2, values -> List(0.7038221089342883, 0.29617789106571163))</td><td>1.0</td></tr><tr><td>0.0</td><td>AL</td><td>62.0</td><td>62.0</td><td>67.0</td><td>30.06</td><td>10.0</td><td>3.0</td><td>False</td><td>False</td><td>False</td><td>False</td><td>False</td><td>False</td><td>False</td><td>False</td><td>False</td><td>False</td><td>False</td><td>True</td><td>False</td><td>Night</td><td>Night</td><td>Day</td><td>Day</td><td>74.7</td><td>1</td><td>18.0</td><td>0.0</td><td>0.0</td><td>0.0</td><td>0.0</td><td>0.0</td><td>0.0</td><td>0.0</td><td>1.0</td><td>1.0</td><td>1.0</td><td>0.0</td><td>0.0</td><td>Map(vectorType -> sparse, length -> 48, indices -> List(18), values -> List(1.0))</td><td>Map(vectorType -> dense, length -> 7, values -> List(62.0, 62.0, 67.0, 30.059999465942383, 10.0, 3.0, 74.7))</td><td>Map(vectorType -> dense, length -> 7, values -> List(3.1886578318925736, 2.8215634822552524, 2.9493000615142013, 26.39828127550968, 3.3518943006431408, 0.5600414832062772, 0.024081826004709882))</td><td>Map(vectorType -> sparse, length -> 67, indices -> List(18, 55, 56, 57, 60, 61, 62, 63, 64, 65, 66), values -> List(1.0, 1.0, 1.0, 1.0, 3.1886578318925736, 2.8215634822552524, 2.9493000615142013, 26.39828127550968, 3.3518943006431408, 0.5600414832062772, 0.024081826004709882))</td><td>Map(vectorType -> dense, length -> 2, values -> List(26.200291151191102, 3.7997088488088955))</td><td>Map(vectorType -> dense, length -> 2, values -> List(0.8733430383730368, 0.1266569616269632))</td><td>0.0</td></tr><tr><td>0.0</td><td>AL</td><td>63.0</td><td>63.0</td><td>97.0</td><td>29.8</td><td>10.0</td><td>8.0</td><td>False</td><td>False</td><td>False</td><td>False</td><td>False</td><td>False</td><td>False</td><td>False</td><td>False</td><td>False</td><td>False</td><td>False</td><td>False</td><td>Night</td><td>Day</td><td>Day</td><td>Day</td><td>59.53333333333333</td><td>1</td><td>18.0</td><td>0.0</td><td>0.0</td><td>0.0</td><td>0.0</td><td>0.0</td><td>0.0</td><td>0.0</td><td>0.0</td><td>1.0</td><td>0.0</td><td>0.0</td><td>0.0</td><td>Map(vectorType -> sparse, length -> 48, indices -> List(18), values -> List(1.0))</td><td>Map(vectorType -> dense, length -> 7, values -> List(63.0, 63.0, 97.0, 29.799999237060547, 10.0, 8.0, 59.53333333333333))</td><td>Map(vectorType -> dense, length -> 7, values -> List(3.240087796923099, 2.8670725706787246, 4.269882178610112, 26.16995262295944, 3.3518943006431408, 1.4934439552167391, 0.019192387882379227))</td><td>Map(vectorType -> sparse, length -> 67, indices -> List(18, 56, 60, 61, 62, 63, 64, 65, 66), values -> List(1.0, 1.0, 3.240087796923099, 2.8670725706787246, 4.269882178610112, 26.16995262295944, 3.3518943006431408, 1.4934439552167391, 0.019192387882379227))</td><td>Map(vectorType -> dense, length -> 2, values -> List(11.915023918010712, 18.084976081989293))</td><td>Map(vectorType -> dense, length -> 2, values -> List(0.39716746393369035, 0.6028325360663096))</td><td>1.0</td></tr><tr><td>0.0</td><td>AL</td><td>67.0</td><td>67.0</td><td>68.0</td><td>29.27</td><td>9.0</td><td>8.0</td><td>False</td><td>False</td><td>False</td><td>False</td><td>False</td><td>False</td><td>False</td><td>False</td><td>False</td><td>False</td><td>False</td><td>True</td><td>False</td><td>Day</td><td>Day</td><td>Day</td><td>Day</td><td>90.7</td><td>1</td><td>18.0</td><td>0.0</td><td>0.0</td><td>0.0</td><td>0.0</td><td>0.0</td><td>0.0</td><td>0.0</td><td>1.0</td><td>0.0</td><td>0.0</td><td>0.0</td><td>0.0</td><td>Map(vectorType -> sparse, length -> 48, indices -> List(18), values -> List(1.0))</td><td>Map(vectorType -> dense, length -> 7, values -> List(67.0, 67.0, 68.0, 29.270000457763672, 9.0, 8.0, 90.7))</td><td>Map(vectorType -> dense, length -> 7, values -> List(3.4458076570452008, 3.0491089243726117, 2.9933194654173985, 25.704514928344462, 3.0167048705788266, 1.4934439552167391, 0.02923991457332244))</td><td>Map(vectorType -> sparse, length -> 67, indices -> List(18, 55, 60, 61, 62, 63, 64, 65, 66), values -> List(1.0, 1.0, 3.4458076570452008, 3.0491089243726117, 2.9933194654173985, 25.704514928344462, 3.0167048705788266, 1.4934439552167391, 0.02923991457332244))</td><td>Map(vectorType -> dense, length -> 2, values -> List(26.579547116088875, 3.4204528839111226))</td><td>Map(vectorType -> dense, length -> 2, values -> List(0.8859849038696292, 0.11401509613037077))</td><td>0.0</td></tr></tbody></table></div>"
      ]
     },
     "metadata": {
      "application/vnd.databricks.v1+output": {
       "addedWidgets": {},
       "aggData": [],
       "aggError": "",
       "aggOverflow": false,
       "aggSchema": [],
       "aggSeriesLimitReached": false,
       "aggType": "",
       "arguments": {},
       "columnCustomDisplayInfos": {},
       "data": [
        [
         0.0,
         "AL",
         26.0,
         16.0,
         44.0,
         29.58,
         10.0,
         12.0,
         "False",
         "False",
         "False",
         "False",
         "False",
         "False",
         "False",
         "False",
         "False",
         "False",
         "False",
         "False",
         "False",
         "Day",
         "Day",
         "Day",
         "Day",
         59.71666666666667,
         1,
         18.0,
         0.0,
         0.0,
         0.0,
         0.0,
         0.0,
         0.0,
         0.0,
         0.0,
         0.0,
         0.0,
         0.0,
         0.0,
         {
          "indices": [
           18
          ],
          "length": 48,
          "values": [
           1.0
          ],
          "vectorType": "sparse"
         },
         {
          "length": 7,
          "values": [
           26.0,
           16.0,
           44.0,
           29.579999923706055,
           10.0,
           12.0,
           59.71666666666667
          ],
          "vectorType": "dense"
         },
         {
          "length": 7,
          "values": [
           1.33717909079366,
           0.7281454147755491,
           1.9368537717406695,
           25.97675222849733,
           3.3518943006431408,
           2.240165932825109,
           0.019251490980561246
          ],
          "vectorType": "dense"
         },
         {
          "indices": [
           18,
           60,
           61,
           62,
           63,
           64,
           65,
           66
          ],
          "length": 67,
          "values": [
           1.0,
           1.33717909079366,
           0.7281454147755491,
           1.9368537717406695,
           25.97675222849733,
           3.3518943006431408,
           2.240165932825109,
           0.019251490980561246
          ],
          "vectorType": "sparse"
         },
         {
          "length": 2,
          "values": [
           11.929847024212636,
           18.07015297578737
          ],
          "vectorType": "dense"
         },
         {
          "length": 2,
          "values": [
           0.3976615674737544,
           0.6023384325262455
          ],
          "vectorType": "dense"
         },
         1.0
        ],
        [
         0.0,
         "AL",
         37.9,
         32.7,
         93.0,
         30.25,
         10.0,
         6.9,
         "False",
         "False",
         "False",
         "False",
         "False",
         "False",
         "False",
         "False",
         "False",
         "False",
         "False",
         "True",
         "False",
         "Night",
         "Night",
         "Night",
         "Day",
         29.6,
         1,
         18.0,
         0.0,
         0.0,
         0.0,
         0.0,
         0.0,
         0.0,
         0.0,
         1.0,
         1.0,
         1.0,
         1.0,
         0.0,
         {
          "indices": [
           18
          ],
          "length": 48,
          "values": [
           1.0
          ],
          "vectorType": "sparse"
         },
         {
          "length": 7,
          "values": [
           37.900001525878906,
           32.70000076293945,
           93.0,
           30.25,
           10.0,
           6.900000095367432,
           29.6
          ],
          "vectorType": "dense"
         },
         {
          "length": 7,
          "values": [
           1.9491957531328108,
           1.4881472261682074,
           4.093804562997325,
           26.56513715141323,
           3.3518943006431408,
           1.2880954291776767,
           0.009542463851933233
          ],
          "vectorType": "dense"
         },
         {
          "indices": [
           18,
           55,
           56,
           57,
           58,
           60,
           61,
           62,
           63,
           64,
           65,
           66
          ],
          "length": 67,
          "values": [
           1.0,
           1.0,
           1.0,
           1.0,
           1.0,
           1.9491957531328108,
           1.4881472261682074,
           4.093804562997325,
           26.56513715141323,
           3.3518943006431408,
           1.2880954291776767,
           0.009542463851933233
          ],
          "vectorType": "sparse"
         },
         {
          "length": 2,
          "values": [
           21.55359929349775,
           8.446400706502248
          ],
          "vectorType": "dense"
         },
         {
          "length": 2,
          "values": [
           0.7184533097832584,
           0.28154669021674156
          ],
          "vectorType": "dense"
         },
         0.0
        ],
        [
         0.0,
         "AL",
         40.0,
         40.0,
         94.0,
         29.16,
         8.0,
         0.0,
         "False",
         "False",
         "False",
         "False",
         "False",
         "False",
         "False",
         "False",
         "False",
         "False",
         "False",
         "False",
         "False",
         "Day",
         "Day",
         "Day",
         "Day",
         104.76666666666667,
         1,
         18.0,
         0.0,
         0.0,
         0.0,
         0.0,
         0.0,
         0.0,
         0.0,
         0.0,
         0.0,
         0.0,
         0.0,
         0.0,
         {
          "indices": [
           18
          ],
          "length": 48,
          "values": [
           1.0
          ],
          "vectorType": "sparse"
         },
         {
          "length": 7,
          "values": [
           40.0,
           40.0,
           94.0,
           29.15999984741211,
           8.0,
           0.0,
           104.76666666666667
          ],
          "vectorType": "dense"
         },
         {
          "length": 7,
          "values": [
           2.0571986012210153,
           1.8203635369388727,
           4.1378239669005215,
           25.607913893609638,
           2.6815154405145125,
           0.0,
           0.033774734106560976
          ],
          "vectorType": "dense"
         },
         {
          "indices": [
           18,
           60,
           61,
           62,
           63,
           64,
           66
          ],
          "length": 67,
          "values": [
           1.0,
           2.0571986012210153,
           1.8203635369388727,
           4.1378239669005215,
           25.607913893609638,
           2.6815154405145125,
           0.033774734106560976
          ],
          "vectorType": "sparse"
         },
         {
          "length": 2,
          "values": [
           14.241550912918706,
           15.758449087081292
          ],
          "vectorType": "dense"
         },
         {
          "length": 2,
          "values": [
           0.4747183637639569,
           0.5252816362360431
          ],
          "vectorType": "dense"
         },
         1.0
        ],
        [
         0.0,
         "AL",
         49.0,
         49.0,
         54.0,
         29.72,
         10.0,
         0.0,
         "False",
         "False",
         "False",
         "False",
         "False",
         "False",
         "False",
         "False",
         "False",
         "False",
         "False",
         "False",
         "False",
         "Day",
         "Day",
         "Day",
         "Day",
         59.71666666666667,
         1,
         18.0,
         0.0,
         0.0,
         0.0,
         0.0,
         0.0,
         0.0,
         0.0,
         0.0,
         0.0,
         0.0,
         0.0,
         0.0,
         {
          "indices": [
           18
          ],
          "length": 48,
          "values": [
           1.0
          ],
          "vectorType": "sparse"
         },
         {
          "length": 7,
          "values": [
           49.0,
           49.0,
           54.0,
           29.719999313354492,
           10.0,
           0.0,
           59.71666666666667
          ],
          "vectorType": "dense"
         },
         {
          "length": 7,
          "values": [
           2.5200682864957438,
           2.229945332750119,
           2.37704781077264,
           26.099697781790713,
           3.3518943006431408,
           0.0,
           0.019251490980561246
          ],
          "vectorType": "dense"
         },
         {
          "indices": [
           18,
           60,
           61,
           62,
           63,
           64,
           66
          ],
          "length": 67,
          "values": [
           1.0,
           2.5200682864957438,
           2.229945332750119,
           2.37704781077264,
           26.099697781790713,
           3.3518943006431408,
           0.019251490980561246
          ],
          "vectorType": "sparse"
         },
         {
          "length": 2,
          "values": [
           13.457220158160489,
           16.542779841839508
          ],
          "vectorType": "dense"
         },
         {
          "length": 2,
          "values": [
           0.44857400527201635,
           0.5514259947279837
          ],
          "vectorType": "dense"
         },
         1.0
        ],
        [
         0.0,
         "AL",
         53.0,
         53.0,
         55.0,
         29.22,
         10.0,
         6.0,
         "False",
         "False",
         "False",
         "True",
         "False",
         "False",
         "False",
         "False",
         "False",
         "True",
         "False",
         "False",
         "False",
         "Night",
         "Night",
         "Day",
         "Day",
         29.683333333333334,
         1,
         18.0,
         0.0,
         0.0,
         1.0,
         0.0,
         0.0,
         0.0,
         1.0,
         0.0,
         1.0,
         1.0,
         0.0,
         0.0,
         {
          "indices": [
           18
          ],
          "length": 48,
          "values": [
           1.0
          ],
          "vectorType": "sparse"
         },
         {
          "length": 7,
          "values": [
           53.0,
           53.0,
           55.0,
           29.219999313354492,
           10.0,
           6.0,
           29.683333333333334
          ],
          "vectorType": "dense"
         },
         {
          "length": 7,
          "values": [
           2.725788146617845,
           2.4119816864440065,
           2.421067214675837,
           25.660604605734296,
           3.3518943006431408,
           1.1200829664125544,
           0.009569328896561423
          ],
          "vectorType": "dense"
         },
         {
          "indices": [
           18,
           50,
           54,
           56,
           57,
           60,
           61,
           62,
           63,
           64,
           65,
           66
          ],
          "length": 67,
          "values": [
           1.0,
           1.0,
           1.0,
           1.0,
           1.0,
           2.725788146617845,
           2.4119816864440065,
           2.421067214675837,
           25.660604605734296,
           3.3518943006431408,
           1.1200829664125544,
           0.009569328896561423
          ],
          "vectorType": "sparse"
         },
         {
          "length": 2,
          "values": [
           18.62035780284991,
           11.379642197150087
          ],
          "vectorType": "dense"
         },
         {
          "length": 2,
          "values": [
           0.6206785934283304,
           0.37932140657166963
          ],
          "vectorType": "dense"
         },
         1.0
        ],
        [
         0.0,
         "AL",
         60.0,
         60.0,
         75.0,
         29.58,
         10.0,
         0.0,
         "False",
         "False",
         "False",
         "False",
         "False",
         "False",
         "False",
         "False",
         "False",
         "False",
         "False",
         "False",
         "False",
         "Day",
         "Day",
         "Day",
         "Day",
         104.61666666666666,
         1,
         18.0,
         0.0,
         0.0,
         0.0,
         0.0,
         0.0,
         0.0,
         0.0,
         0.0,
         0.0,
         0.0,
         0.0,
         0.0,
         {
          "indices": [
           18
          ],
          "length": 48,
          "values": [
           1.0
          ],
          "vectorType": "sparse"
         },
         {
          "length": 7,
          "values": [
           60.0,
           60.0,
           75.0,
           29.579999923706055,
           10.0,
           0.0,
           104.61666666666666
          ],
          "vectorType": "dense"
         },
         {
          "length": 7,
          "values": [
           3.0857979018315227,
           2.730545305408309,
           3.3014552927397776,
           25.97675222849733,
           3.3518943006431408,
           0.0,
           0.033726377026230235
          ],
          "vectorType": "dense"
         },
         {
          "indices": [
           18,
           60,
           61,
           62,
           63,
           64,
           66
          ],
          "length": 67,
          "values": [
           1.0,
           3.0857979018315227,
           2.730545305408309,
           3.3014552927397776,
           25.97675222849733,
           3.3518943006431408,
           0.033726377026230235
          ],
          "vectorType": "sparse"
         },
         {
          "length": 2,
          "values": [
           13.431743580684234,
           16.568256419315766
          ],
          "vectorType": "dense"
         },
         {
          "length": 2,
          "values": [
           0.4477247860228078,
           0.5522752139771921
          ],
          "vectorType": "dense"
         },
         1.0
        ],
        [
         0.0,
         "AL",
         60.0,
         60.0,
         95.0,
         29.06,
         10.0,
         5.0,
         "False",
         "False",
         "False",
         "False",
         "False",
         "False",
         "False",
         "False",
         "False",
         "False",
         "False",
         "True",
         "False",
         "Night",
         "Night",
         "Night",
         "Night",
         29.633333333333333,
         1,
         18.0,
         0.0,
         0.0,
         0.0,
         0.0,
         0.0,
         0.0,
         0.0,
         1.0,
         1.0,
         1.0,
         1.0,
         1.0,
         {
          "indices": [
           18
          ],
          "length": 48,
          "values": [
           1.0
          ],
          "vectorType": "sparse"
         },
         {
          "length": 7,
          "values": [
           60.0,
           60.0,
           95.0,
           29.059999465942383,
           10.0,
           5.0,
           29.633333333333333
          ],
          "vectorType": "dense"
         },
         {
          "length": 7,
          "values": [
           3.0857979018315227,
           2.730545305408309,
           4.181843370803718,
           25.520094923396847,
           3.3518943006431408,
           0.9334024720104619,
           0.009553209869784508
          ],
          "vectorType": "dense"
         },
         {
          "indices": [
           18,
           55,
           56,
           57,
           58,
           59,
           60,
           61,
           62,
           63,
           64,
           65,
           66
          ],
          "length": 67,
          "values": [
           1.0,
           1.0,
           1.0,
           1.0,
           1.0,
           1.0,
           3.0857979018315227,
           2.730545305408309,
           4.181843370803718,
           25.520094923396847,
           3.3518943006431408,
           0.9334024720104619,
           0.009553209869784508
          ],
          "vectorType": "sparse"
         },
         {
          "length": 2,
          "values": [
           21.11466326802865,
           8.885336731971348
          ],
          "vectorType": "dense"
         },
         {
          "length": 2,
          "values": [
           0.7038221089342883,
           0.29617789106571163
          ],
          "vectorType": "dense"
         },
         1.0
        ],
        [
         0.0,
         "AL",
         62.0,
         62.0,
         67.0,
         30.06,
         10.0,
         3.0,
         "False",
         "False",
         "False",
         "False",
         "False",
         "False",
         "False",
         "False",
         "False",
         "False",
         "False",
         "True",
         "False",
         "Night",
         "Night",
         "Day",
         "Day",
         74.7,
         1,
         18.0,
         0.0,
         0.0,
         0.0,
         0.0,
         0.0,
         0.0,
         0.0,
         1.0,
         1.0,
         1.0,
         0.0,
         0.0,
         {
          "indices": [
           18
          ],
          "length": 48,
          "values": [
           1.0
          ],
          "vectorType": "sparse"
         },
         {
          "length": 7,
          "values": [
           62.0,
           62.0,
           67.0,
           30.059999465942383,
           10.0,
           3.0,
           74.7
          ],
          "vectorType": "dense"
         },
         {
          "length": 7,
          "values": [
           3.1886578318925736,
           2.8215634822552524,
           2.9493000615142013,
           26.39828127550968,
           3.3518943006431408,
           0.5600414832062772,
           0.024081826004709882
          ],
          "vectorType": "dense"
         },
         {
          "indices": [
           18,
           55,
           56,
           57,
           60,
           61,
           62,
           63,
           64,
           65,
           66
          ],
          "length": 67,
          "values": [
           1.0,
           1.0,
           1.0,
           1.0,
           3.1886578318925736,
           2.8215634822552524,
           2.9493000615142013,
           26.39828127550968,
           3.3518943006431408,
           0.5600414832062772,
           0.024081826004709882
          ],
          "vectorType": "sparse"
         },
         {
          "length": 2,
          "values": [
           26.200291151191102,
           3.7997088488088955
          ],
          "vectorType": "dense"
         },
         {
          "length": 2,
          "values": [
           0.8733430383730368,
           0.1266569616269632
          ],
          "vectorType": "dense"
         },
         0.0
        ],
        [
         0.0,
         "AL",
         63.0,
         63.0,
         97.0,
         29.8,
         10.0,
         8.0,
         "False",
         "False",
         "False",
         "False",
         "False",
         "False",
         "False",
         "False",
         "False",
         "False",
         "False",
         "False",
         "False",
         "Night",
         "Day",
         "Day",
         "Day",
         59.53333333333333,
         1,
         18.0,
         0.0,
         0.0,
         0.0,
         0.0,
         0.0,
         0.0,
         0.0,
         0.0,
         1.0,
         0.0,
         0.0,
         0.0,
         {
          "indices": [
           18
          ],
          "length": 48,
          "values": [
           1.0
          ],
          "vectorType": "sparse"
         },
         {
          "length": 7,
          "values": [
           63.0,
           63.0,
           97.0,
           29.799999237060547,
           10.0,
           8.0,
           59.53333333333333
          ],
          "vectorType": "dense"
         },
         {
          "length": 7,
          "values": [
           3.240087796923099,
           2.8670725706787246,
           4.269882178610112,
           26.16995262295944,
           3.3518943006431408,
           1.4934439552167391,
           0.019192387882379227
          ],
          "vectorType": "dense"
         },
         {
          "indices": [
           18,
           56,
           60,
           61,
           62,
           63,
           64,
           65,
           66
          ],
          "length": 67,
          "values": [
           1.0,
           1.0,
           3.240087796923099,
           2.8670725706787246,
           4.269882178610112,
           26.16995262295944,
           3.3518943006431408,
           1.4934439552167391,
           0.019192387882379227
          ],
          "vectorType": "sparse"
         },
         {
          "length": 2,
          "values": [
           11.915023918010712,
           18.084976081989293
          ],
          "vectorType": "dense"
         },
         {
          "length": 2,
          "values": [
           0.39716746393369035,
           0.6028325360663096
          ],
          "vectorType": "dense"
         },
         1.0
        ],
        [
         0.0,
         "AL",
         67.0,
         67.0,
         68.0,
         29.27,
         9.0,
         8.0,
         "False",
         "False",
         "False",
         "False",
         "False",
         "False",
         "False",
         "False",
         "False",
         "False",
         "False",
         "True",
         "False",
         "Day",
         "Day",
         "Day",
         "Day",
         90.7,
         1,
         18.0,
         0.0,
         0.0,
         0.0,
         0.0,
         0.0,
         0.0,
         0.0,
         1.0,
         0.0,
         0.0,
         0.0,
         0.0,
         {
          "indices": [
           18
          ],
          "length": 48,
          "values": [
           1.0
          ],
          "vectorType": "sparse"
         },
         {
          "length": 7,
          "values": [
           67.0,
           67.0,
           68.0,
           29.270000457763672,
           9.0,
           8.0,
           90.7
          ],
          "vectorType": "dense"
         },
         {
          "length": 7,
          "values": [
           3.4458076570452008,
           3.0491089243726117,
           2.9933194654173985,
           25.704514928344462,
           3.0167048705788266,
           1.4934439552167391,
           0.02923991457332244
          ],
          "vectorType": "dense"
         },
         {
          "indices": [
           18,
           55,
           60,
           61,
           62,
           63,
           64,
           65,
           66
          ],
          "length": 67,
          "values": [
           1.0,
           1.0,
           3.4458076570452008,
           3.0491089243726117,
           2.9933194654173985,
           25.704514928344462,
           3.0167048705788266,
           1.4934439552167391,
           0.02923991457332244
          ],
          "vectorType": "sparse"
         },
         {
          "length": 2,
          "values": [
           26.579547116088875,
           3.4204528839111226
          ],
          "vectorType": "dense"
         },
         {
          "length": 2,
          "values": [
           0.8859849038696292,
           0.11401509613037077
          ],
          "vectorType": "dense"
         },
         0.0
        ]
       ],
       "datasetInfos": [],
       "dbfsResultPath": null,
       "isJsonSchema": true,
       "metadata": {},
       "overflow": false,
       "plotOptions": {
        "customPlotOptions": {},
        "displayType": "table",
        "pivotAggregation": null,
        "pivotColumns": null,
        "xColumns": null,
        "yColumns": null
       },
       "removedWidgets": [],
       "schema": [
        {
         "metadata": "{}",
         "name": "Severity",
         "type": "\"double\""
        },
        {
         "metadata": "{}",
         "name": "State",
         "type": "\"string\""
        },
        {
         "metadata": "{}",
         "name": "Temperature_F",
         "type": "\"float\""
        },
        {
         "metadata": "{}",
         "name": "Wind_Chill_F",
         "type": "\"float\""
        },
        {
         "metadata": "{}",
         "name": "Humidity_percent",
         "type": "\"float\""
        },
        {
         "metadata": "{}",
         "name": "Pressure_in",
         "type": "\"float\""
        },
        {
         "metadata": "{}",
         "name": "Visibility_mi",
         "type": "\"float\""
        },
        {
         "metadata": "{}",
         "name": "Wind_Speed_mph",
         "type": "\"float\""
        },
        {
         "metadata": "{}",
         "name": "Amenity",
         "type": "\"string\""
        },
        {
         "metadata": "{}",
         "name": "Bump",
         "type": "\"string\""
        },
        {
         "metadata": "{}",
         "name": "Crossing",
         "type": "\"string\""
        },
        {
         "metadata": "{}",
         "name": "Give_Way",
         "type": "\"string\""
        },
        {
         "metadata": "{}",
         "name": "Junction",
         "type": "\"string\""
        },
        {
         "metadata": "{}",
         "name": "No_Exit",
         "type": "\"string\""
        },
        {
         "metadata": "{}",
         "name": "Railway",
         "type": "\"string\""
        },
        {
         "metadata": "{}",
         "name": "Roundabout",
         "type": "\"string\""
        },
        {
         "metadata": "{}",
         "name": "Station",
         "type": "\"string\""
        },
        {
         "metadata": "{}",
         "name": "Stop",
         "type": "\"string\""
        },
        {
         "metadata": "{}",
         "name": "Traffic_Calming",
         "type": "\"string\""
        },
        {
         "metadata": "{}",
         "name": "Traffic_Signal",
         "type": "\"string\""
        },
        {
         "metadata": "{}",
         "name": "Turning_Loop",
         "type": "\"string\""
        },
        {
         "metadata": "{}",
         "name": "Sunrise_Sunset",
         "type": "\"string\""
        },
        {
         "metadata": "{}",
         "name": "Civil_Twilight",
         "type": "\"string\""
        },
        {
         "metadata": "{}",
         "name": "Nautical_Twilight",
         "type": "\"string\""
        },
        {
         "metadata": "{}",
         "name": "Astronomical_Twilight",
         "type": "\"string\""
        },
        {
         "metadata": "{}",
         "name": "accident_duration_mins",
         "type": "\"double\""
        },
        {
         "metadata": "{}",
         "name": "weightCol",
         "type": "\"integer\""
        },
        {
         "metadata": "{\"ml_attr\":{\"vals\":[\"CA\",\"TX\",\"FL\",\"SC\",\"NY\",\"NC\",\"OR\",\"MN\",\"MI\",\"IL\",\"VA\",\"PA\",\"UT\",\"GA\",\"TN\",\"LA\",\"AZ\",\"OK\",\"AL\",\"WA\",\"CO\",\"OH\",\"NJ\",\"MA\",\"MO\",\"MD\",\"KY\",\"WI\",\"IN\",\"CT\",\"NE\",\"IA\",\"NV\",\"RI\",\"NH\",\"MS\",\"KS\",\"DE\",\"NM\",\"DC\",\"ME\",\"AR\",\"WV\",\"ID\",\"MT\",\"VT\",\"WY\",\"__unknown\"],\"type\":\"nominal\",\"name\":\"State_si\"}}",
         "name": "State_si",
         "type": "\"double\""
        },
        {
         "metadata": "{\"ml_attr\":{\"vals\":[\"False\",\"True\",\"__unknown\"],\"type\":\"nominal\",\"name\":\"Amenity_si\"}}",
         "name": "Amenity_si",
         "type": "\"double\""
        },
        {
         "metadata": "{\"ml_attr\":{\"vals\":[\"False\",\"True\",\"__unknown\"],\"type\":\"nominal\",\"name\":\"Crossing_si\"}}",
         "name": "Crossing_si",
         "type": "\"double\""
        },
        {
         "metadata": "{\"ml_attr\":{\"vals\":[\"False\",\"True\",\"__unknown\"],\"type\":\"nominal\",\"name\":\"Give_Way_si\"}}",
         "name": "Give_Way_si",
         "type": "\"double\""
        },
        {
         "metadata": "{\"ml_attr\":{\"vals\":[\"False\",\"True\",\"__unknown\"],\"type\":\"nominal\",\"name\":\"Junction_si\"}}",
         "name": "Junction_si",
         "type": "\"double\""
        },
        {
         "metadata": "{\"ml_attr\":{\"vals\":[\"False\",\"True\",\"__unknown\"],\"type\":\"nominal\",\"name\":\"Railway_si\"}}",
         "name": "Railway_si",
         "type": "\"double\""
        },
        {
         "metadata": "{\"ml_attr\":{\"vals\":[\"False\",\"True\",\"__unknown\"],\"type\":\"nominal\",\"name\":\"Station_si\"}}",
         "name": "Station_si",
         "type": "\"double\""
        },
        {
         "metadata": "{\"ml_attr\":{\"vals\":[\"False\",\"True\",\"__unknown\"],\"type\":\"nominal\",\"name\":\"Stop_si\"}}",
         "name": "Stop_si",
         "type": "\"double\""
        },
        {
         "metadata": "{\"ml_attr\":{\"vals\":[\"False\",\"True\",\"__unknown\"],\"type\":\"nominal\",\"name\":\"Traffic_Signal_si\"}}",
         "name": "Traffic_Signal_si",
         "type": "\"double\""
        },
        {
         "metadata": "{\"ml_attr\":{\"vals\":[\"Day\",\"Night\",\"__unknown\"],\"type\":\"nominal\",\"name\":\"Sunrise_Sunset_si\"}}",
         "name": "Sunrise_Sunset_si",
         "type": "\"double\""
        },
        {
         "metadata": "{\"ml_attr\":{\"vals\":[\"Day\",\"Night\",\"__unknown\"],\"type\":\"nominal\",\"name\":\"Civil_Twilight_si\"}}",
         "name": "Civil_Twilight_si",
         "type": "\"double\""
        },
        {
         "metadata": "{\"ml_attr\":{\"vals\":[\"Day\",\"Night\",\"__unknown\"],\"type\":\"nominal\",\"name\":\"Nautical_Twilight_si\"}}",
         "name": "Nautical_Twilight_si",
         "type": "\"double\""
        },
        {
         "metadata": "{\"ml_attr\":{\"vals\":[\"Day\",\"Night\",\"__unknown\"],\"type\":\"nominal\",\"name\":\"Astronomical_Twilight_si\"}}",
         "name": "Astronomical_Twilight_si",
         "type": "\"double\""
        },
        {
         "metadata": "{\"ml_attr\":{\"attrs\":{\"binary\":[{\"idx\":0,\"name\":\"CA\"},{\"idx\":1,\"name\":\"TX\"},{\"idx\":2,\"name\":\"FL\"},{\"idx\":3,\"name\":\"SC\"},{\"idx\":4,\"name\":\"NY\"},{\"idx\":5,\"name\":\"NC\"},{\"idx\":6,\"name\":\"OR\"},{\"idx\":7,\"name\":\"MN\"},{\"idx\":8,\"name\":\"MI\"},{\"idx\":9,\"name\":\"IL\"},{\"idx\":10,\"name\":\"VA\"},{\"idx\":11,\"name\":\"PA\"},{\"idx\":12,\"name\":\"UT\"},{\"idx\":13,\"name\":\"GA\"},{\"idx\":14,\"name\":\"TN\"},{\"idx\":15,\"name\":\"LA\"},{\"idx\":16,\"name\":\"AZ\"},{\"idx\":17,\"name\":\"OK\"},{\"idx\":18,\"name\":\"AL\"},{\"idx\":19,\"name\":\"WA\"},{\"idx\":20,\"name\":\"CO\"},{\"idx\":21,\"name\":\"OH\"},{\"idx\":22,\"name\":\"NJ\"},{\"idx\":23,\"name\":\"MA\"},{\"idx\":24,\"name\":\"MO\"},{\"idx\":25,\"name\":\"MD\"},{\"idx\":26,\"name\":\"KY\"},{\"idx\":27,\"name\":\"WI\"},{\"idx\":28,\"name\":\"IN\"},{\"idx\":29,\"name\":\"CT\"},{\"idx\":30,\"name\":\"NE\"},{\"idx\":31,\"name\":\"IA\"},{\"idx\":32,\"name\":\"NV\"},{\"idx\":33,\"name\":\"RI\"},{\"idx\":34,\"name\":\"NH\"},{\"idx\":35,\"name\":\"MS\"},{\"idx\":36,\"name\":\"KS\"},{\"idx\":37,\"name\":\"DE\"},{\"idx\":38,\"name\":\"NM\"},{\"idx\":39,\"name\":\"DC\"},{\"idx\":40,\"name\":\"ME\"},{\"idx\":41,\"name\":\"AR\"},{\"idx\":42,\"name\":\"WV\"},{\"idx\":43,\"name\":\"ID\"},{\"idx\":44,\"name\":\"MT\"},{\"idx\":45,\"name\":\"VT\"},{\"idx\":46,\"name\":\"WY\"},{\"idx\":47,\"name\":\"__unknown\"}]},\"num_attrs\":48}}",
         "name": "State_ohe",
         "type": "{\"type\":\"udt\",\"class\":\"org.apache.spark.ml.linalg.VectorUDT\",\"pyClass\":\"pyspark.ml.linalg.VectorUDT\",\"sqlType\":{\"type\":\"struct\",\"fields\":[{\"name\":\"type\",\"type\":\"byte\",\"nullable\":false,\"metadata\":{}},{\"name\":\"size\",\"type\":\"integer\",\"nullable\":true,\"metadata\":{}},{\"name\":\"indices\",\"type\":{\"type\":\"array\",\"elementType\":\"integer\",\"containsNull\":false},\"nullable\":true,\"metadata\":{}},{\"name\":\"values\",\"type\":{\"type\":\"array\",\"elementType\":\"double\",\"containsNull\":false},\"nullable\":true,\"metadata\":{}}]}}"
        },
        {
         "metadata": "{\"ml_attr\":{\"attrs\":{\"numeric\":[{\"idx\":0,\"name\":\"Temperature_F\"},{\"idx\":1,\"name\":\"Wind_Chill_F\"},{\"idx\":2,\"name\":\"Humidity_percent\"},{\"idx\":3,\"name\":\"Pressure_in\"},{\"idx\":4,\"name\":\"Visibility_mi\"},{\"idx\":5,\"name\":\"Wind_Speed_mph\"},{\"idx\":6,\"name\":\"accident_duration_mins\"}]},\"num_attrs\":7}}",
         "name": "numerical_features",
         "type": "{\"type\":\"udt\",\"class\":\"org.apache.spark.ml.linalg.VectorUDT\",\"pyClass\":\"pyspark.ml.linalg.VectorUDT\",\"sqlType\":{\"type\":\"struct\",\"fields\":[{\"name\":\"type\",\"type\":\"byte\",\"nullable\":false,\"metadata\":{}},{\"name\":\"size\",\"type\":\"integer\",\"nullable\":true,\"metadata\":{}},{\"name\":\"indices\",\"type\":{\"type\":\"array\",\"elementType\":\"integer\",\"containsNull\":false},\"nullable\":true,\"metadata\":{}},{\"name\":\"values\",\"type\":{\"type\":\"array\",\"elementType\":\"double\",\"containsNull\":false},\"nullable\":true,\"metadata\":{}}]}}"
        },
        {
         "metadata": "{\"ml_attr\":{\"num_attrs\":7}}",
         "name": "numerical_scaled",
         "type": "{\"type\":\"udt\",\"class\":\"org.apache.spark.ml.linalg.VectorUDT\",\"pyClass\":\"pyspark.ml.linalg.VectorUDT\",\"sqlType\":{\"type\":\"struct\",\"fields\":[{\"name\":\"type\",\"type\":\"byte\",\"nullable\":false,\"metadata\":{}},{\"name\":\"size\",\"type\":\"integer\",\"nullable\":true,\"metadata\":{}},{\"name\":\"indices\",\"type\":{\"type\":\"array\",\"elementType\":\"integer\",\"containsNull\":false},\"nullable\":true,\"metadata\":{}},{\"name\":\"values\",\"type\":{\"type\":\"array\",\"elementType\":\"double\",\"containsNull\":false},\"nullable\":true,\"metadata\":{}}]}}"
        },
        {
         "metadata": "{\"ml_attr\":{\"attrs\":{\"numeric\":[{\"idx\":60,\"name\":\"numerical_scaled_0\"},{\"idx\":61,\"name\":\"numerical_scaled_1\"},{\"idx\":62,\"name\":\"numerical_scaled_2\"},{\"idx\":63,\"name\":\"numerical_scaled_3\"},{\"idx\":64,\"name\":\"numerical_scaled_4\"},{\"idx\":65,\"name\":\"numerical_scaled_5\"},{\"idx\":66,\"name\":\"numerical_scaled_6\"}],\"nominal\":[{\"vals\":[\"False\",\"True\",\"__unknown\"],\"idx\":48,\"name\":\"Amenity_si\"},{\"vals\":[\"False\",\"True\",\"__unknown\"],\"idx\":49,\"name\":\"Crossing_si\"},{\"vals\":[\"False\",\"True\",\"__unknown\"],\"idx\":50,\"name\":\"Give_Way_si\"},{\"vals\":[\"False\",\"True\",\"__unknown\"],\"idx\":51,\"name\":\"Junction_si\"},{\"vals\":[\"False\",\"True\",\"__unknown\"],\"idx\":52,\"name\":\"Railway_si\"},{\"vals\":[\"False\",\"True\",\"__unknown\"],\"idx\":53,\"name\":\"Station_si\"},{\"vals\":[\"False\",\"True\",\"__unknown\"],\"idx\":54,\"name\":\"Stop_si\"},{\"vals\":[\"False\",\"True\",\"__unknown\"],\"idx\":55,\"name\":\"Traffic_Signal_si\"},{\"vals\":[\"Day\",\"Night\",\"__unknown\"],\"idx\":56,\"name\":\"Sunrise_Sunset_si\"},{\"vals\":[\"Day\",\"Night\",\"__unknown\"],\"idx\":57,\"name\":\"Civil_Twilight_si\"},{\"vals\":[\"Day\",\"Night\",\"__unknown\"],\"idx\":58,\"name\":\"Nautical_Twilight_si\"},{\"vals\":[\"Day\",\"Night\",\"__unknown\"],\"idx\":59,\"name\":\"Astronomical_Twilight_si\"}],\"binary\":[{\"idx\":0,\"name\":\"State_ohe_CA\"},{\"idx\":1,\"name\":\"State_ohe_TX\"},{\"idx\":2,\"name\":\"State_ohe_FL\"},{\"idx\":3,\"name\":\"State_ohe_SC\"},{\"idx\":4,\"name\":\"State_ohe_NY\"},{\"idx\":5,\"name\":\"State_ohe_NC\"},{\"idx\":6,\"name\":\"State_ohe_OR\"},{\"idx\":7,\"name\":\"State_ohe_MN\"},{\"idx\":8,\"name\":\"State_ohe_MI\"},{\"idx\":9,\"name\":\"State_ohe_IL\"},{\"idx\":10,\"name\":\"State_ohe_VA\"},{\"idx\":11,\"name\":\"State_ohe_PA\"},{\"idx\":12,\"name\":\"State_ohe_UT\"},{\"idx\":13,\"name\":\"State_ohe_GA\"},{\"idx\":14,\"name\":\"State_ohe_TN\"},{\"idx\":15,\"name\":\"State_ohe_LA\"},{\"idx\":16,\"name\":\"State_ohe_AZ\"},{\"idx\":17,\"name\":\"State_ohe_OK\"},{\"idx\":18,\"name\":\"State_ohe_AL\"},{\"idx\":19,\"name\":\"State_ohe_WA\"},{\"idx\":20,\"name\":\"State_ohe_CO\"},{\"idx\":21,\"name\":\"State_ohe_OH\"},{\"idx\":22,\"name\":\"State_ohe_NJ\"},{\"idx\":23,\"name\":\"State_ohe_MA\"},{\"idx\":24,\"name\":\"State_ohe_MO\"},{\"idx\":25,\"name\":\"State_ohe_MD\"},{\"idx\":26,\"name\":\"State_ohe_KY\"},{\"idx\":27,\"name\":\"State_ohe_WI\"},{\"idx\":28,\"name\":\"State_ohe_IN\"},{\"idx\":29,\"name\":\"State_ohe_CT\"},{\"idx\":30,\"name\":\"State_ohe_NE\"},{\"idx\":31,\"name\":\"State_ohe_IA\"},{\"idx\":32,\"name\":\"State_ohe_NV\"},{\"idx\":33,\"name\":\"State_ohe_RI\"},{\"idx\":34,\"name\":\"State_ohe_NH\"},{\"idx\":35,\"name\":\"State_ohe_MS\"},{\"idx\":36,\"name\":\"State_ohe_KS\"},{\"idx\":37,\"name\":\"State_ohe_DE\"},{\"idx\":38,\"name\":\"State_ohe_NM\"},{\"idx\":39,\"name\":\"State_ohe_DC\"},{\"idx\":40,\"name\":\"State_ohe_ME\"},{\"idx\":41,\"name\":\"State_ohe_AR\"},{\"idx\":42,\"name\":\"State_ohe_WV\"},{\"idx\":43,\"name\":\"State_ohe_ID\"},{\"idx\":44,\"name\":\"State_ohe_MT\"},{\"idx\":45,\"name\":\"State_ohe_VT\"},{\"idx\":46,\"name\":\"State_ohe_WY\"},{\"idx\":47,\"name\":\"State_ohe___unknown\"}]},\"num_attrs\":67}}",
         "name": "features",
         "type": "{\"type\":\"udt\",\"class\":\"org.apache.spark.ml.linalg.VectorUDT\",\"pyClass\":\"pyspark.ml.linalg.VectorUDT\",\"sqlType\":{\"type\":\"struct\",\"fields\":[{\"name\":\"type\",\"type\":\"byte\",\"nullable\":false,\"metadata\":{}},{\"name\":\"size\",\"type\":\"integer\",\"nullable\":true,\"metadata\":{}},{\"name\":\"indices\",\"type\":{\"type\":\"array\",\"elementType\":\"integer\",\"containsNull\":false},\"nullable\":true,\"metadata\":{}},{\"name\":\"values\",\"type\":{\"type\":\"array\",\"elementType\":\"double\",\"containsNull\":false},\"nullable\":true,\"metadata\":{}}]}}"
        },
        {
         "metadata": "{\"ml_attr\":{\"num_attrs\":2}}",
         "name": "rawPrediction",
         "type": "{\"type\":\"udt\",\"class\":\"org.apache.spark.ml.linalg.VectorUDT\",\"pyClass\":\"pyspark.ml.linalg.VectorUDT\",\"sqlType\":{\"type\":\"struct\",\"fields\":[{\"name\":\"type\",\"type\":\"byte\",\"nullable\":false,\"metadata\":{}},{\"name\":\"size\",\"type\":\"integer\",\"nullable\":true,\"metadata\":{}},{\"name\":\"indices\",\"type\":{\"type\":\"array\",\"elementType\":\"integer\",\"containsNull\":false},\"nullable\":true,\"metadata\":{}},{\"name\":\"values\",\"type\":{\"type\":\"array\",\"elementType\":\"double\",\"containsNull\":false},\"nullable\":true,\"metadata\":{}}]}}"
        },
        {
         "metadata": "{\"ml_attr\":{\"num_attrs\":2}}",
         "name": "probability",
         "type": "{\"type\":\"udt\",\"class\":\"org.apache.spark.ml.linalg.VectorUDT\",\"pyClass\":\"pyspark.ml.linalg.VectorUDT\",\"sqlType\":{\"type\":\"struct\",\"fields\":[{\"name\":\"type\",\"type\":\"byte\",\"nullable\":false,\"metadata\":{}},{\"name\":\"size\",\"type\":\"integer\",\"nullable\":true,\"metadata\":{}},{\"name\":\"indices\",\"type\":{\"type\":\"array\",\"elementType\":\"integer\",\"containsNull\":false},\"nullable\":true,\"metadata\":{}},{\"name\":\"values\",\"type\":{\"type\":\"array\",\"elementType\":\"double\",\"containsNull\":false},\"nullable\":true,\"metadata\":{}}]}}"
        },
        {
         "metadata": "{\"ml_attr\":{\"type\":\"nominal\",\"num_vals\":2}}",
         "name": "prediction",
         "type": "\"double\""
        }
       ],
       "type": "table"
      }
     },
     "output_type": "display_data"
    }
   ],
   "source": [
    "test = test.withColumn(\"weightCol\", F.lit(1))\n",
    "cv_test_results = pipeline_model_for_inference.transform(test)\n",
    "cv_test_results.limit(10).display()"
   ]
  },
  {
   "cell_type": "code",
   "execution_count": 0,
   "metadata": {
    "application/vnd.databricks.v1+cell": {
     "cellMetadata": {
      "byteLimit": 2048000,
      "rowLimit": 10000
     },
     "inputWidgets": {},
     "nuid": "1ff01b80-40c1-4687-bbb6-73158a68848c",
     "showTitle": false,
     "title": ""
    }
   },
   "outputs": [
    {
     "output_type": "execute_result",
     "data": {
      "text/plain": [
       "0.7692596516696514"
      ]
     },
     "execution_count": 20,
     "metadata": {},
     "output_type": "execute_result"
    }
   ],
   "source": [
    "evaluator_roc.evaluate(cv_test_results)"
   ]
  },
  {
   "cell_type": "code",
   "execution_count": 0,
   "metadata": {
    "application/vnd.databricks.v1+cell": {
     "cellMetadata": {
      "byteLimit": 2048000,
      "rowLimit": 10000
     },
     "inputWidgets": {},
     "nuid": "4ef8f30a-8d11-48d6-873f-21bc7f52b078",
     "showTitle": false,
     "title": ""
    }
   },
   "outputs": [
    {
     "output_type": "display_data",
     "data": {
      "text/html": [
       "<style scoped>\n",
       "  .table-result-container {\n",
       "    max-height: 300px;\n",
       "    overflow: auto;\n",
       "  }\n",
       "  table, th, td {\n",
       "    border: 1px solid black;\n",
       "    border-collapse: collapse;\n",
       "  }\n",
       "  th, td {\n",
       "    padding: 5px;\n",
       "  }\n",
       "  th {\n",
       "    text-align: left;\n",
       "  }\n",
       "</style><div class='table-result-container'><table class='table-result'><thead style='background-color: white'><tr><th>Severity</th><th>Prediction</th><th>count</th></tr></thead><tbody><tr><td>1.0</td><td>1.0</td><td>4057</td></tr><tr><td>0.0</td><td>1.0</td><td>7214</td></tr><tr><td>1.0</td><td>0.0</td><td>210</td></tr><tr><td>0.0</td><td>0.0</td><td>3732</td></tr></tbody></table></div>"
      ]
     },
     "metadata": {
      "application/vnd.databricks.v1+output": {
       "addedWidgets": {},
       "aggData": [],
       "aggError": "",
       "aggOverflow": false,
       "aggSchema": [],
       "aggSeriesLimitReached": false,
       "aggType": "",
       "arguments": {},
       "columnCustomDisplayInfos": {},
       "data": [
        [
         1.0,
         1.0,
         4057
        ],
        [
         0.0,
         1.0,
         7214
        ],
        [
         1.0,
         0.0,
         210
        ],
        [
         0.0,
         0.0,
         3732
        ]
       ],
       "datasetInfos": [],
       "dbfsResultPath": null,
       "isJsonSchema": true,
       "metadata": {},
       "overflow": false,
       "plotOptions": {
        "customPlotOptions": {},
        "displayType": "table",
        "pivotAggregation": null,
        "pivotColumns": null,
        "xColumns": null,
        "yColumns": null
       },
       "removedWidgets": [],
       "schema": [
        {
         "metadata": "{}",
         "name": "Severity",
         "type": "\"double\""
        },
        {
         "metadata": "{\"ml_attr\":{\"type\":\"nominal\",\"num_vals\":2}}",
         "name": "Prediction",
         "type": "\"double\""
        },
        {
         "metadata": "{}",
         "name": "count",
         "type": "\"long\""
        }
       ],
       "type": "table"
      }
     },
     "output_type": "display_data"
    },
    {
     "output_type": "display_data",
     "data": {
      "text/plain": [
       "Databricks visualization. Run in Databricks to view."
      ]
     },
     "metadata": {
      "application/vnd.databricks.v1.subcommand+json": {
       "bindings": {},
       "collapsed": false,
       "command": "%python\n__backend_agg_display_orig = display\n__backend_agg_dfs = []\ndef __backend_agg_display_new(df):\n    __backend_agg_df_modules = [\"pandas.core.frame\", \"databricks.koalas.frame\", \"pyspark.sql.dataframe\", \"pyspark.pandas.frame\", \"pyspark.sql.connect.dataframe\"]\n    if (type(df).__module__ in __backend_agg_df_modules and type(df).__name__ == 'DataFrame') or isinstance(df, list):\n        __backend_agg_dfs.append(df)\n\ndisplay = __backend_agg_display_new\n\ndef __backend_agg_user_code_fn():\n    import base64\n    exec(base64.standard_b64decode(\"Y3ZfdGVzdF9yZXN1bHRzLmdyb3VwQnkoIlNldmVyaXR5IiwgIlByZWRpY3Rpb24iKS5jb3VudCgpLmRpc3BsYXkoKQ==\").decode())\n\ntry:\n    # run user code\n    __backend_agg_user_code_fn()\n\n    #reset display function\n    display = __backend_agg_display_orig\n\n    if len(__backend_agg_dfs) > 0:\n        # create a temp view\n        if type(__backend_agg_dfs[0]).__module__ == \"databricks.koalas.frame\":\n            # koalas dataframe\n            __backend_agg_dfs[0].to_spark().createOrReplaceTempView(\"DatabricksViewe4c93ac\")\n        elif type(__backend_agg_dfs[0]).__module__ == \"pandas.core.frame\" or isinstance(__backend_agg_dfs[0], list):\n            # pandas dataframe\n            spark.createDataFrame(__backend_agg_dfs[0]).createOrReplaceTempView(\"DatabricksViewe4c93ac\")\n        else:\n            __backend_agg_dfs[0].createOrReplaceTempView(\"DatabricksViewe4c93ac\")\n        #run backend agg\n        display(spark.sql(\"\"\"WITH q AS (select * from DatabricksViewe4c93ac) SELECT `Severity`,`Prediction`,SUM(`count`) `column_f3b847214` FROM q GROUP BY `Prediction`,`Severity`\"\"\"))\n    else:\n        displayHTML(\"dataframe no longer exists. If you're using dataframe.display(), use display(dataframe) instead.\")\n\n\nfinally:\n    spark.sql(\"drop view if exists DatabricksViewe4c93ac\")\n    display = __backend_agg_display_orig\n    del __backend_agg_display_new\n    del __backend_agg_display_orig\n    del __backend_agg_dfs\n    del __backend_agg_user_code_fn\n\n",
       "commandTitle": "rf-weighted",
       "commandType": "auto",
       "commandVersion": 0,
       "commentThread": [],
       "commentsVisible": false,
       "contentSha256Hex": null,
       "customPlotOptions": {
        "redashChart": [
         {
          "key": "type",
          "value": "CHART"
         },
         {
          "key": "options",
          "value": {
           "alignYAxesAtZero": true,
           "coefficient": 1,
           "colorScheme": "YlGnBu",
           "columnConfigurationMap": {
            "x": {
             "column": "Severity",
             "id": "column_f3b847211"
            },
            "y": [
             {
              "column": "Prediction",
              "id": "column_f3b847212"
             }
            ],
            "zVal": {
             "column": "count",
             "id": "column_f3b847214",
             "transform": "SUM"
            }
           },
           "dateTimeFormat": "DD/MM/YYYY HH:mm",
           "direction": {
            "type": "counterclockwise"
           },
           "error_y": {
            "type": "data",
            "visible": true
           },
           "globalSeriesType": "heatmap",
           "isAggregationOn": true,
           "legend": {
            "title": "count",
            "traceorder": "normal"
           },
           "missingValuesAsZero": true,
           "numberFormat": "0,0.[00000]",
           "percentFormat": "0[.]00%",
           "series": {
            "error_y": {
             "type": "data",
             "visible": true
            },
            "stacking": null
           },
           "seriesOptions": {
            "column_f3b847212": {
             "type": "heatmap",
             "yAxis": 0
            }
           },
           "showDataLabels": true,
           "sizemode": "diameter",
           "sortX": true,
           "sortY": true,
           "swappedAxes": false,
           "textFormat": "",
           "useAggregationsUi": true,
           "valuesOptions": {},
           "version": 2,
           "xAxis": {
            "labels": {
             "enabled": true
            },
            "title": {
             "text": "actual"
            },
            "type": "-"
           },
           "yAxis": [
            {
             "type": "-"
            },
            {
             "opposite": true,
             "type": "-"
            }
           ]
          }
         }
        ]
       },
       "datasetPreviewNameToCmdIdMap": {},
       "diffDeletes": [],
       "diffInserts": [],
       "displayType": "redashChart",
       "error": null,
       "errorDetails": null,
       "errorSummary": null,
       "errorTraceType": null,
       "finishTime": 0,
       "globalVars": {},
       "guid": "",
       "height": "auto",
       "hideCommandCode": false,
       "hideCommandResult": false,
       "iPythonMetadata": null,
       "inputWidgets": {},
       "isLockedInExamMode": false,
       "latestUser": "a user",
       "latestUserId": null,
       "listResultMetadata": null,
       "metadata": {},
       "nuid": "2d531d68-289e-4964-a24e-7061610708ce",
       "origId": 0,
       "parentHierarchy": [],
       "pivotAggregation": null,
       "pivotColumns": null,
       "position": 9.5,
       "resultDbfsErrorMessage": null,
       "resultDbfsStatus": "INLINED_IN_TREE",
       "results": null,
       "showCommandTitle": false,
       "startTime": 0,
       "state": "input",
       "streamStates": {},
       "subcommandOptions": {
        "queryPlan": {
         "groups": [
          {
           "column": "Severity",
           "type": "column"
          },
          {
           "column": "Prediction",
           "type": "column"
          }
         ],
         "selects": [
          {
           "column": "Severity",
           "type": "column"
          },
          {
           "column": "Prediction",
           "type": "column"
          },
          {
           "alias": "column_f3b847214",
           "args": [
            {
             "column": "count",
             "type": "column"
            }
           ],
           "function": "SUM",
           "type": "function"
          }
         ]
        }
       },
       "submitTime": 0,
       "subtype": "tableResultSubCmd.visualization",
       "tableResultIndex": 0,
       "useConsistentColors": false,
       "version": "CommandV1",
       "width": "auto",
       "workflows": [],
       "xColumns": null,
       "yColumns": null
      }
     },
     "output_type": "display_data"
    }
   ],
   "source": [
    "cv_test_results.groupBy(\"Severity\", \"Prediction\").count().display()"
   ]
  },
  {
   "cell_type": "code",
   "execution_count": 0,
   "metadata": {
    "application/vnd.databricks.v1+cell": {
     "cellMetadata": {
      "byteLimit": 2048000,
      "rowLimit": 10000
     },
     "inputWidgets": {},
     "nuid": "aa22c6c5-6c14-4881-b35e-1e6d376a0537",
     "showTitle": false,
     "title": ""
    }
   },
   "outputs": [
    {
     "output_type": "execute_result",
     "data": {
      "text/plain": [
       "1.3803983435219878"
      ]
     },
     "execution_count": 27,
     "metadata": {},
     "output_type": "execute_result"
    }
   ],
   "source": [
    "210/cv_test_results.count() * 100"
   ]
  },
  {
   "cell_type": "code",
   "execution_count": 0,
   "metadata": {
    "application/vnd.databricks.v1+cell": {
     "cellMetadata": {
      "byteLimit": 2048000,
      "rowLimit": 10000
     },
     "inputWidgets": {},
     "nuid": "ff516c8d-5ab8-48ac-912b-95da05d929ee",
     "showTitle": false,
     "title": ""
    }
   },
   "outputs": [],
   "source": [
    "cvModel.bestModel.stages[-1].featureImportances\n",
    "fi = [ sum(cvModel.bestModel.stages[-1].featureImportances.toArray()[:48]) ]\n",
    "fi.extend(cvModel.bestModel.stages[-1].featureImportances.toArray()[48:])\n",
    "# fi"
   ]
  },
  {
   "cell_type": "code",
   "execution_count": 0,
   "metadata": {
    "application/vnd.databricks.v1+cell": {
     "cellMetadata": {
      "byteLimit": 2048000,
      "rowLimit": 10000
     },
     "inputWidgets": {},
     "nuid": "239ca82b-260f-497f-b882-78479b80f11b",
     "showTitle": false,
     "title": ""
    }
   },
   "outputs": [],
   "source": [
    "all_features = input_features[:-1] + va.getInputCols()"
   ]
  },
  {
   "cell_type": "code",
   "execution_count": 0,
   "metadata": {
    "application/vnd.databricks.v1+cell": {
     "cellMetadata": {
      "byteLimit": 2048000,
      "rowLimit": 10000
     },
     "inputWidgets": {},
     "nuid": "2e331e03-7573-4815-bffb-5f6e31281e4d",
     "showTitle": false,
     "title": ""
    }
   },
   "outputs": [
    {
     "output_type": "stream",
     "name": "stdout",
     "output_type": "stream",
     "text": [
      "feature State_ohe importance := 0.2634\nfeature Amenity_si importance := 0.0034\nfeature Crossing_si importance := 0.0788\nfeature Give_Way_si importance := 0.0022\nfeature Junction_si importance := 0.0133\nfeature Railway_si importance := 0.0021\nfeature Station_si importance := 0.0112\nfeature Stop_si importance := 0.0278\nfeature Traffic_Signal_si importance := 0.1874\nfeature Sunrise_Sunset_si importance := 0.0075\nfeature Civil_Twilight_si importance := 0.0077\nfeature Nautical_Twilight_si importance := 0.0072\nfeature Astronomical_Twilight_si importance := 0.0073\nfeature Temperature_F importance := 0.0302\nfeature Wind_Chill_F importance := 0.0304\nfeature Humidity_percent importance := 0.0379\nfeature Pressure_in importance := 0.0461\nfeature Visibility_mi importance := 0.0167\nfeature Wind_Speed_mph importance := 0.0344\nfeature accident_duration_mins importance := 0.1851\n"
     ]
    }
   ],
   "source": [
    "for f, i in zip(all_features, fi):\n",
    "    print(f\"feature {f} importance := {round(i, 4)}\")"
   ]
  },
  {
   "cell_type": "code",
   "execution_count": 0,
   "metadata": {
    "application/vnd.databricks.v1+cell": {
     "cellMetadata": {},
     "inputWidgets": {},
     "nuid": "a914115c-0ce7-444e-8d68-60ac9f63ac3e",
     "showTitle": false,
     "title": ""
    }
   },
   "outputs": [],
   "source": [
    "# bump, no_exit, roundabout, traffic_calming, turning_loop are not important"
   ]
  },
  {
   "cell_type": "code",
   "execution_count": 0,
   "metadata": {
    "application/vnd.databricks.v1+cell": {
     "cellMetadata": {
      "byteLimit": 2048000,
      "rowLimit": 10000
     },
     "inputWidgets": {},
     "nuid": "567be15e-3d7f-48c6-adfd-1a6128ec48e2",
     "showTitle": false,
     "title": ""
    }
   },
   "outputs": [],
   "source": [
    "import matplotlib.pyplot as plt\n",
    "# from pyspark.ml.evaluation import BinaryClassificationEvaluator\n",
    "from sklearn.metrics import roc_curve, auc\n",
    "# Select the probability for the positive class\n",
    "import pyspark.sql.functions as F\n",
    "from pyspark.sql.types import FloatType\n",
    "\n",
    "# If the probability column is a vector (common in PySpark), extract the relevant probability\n",
    "to_prob_udf = F.udf(lambda v: float(v[1]), FloatType())\n",
    "cv_test_results_2 = cv_test_results.withColumn(\"probability\", to_prob_udf(\"probability\"))\n",
    "\n",
    "# Collect the data to the driver\n",
    "local_data = cv_test_results_2.select(\"Severity\", \"probability\").toPandas()\n",
    "\n",
    "fpr, tpr, thresholds = roc_curve(local_data['Severity'], local_data['probability'])\n",
    "roc_auc = auc(fpr, tpr)\n",
    "\n",
    "# fpr, tpr, thresholds, roc_auc"
   ]
  },
  {
   "cell_type": "code",
   "execution_count": 0,
   "metadata": {
    "application/vnd.databricks.v1+cell": {
     "cellMetadata": {
      "byteLimit": 2048000,
      "rowLimit": 10000
     },
     "inputWidgets": {},
     "nuid": "173c3be3-4834-40af-9c3a-a6ba4cede9d1",
     "showTitle": false,
     "title": ""
    }
   },
   "outputs": [
    {
     "output_type": "display_data",
     "data": {
      "image/png": "[encoded data removed]",
      "text/plain": [
       "<Figure size 640x480 with 1 Axes>"
      ]
     },
     "metadata": {},
     "output_type": "display_data"
    }
   ],
   "source": [
    "plt.figure()\n",
    "plt.plot(fpr, tpr, color='darkorange', lw=2, label='ROC curve (area = %0.2f)' % roc_auc)\n",
    "plt.plot([0, 1], [0, 1], color='navy', lw=2, linestyle='--')\n",
    "plt.xlim([0.0, 1.0])\n",
    "plt.ylim([0.0, 1.05])\n",
    "plt.xlabel('False Positive Rate')\n",
    "plt.ylabel('True Positive Rate')\n",
    "plt.title('Receiver Operating Characteristic')\n",
    "plt.legend(loc=\"lower right\")\n",
    "plt.show()"
   ]
  },
  {
   "cell_type": "code",
   "execution_count": 0,
   "metadata": {
    "application/vnd.databricks.v1+cell": {
     "cellMetadata": {
      "byteLimit": 2048000,
      "rowLimit": 10000
     },
     "inputWidgets": {},
     "nuid": "e16fbfef-47fd-4ea7-82a3-8103fa8cc6b4",
     "showTitle": false,
     "title": ""
    }
   },
   "outputs": [
    {
     "output_type": "execute_result",
     "data": {
      "text/plain": [
       "[0.5, 0.2]"
      ]
     },
     "execution_count": 26,
     "metadata": {},
     "output_type": "execute_result"
    }
   ],
   "source": [
    "cvModel.bestModel.stages[-1].getThresholds()"
   ]
  },
  {
   "cell_type": "code",
   "execution_count": 0,
   "metadata": {
    "application/vnd.databricks.v1+cell": {
     "cellMetadata": {},
     "inputWidgets": {},
     "nuid": "180735e1-07d0-442e-bc35-aaeb76e1348a",
     "showTitle": false,
     "title": ""
    }
   },
   "outputs": [],
   "source": []
  }
 ],
 "metadata": {
  "application/vnd.databricks.v1+notebook": {
   "dashboards": [],
   "language": "python",
   "notebookMetadata": {
    "mostRecentlyExecutedCommandWithImplicitDF": {
     "commandId": 818735346775761,
     "dataframes": [
      "_sqldf"
     ]
    },
    "pythonIndentUnit": 4
   },
   "notebookName": "randomForest-weighted",
   "widgets": {}
  }
 },
 "nbformat": 4,
 "nbformat_minor": 0
}
