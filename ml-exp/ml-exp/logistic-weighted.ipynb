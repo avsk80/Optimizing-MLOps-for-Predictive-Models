{
 "cells": [
  {
   "cell_type": "code",
   "execution_count": 0,
   "metadata": {
    "application/vnd.databricks.v1+cell": {
     "cellMetadata": {
      "byteLimit": 2048000,
      "rowLimit": 10000
     },
     "inputWidgets": {},
     "nuid": "bde57a59-8805-4b27-a471-5f6e5eff983c",
     "showTitle": false,
     "title": ""
    }
   },
   "outputs": [],
   "source": [
    "from pyspark.sql import functions as F"
   ]
  },
  {
   "cell_type": "code",
   "execution_count": 0,
   "metadata": {
    "application/vnd.databricks.v1+cell": {
     "cellMetadata": {
      "byteLimit": 2048000,
      "rowLimit": 10000
     },
     "inputWidgets": {},
     "nuid": "49c3d92b-58ff-42dd-be45-4c3729c4ad9a",
     "showTitle": false,
     "title": ""
    }
   },
   "outputs": [
    {
     "output_type": "execute_result",
     "data": {
      "text/plain": [
       "50563"
      ]
     },
     "execution_count": 2,
     "metadata": {},
     "output_type": "execute_result"
    }
   ],
   "source": [
    "df = spark.read.table(\"msba_6331_group1.default.accidents_final\")\n",
    "df = df.withColumn(\"Start_Time\", F.to_timestamp(df.Start_Time)) \\\n",
    "    .withColumn(\"End_Time\", F.to_timestamp(df.End_Time)) \\\n",
    "    .withColumn(\"Severity\", df.Severity.cast(\"double\")) \\\n",
    "    .withColumn(\"accident_duration_mins\", ((F.col(\"End_Time\").cast(\"long\") - F.col(\"Start_Time\").cast(\"long\"))/60))\n",
    "# df.printSchema()\n",
    "df.count()"
   ]
  },
  {
   "cell_type": "code",
   "execution_count": 0,
   "metadata": {
    "application/vnd.databricks.v1+cell": {
     "cellMetadata": {
      "byteLimit": 2048000,
      "rowLimit": 10000
     },
     "inputWidgets": {},
     "nuid": "8ae29511-64c6-4320-826e-56a8d409f934",
     "showTitle": false,
     "title": ""
    }
   },
   "outputs": [
    {
     "output_type": "display_data",
     "data": {
      "text/html": [
       "<style scoped>\n",
       "  .table-result-container {\n",
       "    max-height: 300px;\n",
       "    overflow: auto;\n",
       "  }\n",
       "  table, th, td {\n",
       "    border: 1px solid black;\n",
       "    border-collapse: collapse;\n",
       "  }\n",
       "  th, td {\n",
       "    padding: 5px;\n",
       "  }\n",
       "  th {\n",
       "    text-align: left;\n",
       "  }\n",
       "</style><div class='table-result-container'><table class='table-result'><thead style='background-color: white'><tr><th>ID</th><th>Source</th><th>Severity</th><th>Start_Time</th><th>End_Time</th><th>Start_Lat</th><th>Start_Lng</th><th>End_Lat</th><th>End_Lng</th><th>Distance_miles</th><th>Description</th><th>Street</th><th>City</th><th>County</th><th>State</th><th>Zipcode</th><th>Country</th><th>Timezone</th><th>Airport_Code</th><th>Weather_Timestamp</th><th>Temperature_F</th><th>Wind_Chill_F</th><th>Humidity_percent</th><th>Pressure_in</th><th>Visibility_mi</th><th>Wind_Direction</th><th>Wind_Speed_mph</th><th>Precipitation_in</th><th>Weather_Condition</th><th>Amenity</th><th>Bump</th><th>Crossing</th><th>Give_Way</th><th>Junction</th><th>No_Exit</th><th>Railway</th><th>Roundabout</th><th>Station</th><th>Stop</th><th>Traffic_Calming</th><th>Traffic_Signal</th><th>Turning_Loop</th><th>Sunrise_Sunset</th><th>Civil_Twilight</th><th>Nautical_Twilight</th><th>Astronomical_Twilight</th><th>accident_duration_mins</th></tr></thead><tbody><tr><td>A-7746881</td><td>Source1</td><td>0.0</td><td>2019-08-26T17:47:31Z</td><td>2019-08-26T18:15:55Z</td><td>33.011406</td><td>-117.07993</td><td>33.021484</td><td>-117.0788</td><td>0.7</td><td>At George Cooke Express Dr - Accident. Lane blocked.</td><td>Escondido Fwy N</td><td>San Diego</td><td>San Diego</td><td>CA</td><td>92128</td><td>US</td><td>US/Pacific</td><td>KRNM</td><td>2019-08-26 17:53:00</td><td>85.0</td><td>85.0</td><td>27.0</td><td>28.4</td><td>10.0</td><td>W</td><td>10.0</td><td>0.0</td><td>Fair</td><td>False</td><td>False</td><td>False</td><td>False</td><td>False</td><td>False</td><td>False</td><td>False</td><td>False</td><td>False</td><td>False</td><td>False</td><td>False</td><td>Day</td><td>Day</td><td>Day</td><td>Day</td><td>28.4</td></tr><tr><td>A-1926484</td><td>Source2</td><td>0.0</td><td>2019-08-21T15:53:11Z</td><td>2019-08-21T17:37:08Z</td><td>37.89468</td><td>-122.11463</td><td>null</td><td>null</td><td>0.0</td><td>#1 lane blocked due to accident on CA-24 Eastbound after 1st St.</td><td>CA-24 E</td><td>Lafayette</td><td>Contra Costa</td><td>CA</td><td>94549</td><td>US</td><td>US/Pacific</td><td>KCCR</td><td>2019-08-21 15:53:00</td><td>92.0</td><td>92.0</td><td>26.0</td><td>29.79</td><td>10.0</td><td>W</td><td>10.0</td><td>0.0</td><td>Fair</td><td>False</td><td>False</td><td>False</td><td>False</td><td>False</td><td>False</td><td>False</td><td>False</td><td>False</td><td>False</td><td>False</td><td>False</td><td>False</td><td>Day</td><td>Day</td><td>Day</td><td>Day</td><td>103.95</td></tr><tr><td>A-1941046</td><td>Source2</td><td>0.0</td><td>2019-08-29T21:26:29Z</td><td>2019-08-29T22:41:05Z</td><td>36.17692</td><td>-95.99352</td><td>null</td><td>null</td><td>0.0</td><td>Accident on Pine St at Martin Luther King Jr Blvd.</td><td>N Martin Luther King Jr Blvd</td><td>Tulsa</td><td>Tulsa</td><td>OK</td><td>74106</td><td>US</td><td>US/Central</td><td>KTUL</td><td>2019-08-29 21:53:00</td><td>83.0</td><td>83.0</td><td>74.0</td><td>29.25</td><td>10.0</td><td>E</td><td>7.0</td><td>0.0</td><td>Fair</td><td>False</td><td>False</td><td>True</td><td>False</td><td>False</td><td>False</td><td>False</td><td>False</td><td>False</td><td>False</td><td>False</td><td>True</td><td>False</td><td>Night</td><td>Night</td><td>Night</td><td>Night</td><td>74.6</td></tr><tr><td>A-2007527</td><td>Source2</td><td>1.0</td><td>2019-08-06T16:29:51Z</td><td>2019-08-06T16:59:33Z</td><td>41.90592</td><td>-87.92125</td><td>null</td><td>null</td><td>0.0</td><td>Lane blocked due to accident on I-294 Tri-State Tollway Northbound at Exit 33 I-290 Eisenhower Expy Exits 13A 13B.</td><td>US-20 E</td><td>Elmhurst</td><td>DuPage</td><td>IL</td><td>60126</td><td>US</td><td>US/Central</td><td>KORD</td><td>2019-08-06 16:51:00</td><td>84.0</td><td>84.0</td><td>44.0</td><td>29.09</td><td>10.0</td><td>NNW</td><td>9.0</td><td>0.0</td><td>Partly Cloudy</td><td>False</td><td>False</td><td>False</td><td>False</td><td>False</td><td>False</td><td>False</td><td>False</td><td>False</td><td>False</td><td>False</td><td>False</td><td>False</td><td>Day</td><td>Day</td><td>Day</td><td>Day</td><td>29.7</td></tr><tr><td>A-2024075</td><td>Source2</td><td>1.0</td><td>2019-08-15T17:50:58Z</td><td>2019-08-15T19:35:28Z</td><td>42.902653</td><td>-73.78612</td><td>null</td><td>null</td><td>0.0</td><td>Left hand shoulder blocked due to accident on I-87 Southbound before Exit 10 Ushers Rd.</td><td>Ushers Rd</td><td>Clifton Park</td><td>Saratoga</td><td>NY</td><td>12065</td><td>US</td><td>US/Eastern</td><td>KSCH</td><td>2019-08-15 17:56:00</td><td>75.0</td><td>75.0</td><td>78.0</td><td>29.57</td><td>10.0</td><td>CALM</td><td>0.0</td><td>0.0</td><td>Mostly Cloudy</td><td>False</td><td>False</td><td>False</td><td>False</td><td>False</td><td>False</td><td>False</td><td>False</td><td>False</td><td>False</td><td>False</td><td>False</td><td>False</td><td>Day</td><td>Day</td><td>Day</td><td>Day</td><td>104.5</td></tr><tr><td>A-7776771</td><td>Source1</td><td>1.0</td><td>2019-08-21T13:53:16Z</td><td>2019-08-21T18:38:06Z</td><td>34.17508</td><td>-118.39261</td><td>34.186417</td><td>-118.40119</td><td>0.924</td><td>Closed between Burbank Blvd and Victory Blvd - Road closed due to accident.</td><td>CA-170 N</td><td>Valley Village</td><td>Los Angeles</td><td>CA</td><td>91607</td><td>US</td><td>US/Pacific</td><td>KBUR</td><td>2019-08-21 13:53:00</td><td>91.0</td><td>91.0</td><td>34.0</td><td>28.98</td><td>10.0</td><td>S</td><td>8.0</td><td>0.0</td><td>Fair</td><td>False</td><td>False</td><td>False</td><td>False</td><td>True</td><td>False</td><td>False</td><td>False</td><td>False</td><td>False</td><td>False</td><td>False</td><td>False</td><td>Day</td><td>Day</td><td>Day</td><td>Day</td><td>284.8333333333333</td></tr><tr><td>A-7775264</td><td>Source1</td><td>0.0</td><td>2019-08-19T17:02:10Z</td><td>2019-08-19T17:32:00Z</td><td>40.00982</td><td>-74.85037</td><td>40.00935</td><td>-74.84998</td><td>0.038</td><td>Ramp to Rancocas Rd - Accident. Lane blocked.</td><td>I-295 N</td><td>Mount Holly</td><td>Burlington</td><td>NJ</td><td>08060</td><td>US</td><td>US/Eastern</td><td>KVAY</td><td>2019-08-19 17:18:00</td><td>82.0</td><td>82.0</td><td>74.0</td><td>29.86</td><td>10.0</td><td>VAR</td><td>5.0</td><td>0.0</td><td>Thunder in the Vicinity</td><td>False</td><td>False</td><td>False</td><td>False</td><td>True</td><td>False</td><td>False</td><td>False</td><td>False</td><td>False</td><td>False</td><td>False</td><td>False</td><td>Day</td><td>Day</td><td>Day</td><td>Day</td><td>29.833333333333332</td></tr><tr><td>A-7746875</td><td>Source1</td><td>0.0</td><td>2019-08-26T16:04:19Z</td><td>2019-08-26T16:34:15Z</td><td>33.57508</td><td>-117.67168</td><td>33.58447</td><td>-117.67155</td><td>0.649</td><td>At Oso Pky/Exit 88 - Accident.</td><td>San Diego Fwy S</td><td>Mission Viejo</td><td>Orange</td><td>CA</td><td>92691</td><td>US</td><td>US/Pacific</td><td>KSNA</td><td>2019-08-26 15:53:00</td><td>83.0</td><td>83.0</td><td>47.0</td><td>29.75</td><td>10.0</td><td>SSW</td><td>12.0</td><td>0.0</td><td>Partly Cloudy</td><td>False</td><td>False</td><td>False</td><td>False</td><td>False</td><td>False</td><td>False</td><td>False</td><td>False</td><td>False</td><td>False</td><td>False</td><td>False</td><td>Day</td><td>Day</td><td>Day</td><td>Day</td><td>29.933333333333334</td></tr><tr><td>A-2011913</td><td>Source2</td><td>0.0</td><td>2019-08-09T09:10:53Z</td><td>2019-08-09T11:40:47Z</td><td>35.12182</td><td>-80.78035</td><td>null</td><td>null</td><td>0.0</td><td>Accident on Lynbridge Dr at NC-16 Providence Rd.</td><td>Providence Rd</td><td>Charlotte</td><td>Mecklenburg</td><td>NC</td><td>28226-7714</td><td>US</td><td>US/Eastern</td><td>KCLT</td><td>2019-08-09 08:52:00</td><td>79.0</td><td>79.0</td><td>64.0</td><td>29.15</td><td>10.0</td><td>NNW</td><td>5.0</td><td>0.0</td><td>Partly Cloudy</td><td>False</td><td>False</td><td>False</td><td>False</td><td>False</td><td>False</td><td>False</td><td>False</td><td>False</td><td>False</td><td>False</td><td>False</td><td>False</td><td>Day</td><td>Day</td><td>Day</td><td>Day</td><td>149.9</td></tr><tr><td>A-2022439</td><td>Source2</td><td>1.0</td><td>2019-08-14T06:09:58Z</td><td>2019-08-14T06:58:24Z</td><td>33.936295</td><td>-84.15955</td><td>null</td><td>null</td><td>0.0</td><td>Second from left lane blocked and very slow traffic due to accident on I-85 Southbound at Exit 102 GA-378 Beaver Ruin Rd.</td><td>Beaver Ruin Rd</td><td>Norcross</td><td>Gwinnett</td><td>GA</td><td>30071</td><td>US</td><td>US/Eastern</td><td>KPDK</td><td>2019-08-14 05:53:00</td><td>74.0</td><td>74.0</td><td>97.0</td><td>28.88</td><td>10.0</td><td>CALM</td><td>0.0</td><td>0.0</td><td>Fair</td><td>False</td><td>False</td><td>False</td><td>False</td><td>False</td><td>False</td><td>False</td><td>False</td><td>False</td><td>False</td><td>False</td><td>False</td><td>False</td><td>Night</td><td>Night</td><td>Day</td><td>Day</td><td>48.43333333333333</td></tr></tbody></table></div>"
      ]
     },
     "metadata": {
      "application/vnd.databricks.v1+output": {
       "addedWidgets": {},
       "aggData": [],
       "aggError": "",
       "aggOverflow": false,
       "aggSchema": [],
       "aggSeriesLimitReached": false,
       "aggType": "",
       "arguments": {},
       "columnCustomDisplayInfos": {},
       "data": [
        [
         "A-7746881",
         "Source1",
         0.0,
         "2019-08-26T17:47:31Z",
         "2019-08-26T18:15:55Z",
         33.011406,
         -117.07993,
         33.021484,
         -117.0788,
         0.7,
         "At George Cooke Express Dr - Accident. Lane blocked.",
         "Escondido Fwy N",
         "San Diego",
         "San Diego",
         "CA",
         "92128",
         "US",
         "US/Pacific",
         "KRNM",
         "2019-08-26 17:53:00",
         85.0,
         85.0,
         27.0,
         28.4,
         10.0,
         "W",
         10.0,
         0.0,
         "Fair",
         "False",
         "False",
         "False",
         "False",
         "False",
         "False",
         "False",
         "False",
         "False",
         "False",
         "False",
         "False",
         "False",
         "Day",
         "Day",
         "Day",
         "Day",
         28.4
        ],
        [
         "A-1926484",
         "Source2",
         0.0,
         "2019-08-21T15:53:11Z",
         "2019-08-21T17:37:08Z",
         37.89468,
         -122.11463,
         null,
         null,
         0.0,
         "#1 lane blocked due to accident on CA-24 Eastbound after 1st St.",
         "CA-24 E",
         "Lafayette",
         "Contra Costa",
         "CA",
         "94549",
         "US",
         "US/Pacific",
         "KCCR",
         "2019-08-21 15:53:00",
         92.0,
         92.0,
         26.0,
         29.79,
         10.0,
         "W",
         10.0,
         0.0,
         "Fair",
         "False",
         "False",
         "False",
         "False",
         "False",
         "False",
         "False",
         "False",
         "False",
         "False",
         "False",
         "False",
         "False",
         "Day",
         "Day",
         "Day",
         "Day",
         103.95
        ],
        [
         "A-1941046",
         "Source2",
         0.0,
         "2019-08-29T21:26:29Z",
         "2019-08-29T22:41:05Z",
         36.17692,
         -95.99352,
         null,
         null,
         0.0,
         "Accident on Pine St at Martin Luther King Jr Blvd.",
         "N Martin Luther King Jr Blvd",
         "Tulsa",
         "Tulsa",
         "OK",
         "74106",
         "US",
         "US/Central",
         "KTUL",
         "2019-08-29 21:53:00",
         83.0,
         83.0,
         74.0,
         29.25,
         10.0,
         "E",
         7.0,
         0.0,
         "Fair",
         "False",
         "False",
         "True",
         "False",
         "False",
         "False",
         "False",
         "False",
         "False",
         "False",
         "False",
         "True",
         "False",
         "Night",
         "Night",
         "Night",
         "Night",
         74.6
        ],
        [
         "A-2007527",
         "Source2",
         1.0,
         "2019-08-06T16:29:51Z",
         "2019-08-06T16:59:33Z",
         41.90592,
         -87.92125,
         null,
         null,
         0.0,
         "Lane blocked due to accident on I-294 Tri-State Tollway Northbound at Exit 33 I-290 Eisenhower Expy Exits 13A 13B.",
         "US-20 E",
         "Elmhurst",
         "DuPage",
         "IL",
         "60126",
         "US",
         "US/Central",
         "KORD",
         "2019-08-06 16:51:00",
         84.0,
         84.0,
         44.0,
         29.09,
         10.0,
         "NNW",
         9.0,
         0.0,
         "Partly Cloudy",
         "False",
         "False",
         "False",
         "False",
         "False",
         "False",
         "False",
         "False",
         "False",
         "False",
         "False",
         "False",
         "False",
         "Day",
         "Day",
         "Day",
         "Day",
         29.7
        ],
        [
         "A-2024075",
         "Source2",
         1.0,
         "2019-08-15T17:50:58Z",
         "2019-08-15T19:35:28Z",
         42.902653,
         -73.78612,
         null,
         null,
         0.0,
         "Left hand shoulder blocked due to accident on I-87 Southbound before Exit 10 Ushers Rd.",
         "Ushers Rd",
         "Clifton Park",
         "Saratoga",
         "NY",
         "12065",
         "US",
         "US/Eastern",
         "KSCH",
         "2019-08-15 17:56:00",
         75.0,
         75.0,
         78.0,
         29.57,
         10.0,
         "CALM",
         0.0,
         0.0,
         "Mostly Cloudy",
         "False",
         "False",
         "False",
         "False",
         "False",
         "False",
         "False",
         "False",
         "False",
         "False",
         "False",
         "False",
         "False",
         "Day",
         "Day",
         "Day",
         "Day",
         104.5
        ],
        [
         "A-7776771",
         "Source1",
         1.0,
         "2019-08-21T13:53:16Z",
         "2019-08-21T18:38:06Z",
         34.17508,
         -118.39261,
         34.186417,
         -118.40119,
         0.924,
         "Closed between Burbank Blvd and Victory Blvd - Road closed due to accident.",
         "CA-170 N",
         "Valley Village",
         "Los Angeles",
         "CA",
         "91607",
         "US",
         "US/Pacific",
         "KBUR",
         "2019-08-21 13:53:00",
         91.0,
         91.0,
         34.0,
         28.98,
         10.0,
         "S",
         8.0,
         0.0,
         "Fair",
         "False",
         "False",
         "False",
         "False",
         "True",
         "False",
         "False",
         "False",
         "False",
         "False",
         "False",
         "False",
         "False",
         "Day",
         "Day",
         "Day",
         "Day",
         284.8333333333333
        ],
        [
         "A-7775264",
         "Source1",
         0.0,
         "2019-08-19T17:02:10Z",
         "2019-08-19T17:32:00Z",
         40.00982,
         -74.85037,
         40.00935,
         -74.84998,
         0.038,
         "Ramp to Rancocas Rd - Accident. Lane blocked.",
         "I-295 N",
         "Mount Holly",
         "Burlington",
         "NJ",
         "08060",
         "US",
         "US/Eastern",
         "KVAY",
         "2019-08-19 17:18:00",
         82.0,
         82.0,
         74.0,
         29.86,
         10.0,
         "VAR",
         5.0,
         0.0,
         "Thunder in the Vicinity",
         "False",
         "False",
         "False",
         "False",
         "True",
         "False",
         "False",
         "False",
         "False",
         "False",
         "False",
         "False",
         "False",
         "Day",
         "Day",
         "Day",
         "Day",
         29.833333333333332
        ],
        [
         "A-7746875",
         "Source1",
         0.0,
         "2019-08-26T16:04:19Z",
         "2019-08-26T16:34:15Z",
         33.57508,
         -117.67168,
         33.58447,
         -117.67155,
         0.649,
         "At Oso Pky/Exit 88 - Accident.",
         "San Diego Fwy S",
         "Mission Viejo",
         "Orange",
         "CA",
         "92691",
         "US",
         "US/Pacific",
         "KSNA",
         "2019-08-26 15:53:00",
         83.0,
         83.0,
         47.0,
         29.75,
         10.0,
         "SSW",
         12.0,
         0.0,
         "Partly Cloudy",
         "False",
         "False",
         "False",
         "False",
         "False",
         "False",
         "False",
         "False",
         "False",
         "False",
         "False",
         "False",
         "False",
         "Day",
         "Day",
         "Day",
         "Day",
         29.933333333333334
        ],
        [
         "A-2011913",
         "Source2",
         0.0,
         "2019-08-09T09:10:53Z",
         "2019-08-09T11:40:47Z",
         35.12182,
         -80.78035,
         null,
         null,
         0.0,
         "Accident on Lynbridge Dr at NC-16 Providence Rd.",
         "Providence Rd",
         "Charlotte",
         "Mecklenburg",
         "NC",
         "28226-7714",
         "US",
         "US/Eastern",
         "KCLT",
         "2019-08-09 08:52:00",
         79.0,
         79.0,
         64.0,
         29.15,
         10.0,
         "NNW",
         5.0,
         0.0,
         "Partly Cloudy",
         "False",
         "False",
         "False",
         "False",
         "False",
         "False",
         "False",
         "False",
         "False",
         "False",
         "False",
         "False",
         "False",
         "Day",
         "Day",
         "Day",
         "Day",
         149.9
        ],
        [
         "A-2022439",
         "Source2",
         1.0,
         "2019-08-14T06:09:58Z",
         "2019-08-14T06:58:24Z",
         33.936295,
         -84.15955,
         null,
         null,
         0.0,
         "Second from left lane blocked and very slow traffic due to accident on I-85 Southbound at Exit 102 GA-378 Beaver Ruin Rd.",
         "Beaver Ruin Rd",
         "Norcross",
         "Gwinnett",
         "GA",
         "30071",
         "US",
         "US/Eastern",
         "KPDK",
         "2019-08-14 05:53:00",
         74.0,
         74.0,
         97.0,
         28.88,
         10.0,
         "CALM",
         0.0,
         0.0,
         "Fair",
         "False",
         "False",
         "False",
         "False",
         "False",
         "False",
         "False",
         "False",
         "False",
         "False",
         "False",
         "False",
         "False",
         "Night",
         "Night",
         "Day",
         "Day",
         48.43333333333333
        ]
       ],
       "datasetInfos": [],
       "dbfsResultPath": null,
       "isJsonSchema": true,
       "metadata": {},
       "overflow": false,
       "plotOptions": {
        "customPlotOptions": {},
        "displayType": "table",
        "pivotAggregation": null,
        "pivotColumns": null,
        "xColumns": null,
        "yColumns": null
       },
       "removedWidgets": [],
       "schema": [
        {
         "metadata": "{}",
         "name": "ID",
         "type": "\"string\""
        },
        {
         "metadata": "{}",
         "name": "Source",
         "type": "\"string\""
        },
        {
         "metadata": "{}",
         "name": "Severity",
         "type": "\"double\""
        },
        {
         "metadata": "{}",
         "name": "Start_Time",
         "type": "\"timestamp\""
        },
        {
         "metadata": "{}",
         "name": "End_Time",
         "type": "\"timestamp\""
        },
        {
         "metadata": "{}",
         "name": "Start_Lat",
         "type": "\"float\""
        },
        {
         "metadata": "{}",
         "name": "Start_Lng",
         "type": "\"float\""
        },
        {
         "metadata": "{}",
         "name": "End_Lat",
         "type": "\"float\""
        },
        {
         "metadata": "{}",
         "name": "End_Lng",
         "type": "\"float\""
        },
        {
         "metadata": "{}",
         "name": "Distance_miles",
         "type": "\"float\""
        },
        {
         "metadata": "{}",
         "name": "Description",
         "type": "\"string\""
        },
        {
         "metadata": "{}",
         "name": "Street",
         "type": "\"string\""
        },
        {
         "metadata": "{}",
         "name": "City",
         "type": "\"string\""
        },
        {
         "metadata": "{}",
         "name": "County",
         "type": "\"string\""
        },
        {
         "metadata": "{}",
         "name": "State",
         "type": "\"string\""
        },
        {
         "metadata": "{}",
         "name": "Zipcode",
         "type": "\"string\""
        },
        {
         "metadata": "{}",
         "name": "Country",
         "type": "\"string\""
        },
        {
         "metadata": "{}",
         "name": "Timezone",
         "type": "\"string\""
        },
        {
         "metadata": "{}",
         "name": "Airport_Code",
         "type": "\"string\""
        },
        {
         "metadata": "{}",
         "name": "Weather_Timestamp",
         "type": "\"string\""
        },
        {
         "metadata": "{}",
         "name": "Temperature_F",
         "type": "\"float\""
        },
        {
         "metadata": "{}",
         "name": "Wind_Chill_F",
         "type": "\"float\""
        },
        {
         "metadata": "{}",
         "name": "Humidity_percent",
         "type": "\"float\""
        },
        {
         "metadata": "{}",
         "name": "Pressure_in",
         "type": "\"float\""
        },
        {
         "metadata": "{}",
         "name": "Visibility_mi",
         "type": "\"float\""
        },
        {
         "metadata": "{}",
         "name": "Wind_Direction",
         "type": "\"string\""
        },
        {
         "metadata": "{}",
         "name": "Wind_Speed_mph",
         "type": "\"float\""
        },
        {
         "metadata": "{}",
         "name": "Precipitation_in",
         "type": "\"float\""
        },
        {
         "metadata": "{}",
         "name": "Weather_Condition",
         "type": "\"string\""
        },
        {
         "metadata": "{}",
         "name": "Amenity",
         "type": "\"string\""
        },
        {
         "metadata": "{}",
         "name": "Bump",
         "type": "\"string\""
        },
        {
         "metadata": "{}",
         "name": "Crossing",
         "type": "\"string\""
        },
        {
         "metadata": "{}",
         "name": "Give_Way",
         "type": "\"string\""
        },
        {
         "metadata": "{}",
         "name": "Junction",
         "type": "\"string\""
        },
        {
         "metadata": "{}",
         "name": "No_Exit",
         "type": "\"string\""
        },
        {
         "metadata": "{}",
         "name": "Railway",
         "type": "\"string\""
        },
        {
         "metadata": "{}",
         "name": "Roundabout",
         "type": "\"string\""
        },
        {
         "metadata": "{}",
         "name": "Station",
         "type": "\"string\""
        },
        {
         "metadata": "{}",
         "name": "Stop",
         "type": "\"string\""
        },
        {
         "metadata": "{}",
         "name": "Traffic_Calming",
         "type": "\"string\""
        },
        {
         "metadata": "{}",
         "name": "Traffic_Signal",
         "type": "\"string\""
        },
        {
         "metadata": "{}",
         "name": "Turning_Loop",
         "type": "\"string\""
        },
        {
         "metadata": "{}",
         "name": "Sunrise_Sunset",
         "type": "\"string\""
        },
        {
         "metadata": "{}",
         "name": "Civil_Twilight",
         "type": "\"string\""
        },
        {
         "metadata": "{}",
         "name": "Nautical_Twilight",
         "type": "\"string\""
        },
        {
         "metadata": "{}",
         "name": "Astronomical_Twilight",
         "type": "\"string\""
        },
        {
         "metadata": "{}",
         "name": "accident_duration_mins",
         "type": "\"double\""
        }
       ],
       "type": "table"
      }
     },
     "output_type": "display_data"
    }
   ],
   "source": [
    "# df_model = df.drop(\"ID\", \"Source\", \"Start_Time\", \"End_Time\", \"Start_Lat\", \"Start_Lng\", \"End_Lat\", \"End_Lng\", \"Street\", \"City\", \"County\", \"Zipcode\", \"Description\", \"Country\", \"Timezone\", \"Airport_Code\", \"Weather_Timestamp\", \"Wind_Direction\", \"Weather_Condition\", \"Distance_miles\", \"Precipitation_in\")\n",
    "df_model = df\n",
    "df_model.limit(10).display()"
   ]
  },
  {
   "cell_type": "code",
   "execution_count": 0,
   "metadata": {
    "application/vnd.databricks.v1+cell": {
     "cellMetadata": {
      "byteLimit": 2048000,
      "rowLimit": 10000
     },
     "inputWidgets": {},
     "nuid": "5ffcc448-f039-41c7-b99d-35948df52e17",
     "showTitle": false,
     "title": ""
    }
   },
   "outputs": [],
   "source": [
    "label = \"Severity\"\n",
    "\n",
    "numerical_cols = ['Temperature_F', 'Wind_Chill_F', 'Humidity_percent', 'Pressure_in', 'Visibility_mi', 'Wind_Speed_mph', 'accident_duration_mins']\n",
    "\n",
    "cat_cols = ['State'] \n",
    "\n",
    "boolean_cols = ['Amenity', 'Crossing','Give_Way','Junction', 'Railway', 'Station','Stop','Traffic_Signal', 'Sunrise_Sunset', 'Civil_Twilight','Nautical_Twilight','Astronomical_Twilight']"
   ]
  },
  {
   "cell_type": "code",
   "execution_count": 0,
   "metadata": {
    "application/vnd.databricks.v1+cell": {
     "cellMetadata": {
      "byteLimit": 2048000,
      "rowLimit": 10000
     },
     "inputWidgets": {},
     "nuid": "6c9abfda-8e9b-4461-ae15-df40edcee924",
     "showTitle": false,
     "title": ""
    }
   },
   "outputs": [],
   "source": [
    "from pyspark.ml.feature import OneHotEncoder, StandardScaler, SQLTransformer, StringIndexer, VectorAssembler\n",
    "from pyspark.ml.classification import DecisionTreeClassifier, DecisionTreeClassificationModel, LogisticRegression\n",
    "from pyspark.ml import Pipeline, PipelineModel"
   ]
  },
  {
   "cell_type": "code",
   "execution_count": 0,
   "metadata": {
    "application/vnd.databricks.v1+cell": {
     "cellMetadata": {
      "byteLimit": 2048000,
      "rowLimit": 10000
     },
     "inputWidgets": {},
     "nuid": "f81d2d14-3ed2-4a2c-850a-9ed633867e91",
     "showTitle": false,
     "title": ""
    }
   },
   "outputs": [],
   "source": [
    "\n",
    "# df_model_si = si.fit(df_model_limit_10).transform(df_model_limit_10)\n",
    "# df_model_si.display()\n",
    "\n",
    "# df_model_ohe = ohe.fit(df_model_si).transform(df_model_si)\n",
    "# df_model_ohe.display()\n",
    "\n",
    "# df_model_num_va = va.transform(df_model_ohe)\n",
    "# df_model_num_va.limit(10).display()\n",
    "\n",
    "# df_model_scaled = sc.fit(df_model_num_va).transform(df_model_num_va)\n",
    "# df_model_scaled.limit(10).display()\n",
    "\n",
    "#df_model_va = va_features.transform(df_model_scaled)\n",
    "# df_model_va.limit(10).display()"
   ]
  },
  {
   "cell_type": "code",
   "execution_count": 0,
   "metadata": {
    "application/vnd.databricks.v1+cell": {
     "cellMetadata": {
      "byteLimit": 2048000,
      "rowLimit": 10000
     },
     "inputWidgets": {},
     "nuid": "a73d5e77-26ce-4bfe-ac59-57762e3e83fc",
     "showTitle": false,
     "title": ""
    }
   },
   "outputs": [],
   "source": [
    "# cat_cols_ohe\n",
    "si_input_cols = cat_cols + boolean_cols\n",
    "si_output_cols = [ col+\"_si\" for col in si_input_cols]\n",
    "ohe_input_cols = [ col+\"_si\" for col in cat_cols ]\n",
    "ohe_output_cols = [ col+\"_ohe\" for col in cat_cols ]\n",
    "\n",
    "\n",
    "si = StringIndexer(inputCols=si_input_cols, outputCols=si_output_cols, handleInvalid='keep')\n",
    "ohe = OneHotEncoder(inputCols=ohe_input_cols, outputCols=ohe_output_cols, handleInvalid='keep')\n",
    "va = VectorAssembler(inputCols = numerical_cols, outputCol=\"numerical_features\")\n",
    "sc = StandardScaler(inputCol=\"numerical_features\", outputCol=\"numerical_scaled\")\n",
    "\n",
    "#combine all ohe + SI + sc\n",
    "input_features = [col+\"_ohe\" for col in cat_cols] + [col+\"_si\" for col in boolean_cols] + [sc.\n",
    "getOutputCol()]\n",
    "va_features = VectorAssembler(inputCols=input_features, outputCol=\"features\")\n"
   ]
  },
  {
   "cell_type": "code",
   "execution_count": 0,
   "metadata": {
    "application/vnd.databricks.v1+cell": {
     "cellMetadata": {
      "byteLimit": 2048000,
      "rowLimit": 10000
     },
     "inputWidgets": {},
     "nuid": "18e5c7e0-6d5c-4ddb-abe9-ceabc869f14c",
     "showTitle": false,
     "title": ""
    }
   },
   "outputs": [
    {
     "output_type": "stream",
     "name": "stdout",
     "output_type": "stream",
     "text": [
      "There are 35350 training and 15213 test points.\n"
     ]
    }
   ],
   "source": [
    "training, test = df_model.randomSplit([0.7, 0.3], 0)\n",
    " \n",
    "training.cache()\n",
    "test.cache()\n",
    " \n",
    "print(\"There are {} training and {} test points.\".format(training.count(), test.count()))"
   ]
  },
  {
   "cell_type": "code",
   "execution_count": 0,
   "metadata": {
    "application/vnd.databricks.v1+cell": {
     "cellMetadata": {
      "byteLimit": 2048000,
      "rowLimit": 10000
     },
     "inputWidgets": {},
     "nuid": "046e34d7-7c45-4f7c-add6-d2ea70567761",
     "showTitle": false,
     "title": ""
    }
   },
   "outputs": [
    {
     "output_type": "execute_result",
     "data": {
      "text/plain": [
       "(0.6970186923258932, 1.7689151321056846)"
      ]
     },
     "execution_count": 9,
     "metadata": {},
     "output_type": "execute_result"
    }
   ],
   "source": [
    "no_of_classes = training.selectExpr(\"Severity\").distinct().count()\n",
    "overall_count = training.count()\n",
    "class_0, class_1 = training.groupBy(\"Severity\").count().orderBy(\"count\", ascending=False).collect()[0], training.groupBy(\"Severity\").count().orderBy(\"count\", ascending=False).collect()[1] # access class_0[1], class_1[1] to get each class counts\n",
    "## weighing scheme 1\n",
    "zero_wt = overall_count/(no_of_classes * class_0[1])\n",
    "non_zero_wt = overall_count/(no_of_classes * class_1[1])\n",
    "\n",
    "## weighing scheme 2\n",
    "# zero_wt = overall_count/class_0[1]\n",
    "# non_zero_wt = overall_count/class_1[1]\n",
    "\n",
    "zero_wt, non_zero_wt"
   ]
  },
  {
   "cell_type": "code",
   "execution_count": 0,
   "metadata": {
    "application/vnd.databricks.v1+cell": {
     "cellMetadata": {
      "byteLimit": 2048000,
      "rowLimit": 10000
     },
     "inputWidgets": {},
     "nuid": "1ed09085-de75-431a-8816-de80cb1d9e59",
     "showTitle": false,
     "title": ""
    }
   },
   "outputs": [
    {
     "output_type": "display_data",
     "data": {
      "text/html": [
       "<style scoped>\n",
       "  .table-result-container {\n",
       "    max-height: 300px;\n",
       "    overflow: auto;\n",
       "  }\n",
       "  table, th, td {\n",
       "    border: 1px solid black;\n",
       "    border-collapse: collapse;\n",
       "  }\n",
       "  th, td {\n",
       "    padding: 5px;\n",
       "  }\n",
       "  th {\n",
       "    text-align: left;\n",
       "  }\n",
       "</style><div class='table-result-container'><table class='table-result'><thead style='background-color: white'><tr><th>ID</th><th>Source</th><th>Severity</th><th>Start_Time</th><th>End_Time</th><th>Start_Lat</th><th>Start_Lng</th><th>End_Lat</th><th>End_Lng</th><th>Distance_miles</th><th>Description</th><th>Street</th><th>City</th><th>County</th><th>State</th><th>Zipcode</th><th>Country</th><th>Timezone</th><th>Airport_Code</th><th>Weather_Timestamp</th><th>Temperature_F</th><th>Wind_Chill_F</th><th>Humidity_percent</th><th>Pressure_in</th><th>Visibility_mi</th><th>Wind_Direction</th><th>Wind_Speed_mph</th><th>Precipitation_in</th><th>Weather_Condition</th><th>Amenity</th><th>Bump</th><th>Crossing</th><th>Give_Way</th><th>Junction</th><th>No_Exit</th><th>Railway</th><th>Roundabout</th><th>Station</th><th>Stop</th><th>Traffic_Calming</th><th>Traffic_Signal</th><th>Turning_Loop</th><th>Sunrise_Sunset</th><th>Civil_Twilight</th><th>Nautical_Twilight</th><th>Astronomical_Twilight</th><th>accident_duration_mins</th><th>weightCol</th></tr></thead><tbody><tr><td>A-1791519</td><td>Source2</td><td>0.0</td><td>2019-11-01T08:27:31Z</td><td>2019-11-01T09:29:51Z</td><td>39.452465</td><td>-74.53608</td><td>null</td><td>null</td><td>0.0</td><td>Right hand shoulder blocked due to accident on Garden State Pkwy Northbound after Exit 40 US-30.</td><td>Garden State Pkwy N</td><td>Absecon</td><td>Atlantic</td><td>NJ</td><td>08205</td><td>US</td><td>US/Eastern</td><td>KACY</td><td>2019-11-01 08:54:00</td><td>46.0</td><td>39.0</td><td>57.0</td><td>30.01</td><td>10.0</td><td>WNW</td><td>17.0</td><td>0.0</td><td>Fair</td><td>False</td><td>False</td><td>False</td><td>False</td><td>False</td><td>False</td><td>False</td><td>False</td><td>False</td><td>False</td><td>False</td><td>False</td><td>False</td><td>Day</td><td>Day</td><td>Day</td><td>Day</td><td>62.333333333333336</td><td>0.6970186923258932</td></tr><tr><td>A-1791555</td><td>Source2</td><td>0.0</td><td>2019-11-01T10:46:28Z</td><td>2019-11-01T13:08:41Z</td><td>40.85328</td><td>-73.83377</td><td>null</td><td>null</td><td>0.0</td><td>Accident on Mayflower Ave at 195th St.</td><td>E 195th St</td><td>Bronx</td><td>Bronx</td><td>NY</td><td>10461-3914</td><td>US</td><td>US/Eastern</td><td>KLGA</td><td>2019-11-01 10:51:00</td><td>49.0</td><td>42.0</td><td>44.0</td><td>30.0</td><td>10.0</td><td>W</td><td>21.0</td><td>0.0</td><td>Fair / Windy</td><td>False</td><td>False</td><td>False</td><td>False</td><td>False</td><td>False</td><td>False</td><td>False</td><td>False</td><td>False</td><td>False</td><td>False</td><td>False</td><td>Day</td><td>Day</td><td>Day</td><td>Day</td><td>142.21666666666667</td><td>0.6970186923258932</td></tr><tr><td>A-1791591</td><td>Source2</td><td>1.0</td><td>2019-11-01T15:44:32Z</td><td>2019-11-01T16:59:17Z</td><td>40.857105</td><td>-73.96836</td><td>null</td><td>null</td><td>1.59</td><td>Right lane blocked due to accident and stalled vehicle on I-95 George Washington Bridge Upper Level Northbound from Henry Hudson Pkwy to Palisades Interstate Pkwy.</td><td>Center Ave</td><td>Fort Lee</td><td>Bergen</td><td>NJ</td><td>07024-5808</td><td>US</td><td>US/Eastern</td><td>KTEB</td><td>2019-11-01 15:51:00</td><td>56.0</td><td>56.0</td><td>36.0</td><td>30.08</td><td>10.0</td><td>NW</td><td>14.0</td><td>0.0</td><td>Fair</td><td>False</td><td>False</td><td>False</td><td>False</td><td>False</td><td>False</td><td>False</td><td>False</td><td>False</td><td>False</td><td>False</td><td>False</td><td>False</td><td>Day</td><td>Day</td><td>Day</td><td>Day</td><td>74.75</td><td>1.7689151321056846</td></tr><tr><td>A-1791775</td><td>Source2</td><td>0.0</td><td>2019-11-01T05:55:49Z</td><td>2019-11-01T06:55:28Z</td><td>40.16366</td><td>-83.04492</td><td>null</td><td>null</td><td>0.0</td><td>Accident on OH-315 Olentangy River Rd at Retreat Ln.</td><td>Retreat Ln</td><td>Powell</td><td>Delaware</td><td>OH</td><td>43065</td><td>US</td><td>US/Eastern</td><td>KOSU</td><td>2019-11-01 05:53:00</td><td>32.0</td><td>22.0</td><td>66.0</td><td>29.25</td><td>10.0</td><td>W</td><td>15.0</td><td>0.0</td><td>Cloudy</td><td>False</td><td>False</td><td>False</td><td>False</td><td>False</td><td>False</td><td>False</td><td>False</td><td>False</td><td>False</td><td>False</td><td>False</td><td>False</td><td>Night</td><td>Night</td><td>Night</td><td>Night</td><td>59.65</td><td>0.6970186923258932</td></tr><tr><td>A-1791925</td><td>Source2</td><td>0.0</td><td>2019-11-01T14:17:53Z</td><td>2019-11-01T15:52:58Z</td><td>35.198933</td><td>-80.771675</td><td>null</td><td>null</td><td>0.0</td><td>Accident on US-74 Independence Blvd at Pierson Dr.</td><td>E Independence Blvd</td><td>Charlotte</td><td>Mecklenburg</td><td>NC</td><td>28205</td><td>US</td><td>US/Eastern</td><td>KCLT</td><td>2019-11-01 13:52:00</td><td>56.0</td><td>56.0</td><td>44.0</td><td>29.45</td><td>10.0</td><td>VAR</td><td>5.0</td><td>0.0</td><td>Fair</td><td>False</td><td>False</td><td>False</td><td>False</td><td>False</td><td>False</td><td>False</td><td>False</td><td>False</td><td>False</td><td>False</td><td>False</td><td>False</td><td>Day</td><td>Day</td><td>Day</td><td>Day</td><td>95.08333333333333</td><td>0.6970186923258932</td></tr></tbody></table></div>"
      ]
     },
     "metadata": {
      "application/vnd.databricks.v1+output": {
       "addedWidgets": {},
       "aggData": [],
       "aggError": "",
       "aggOverflow": false,
       "aggSchema": [],
       "aggSeriesLimitReached": false,
       "aggType": "",
       "arguments": {},
       "columnCustomDisplayInfos": {},
       "data": [
        [
         "A-1791519",
         "Source2",
         0.0,
         "2019-11-01T08:27:31Z",
         "2019-11-01T09:29:51Z",
         39.452465,
         -74.53608,
         null,
         null,
         0.0,
         "Right hand shoulder blocked due to accident on Garden State Pkwy Northbound after Exit 40 US-30.",
         "Garden State Pkwy N",
         "Absecon",
         "Atlantic",
         "NJ",
         "08205",
         "US",
         "US/Eastern",
         "KACY",
         "2019-11-01 08:54:00",
         46.0,
         39.0,
         57.0,
         30.01,
         10.0,
         "WNW",
         17.0,
         0.0,
         "Fair",
         "False",
         "False",
         "False",
         "False",
         "False",
         "False",
         "False",
         "False",
         "False",
         "False",
         "False",
         "False",
         "False",
         "Day",
         "Day",
         "Day",
         "Day",
         62.333333333333336,
         0.6970186923258932
        ],
        [
         "A-1791555",
         "Source2",
         0.0,
         "2019-11-01T10:46:28Z",
         "2019-11-01T13:08:41Z",
         40.85328,
         -73.83377,
         null,
         null,
         0.0,
         "Accident on Mayflower Ave at 195th St.",
         "E 195th St",
         "Bronx",
         "Bronx",
         "NY",
         "10461-3914",
         "US",
         "US/Eastern",
         "KLGA",
         "2019-11-01 10:51:00",
         49.0,
         42.0,
         44.0,
         30.0,
         10.0,
         "W",
         21.0,
         0.0,
         "Fair / Windy",
         "False",
         "False",
         "False",
         "False",
         "False",
         "False",
         "False",
         "False",
         "False",
         "False",
         "False",
         "False",
         "False",
         "Day",
         "Day",
         "Day",
         "Day",
         142.21666666666667,
         0.6970186923258932
        ],
        [
         "A-1791591",
         "Source2",
         1.0,
         "2019-11-01T15:44:32Z",
         "2019-11-01T16:59:17Z",
         40.857105,
         -73.96836,
         null,
         null,
         1.59,
         "Right lane blocked due to accident and stalled vehicle on I-95 George Washington Bridge Upper Level Northbound from Henry Hudson Pkwy to Palisades Interstate Pkwy.",
         "Center Ave",
         "Fort Lee",
         "Bergen",
         "NJ",
         "07024-5808",
         "US",
         "US/Eastern",
         "KTEB",
         "2019-11-01 15:51:00",
         56.0,
         56.0,
         36.0,
         30.08,
         10.0,
         "NW",
         14.0,
         0.0,
         "Fair",
         "False",
         "False",
         "False",
         "False",
         "False",
         "False",
         "False",
         "False",
         "False",
         "False",
         "False",
         "False",
         "False",
         "Day",
         "Day",
         "Day",
         "Day",
         74.75,
         1.7689151321056846
        ],
        [
         "A-1791775",
         "Source2",
         0.0,
         "2019-11-01T05:55:49Z",
         "2019-11-01T06:55:28Z",
         40.16366,
         -83.04492,
         null,
         null,
         0.0,
         "Accident on OH-315 Olentangy River Rd at Retreat Ln.",
         "Retreat Ln",
         "Powell",
         "Delaware",
         "OH",
         "43065",
         "US",
         "US/Eastern",
         "KOSU",
         "2019-11-01 05:53:00",
         32.0,
         22.0,
         66.0,
         29.25,
         10.0,
         "W",
         15.0,
         0.0,
         "Cloudy",
         "False",
         "False",
         "False",
         "False",
         "False",
         "False",
         "False",
         "False",
         "False",
         "False",
         "False",
         "False",
         "False",
         "Night",
         "Night",
         "Night",
         "Night",
         59.65,
         0.6970186923258932
        ],
        [
         "A-1791925",
         "Source2",
         0.0,
         "2019-11-01T14:17:53Z",
         "2019-11-01T15:52:58Z",
         35.198933,
         -80.771675,
         null,
         null,
         0.0,
         "Accident on US-74 Independence Blvd at Pierson Dr.",
         "E Independence Blvd",
         "Charlotte",
         "Mecklenburg",
         "NC",
         "28205",
         "US",
         "US/Eastern",
         "KCLT",
         "2019-11-01 13:52:00",
         56.0,
         56.0,
         44.0,
         29.45,
         10.0,
         "VAR",
         5.0,
         0.0,
         "Fair",
         "False",
         "False",
         "False",
         "False",
         "False",
         "False",
         "False",
         "False",
         "False",
         "False",
         "False",
         "False",
         "False",
         "Day",
         "Day",
         "Day",
         "Day",
         95.08333333333333,
         0.6970186923258932
        ]
       ],
       "datasetInfos": [],
       "dbfsResultPath": null,
       "isJsonSchema": true,
       "metadata": {},
       "overflow": false,
       "plotOptions": {
        "customPlotOptions": {},
        "displayType": "table",
        "pivotAggregation": null,
        "pivotColumns": null,
        "xColumns": null,
        "yColumns": null
       },
       "removedWidgets": [],
       "schema": [
        {
         "metadata": "{}",
         "name": "ID",
         "type": "\"string\""
        },
        {
         "metadata": "{}",
         "name": "Source",
         "type": "\"string\""
        },
        {
         "metadata": "{}",
         "name": "Severity",
         "type": "\"double\""
        },
        {
         "metadata": "{}",
         "name": "Start_Time",
         "type": "\"timestamp\""
        },
        {
         "metadata": "{}",
         "name": "End_Time",
         "type": "\"timestamp\""
        },
        {
         "metadata": "{}",
         "name": "Start_Lat",
         "type": "\"float\""
        },
        {
         "metadata": "{}",
         "name": "Start_Lng",
         "type": "\"float\""
        },
        {
         "metadata": "{}",
         "name": "End_Lat",
         "type": "\"float\""
        },
        {
         "metadata": "{}",
         "name": "End_Lng",
         "type": "\"float\""
        },
        {
         "metadata": "{}",
         "name": "Distance_miles",
         "type": "\"float\""
        },
        {
         "metadata": "{}",
         "name": "Description",
         "type": "\"string\""
        },
        {
         "metadata": "{}",
         "name": "Street",
         "type": "\"string\""
        },
        {
         "metadata": "{}",
         "name": "City",
         "type": "\"string\""
        },
        {
         "metadata": "{}",
         "name": "County",
         "type": "\"string\""
        },
        {
         "metadata": "{}",
         "name": "State",
         "type": "\"string\""
        },
        {
         "metadata": "{}",
         "name": "Zipcode",
         "type": "\"string\""
        },
        {
         "metadata": "{}",
         "name": "Country",
         "type": "\"string\""
        },
        {
         "metadata": "{}",
         "name": "Timezone",
         "type": "\"string\""
        },
        {
         "metadata": "{}",
         "name": "Airport_Code",
         "type": "\"string\""
        },
        {
         "metadata": "{}",
         "name": "Weather_Timestamp",
         "type": "\"string\""
        },
        {
         "metadata": "{}",
         "name": "Temperature_F",
         "type": "\"float\""
        },
        {
         "metadata": "{}",
         "name": "Wind_Chill_F",
         "type": "\"float\""
        },
        {
         "metadata": "{}",
         "name": "Humidity_percent",
         "type": "\"float\""
        },
        {
         "metadata": "{}",
         "name": "Pressure_in",
         "type": "\"float\""
        },
        {
         "metadata": "{}",
         "name": "Visibility_mi",
         "type": "\"float\""
        },
        {
         "metadata": "{}",
         "name": "Wind_Direction",
         "type": "\"string\""
        },
        {
         "metadata": "{}",
         "name": "Wind_Speed_mph",
         "type": "\"float\""
        },
        {
         "metadata": "{}",
         "name": "Precipitation_in",
         "type": "\"float\""
        },
        {
         "metadata": "{}",
         "name": "Weather_Condition",
         "type": "\"string\""
        },
        {
         "metadata": "{}",
         "name": "Amenity",
         "type": "\"string\""
        },
        {
         "metadata": "{}",
         "name": "Bump",
         "type": "\"string\""
        },
        {
         "metadata": "{}",
         "name": "Crossing",
         "type": "\"string\""
        },
        {
         "metadata": "{}",
         "name": "Give_Way",
         "type": "\"string\""
        },
        {
         "metadata": "{}",
         "name": "Junction",
         "type": "\"string\""
        },
        {
         "metadata": "{}",
         "name": "No_Exit",
         "type": "\"string\""
        },
        {
         "metadata": "{}",
         "name": "Railway",
         "type": "\"string\""
        },
        {
         "metadata": "{}",
         "name": "Roundabout",
         "type": "\"string\""
        },
        {
         "metadata": "{}",
         "name": "Station",
         "type": "\"string\""
        },
        {
         "metadata": "{}",
         "name": "Stop",
         "type": "\"string\""
        },
        {
         "metadata": "{}",
         "name": "Traffic_Calming",
         "type": "\"string\""
        },
        {
         "metadata": "{}",
         "name": "Traffic_Signal",
         "type": "\"string\""
        },
        {
         "metadata": "{}",
         "name": "Turning_Loop",
         "type": "\"string\""
        },
        {
         "metadata": "{}",
         "name": "Sunrise_Sunset",
         "type": "\"string\""
        },
        {
         "metadata": "{}",
         "name": "Civil_Twilight",
         "type": "\"string\""
        },
        {
         "metadata": "{}",
         "name": "Nautical_Twilight",
         "type": "\"string\""
        },
        {
         "metadata": "{}",
         "name": "Astronomical_Twilight",
         "type": "\"string\""
        },
        {
         "metadata": "{}",
         "name": "accident_duration_mins",
         "type": "\"double\""
        },
        {
         "metadata": "{}",
         "name": "weightCol",
         "type": "\"double\""
        }
       ],
       "type": "table"
      }
     },
     "output_type": "display_data"
    }
   ],
   "source": [
    "training = training.withColumn(\"weightCol\", F.when(training.Severity == 0, zero_wt).otherwise(non_zero_wt))\n",
    "\n",
    "training.limit(5).display()"
   ]
  },
  {
   "cell_type": "code",
   "execution_count": 0,
   "metadata": {
    "application/vnd.databricks.v1+cell": {
     "cellMetadata": {
      "byteLimit": 2048000,
      "rowLimit": 10000
     },
     "inputWidgets": {},
     "nuid": "31c70b74-b442-42f9-9101-508ec9bc1325",
     "showTitle": false,
     "title": ""
    }
   },
   "outputs": [],
   "source": [
    "# StringIndexer: Convert the input column \"label\" (digits) to categorical values\n",
    "# indexer = StringIndexer(inputCol=\"label\", outputCol=\"indexedLabel\")\n",
    "# DecisionTreeClassifier: Learn to predict column \"indexedLabel\" using the \"features\" column\n",
    "# dtc = DecisionTreeClassifier(labelCol=\"indexedLabel\")\n",
    "lr = LogisticRegression(featuresCol='features', labelCol=\"Severity\", weightCol='weightCol')\n",
    "# Chain indexer + dtc together into a single ML Pipeline\n",
    "pipeline = Pipeline(stages=[si, ohe, va, sc, va_features, lr])"
   ]
  },
  {
   "cell_type": "code",
   "execution_count": 0,
   "metadata": {
    "application/vnd.databricks.v1+cell": {
     "cellMetadata": {
      "byteLimit": 2048000,
      "rowLimit": 10000
     },
     "inputWidgets": {},
     "nuid": "f7e14203-fab6-478a-944a-8f9fc2338275",
     "showTitle": false,
     "title": ""
    }
   },
   "outputs": [],
   "source": [
    "# Create an evaluator.  In this case, use \"weightedPrecision\".\n",
    "from pyspark.ml.evaluation import BinaryClassificationEvaluator\n",
    "evaluator = BinaryClassificationEvaluator(labelCol=\"Severity\", metricName=\"areaUnderPR\", weightCol='weightCol')\n",
    "evaluator_roc = BinaryClassificationEvaluator(labelCol=\"Severity\", metricName=\"areaUnderROC\", weightCol='weightCol')"
   ]
  },
  {
   "cell_type": "code",
   "execution_count": 0,
   "metadata": {
    "application/vnd.databricks.v1+cell": {
     "cellMetadata": {
      "byteLimit": 2048000,
      "rowLimit": 10000
     },
     "inputWidgets": {},
     "nuid": "4903caa2-c609-4dc9-8d8d-66c1671dfcb5",
     "showTitle": false,
     "title": ""
    }
   },
   "outputs": [],
   "source": [
    "from pyspark.ml.tuning import CrossValidator, ParamGridBuilder"
   ]
  },
  {
   "cell_type": "code",
   "execution_count": 0,
   "metadata": {
    "application/vnd.databricks.v1+cell": {
     "cellMetadata": {
      "byteLimit": 2048000,
      "rowLimit": 10000
     },
     "inputWidgets": {},
     "nuid": "995c1c07-2cb9-421f-bfbf-8daee7bc747f",
     "showTitle": false,
     "title": ""
    }
   },
   "outputs": [
    {
     "output_type": "display_data",
     "data": {
      "application/vnd.jupyter.widget-view+json": {
       "model_id": "4c8fbbec53164738af552f4e86107a46",
       "version_major": 2,
       "version_minor": 0
      },
      "text/plain": [
       "Downloading artifacts:   0%|          | 0/4542 [00:00<?, ?it/s]"
      ]
     },
     "metadata": {},
     "output_type": "display_data"
    },
    {
     "output_type": "display_data",
     "data": {
      "application/vnd.jupyter.widget-view+json": {
       "model_id": "ade91add48d74fe4a03d0d6766cec014",
       "version_major": 2,
       "version_minor": 0
      },
      "text/plain": [
       "Uploading artifacts:   0%|          | 0/4 [00:00<?, ?it/s]"
      ]
     },
     "metadata": {},
     "output_type": "display_data"
    },
    {
     "output_type": "display_data",
     "data": {
      "application/vnd.jupyter.widget-view+json": {
       "model_id": "cf8d12d45a754dc48d7ba3e0376ed660",
       "version_major": 2,
       "version_minor": 0
      },
      "text/plain": [
       "Downloading artifacts:   0%|          | 0/34 [00:00<?, ?it/s]"
      ]
     },
     "metadata": {},
     "output_type": "display_data"
    },
    {
     "output_type": "display_data",
     "data": {
      "application/vnd.jupyter.widget-view+json": {
       "model_id": "5b321dda268c489aa7ff280c0cabb97f",
       "version_major": 2,
       "version_minor": 0
      },
      "text/plain": [
       "Uploading artifacts:   0%|          | 0/4 [00:00<?, ?it/s]"
      ]
     },
     "metadata": {},
     "output_type": "display_data"
    }
   ],
   "source": [
    "from pyspark.ml.tuning import ParamGridBuilder, CrossValidator\n",
    "# Other imports and your model setup\n",
    "\n",
    "# Set up the parameter grid\n",
    "# grid = ParamGridBuilder() \\\n",
    "#     .addGrid(dtc.maxDepth, [4, 6]) \\\n",
    "#     .addGrid(dtc.maxBins, [4, 6]) \\\n",
    "#     .build()\n",
    "\n",
    "grid = ParamGridBuilder() \\\n",
    "        .addGrid(lr.regParam, [0.01, 0.9]) \\\n",
    "        .addGrid(lr.elasticNetParam, [0.5, 0.9]) \\\n",
    "        .addGrid(lr.threshold, [0.05, 0.1, 0.2, 0.3, 0.4, 0.5, 0.6, 0.7, 0.8, 0.9, 0.95]) \\\n",
    "        .build()\n",
    "\n",
    "# Set up cross-validation\n",
    "# cv = CrossValidator(estimator=pipeline, evaluator=evaluator, estimatorParamMaps=grid, numFolds=3)\n",
    "cv = CrossValidator(\n",
    "    estimator=pipeline, \n",
    "    estimatorParamMaps=grid, \n",
    "    evaluator=evaluator_roc, \n",
    "    numFolds=3,\n",
    "    collectSubModels=True  # Ensure this is set to True\n",
    ")\n",
    "\n",
    "# Run cross-validation\n",
    "cvModel = cv.fit(training)"
   ]
  },
  {
   "cell_type": "code",
   "execution_count": 0,
   "metadata": {
    "application/vnd.databricks.v1+cell": {
     "cellMetadata": {
      "byteLimit": 2048000,
      "rowLimit": 10000
     },
     "inputWidgets": {},
     "nuid": "eacaf9bf-834a-4119-b4c1-fa264e596235",
     "showTitle": false,
     "title": ""
    }
   },
   "outputs": [],
   "source": [
    "pipeline_path = \"dbfs:/FileStore/artifacts/pipeline_accidents/logistic_weighted\"\n",
    "pipeline_model_path = \"dbfs:/FileStore/artifacts/pipeline_model_accidents/logistic_weighted\"\n",
    "\n",
    "pipeline.write().overwrite().save(pipeline_path)\n",
    "cvModel.bestModel.write().overwrite().save(pipeline_model_path)"
   ]
  },
  {
   "cell_type": "code",
   "execution_count": 0,
   "metadata": {
    "application/vnd.databricks.v1+cell": {
     "cellMetadata": {
      "byteLimit": 2048000,
      "rowLimit": 10000
     },
     "inputWidgets": {},
     "nuid": "8916a5cd-d8bc-4e31-a1d1-c386e9d46332",
     "showTitle": false,
     "title": ""
    }
   },
   "outputs": [],
   "source": [
    "from pyspark.ml import Pipeline, PipelineModel\n",
    "pipeline_for_inference = Pipeline.load(pipeline_path)\n",
    "pipeline_model_for_inference = PipelineModel.load(pipeline_model_path)"
   ]
  },
  {
   "cell_type": "code",
   "execution_count": 0,
   "metadata": {
    "application/vnd.databricks.v1+cell": {
     "cellMetadata": {
      "byteLimit": 2048000,
      "rowLimit": 10000
     },
     "inputWidgets": {},
     "nuid": "3b29d2dc-d25c-42c3-a1c9-a5946cfb30d5",
     "showTitle": false,
     "title": ""
    }
   },
   "outputs": [
    {
     "output_type": "display_data",
     "data": {
      "text/html": [
       "<style scoped>\n",
       "  .table-result-container {\n",
       "    max-height: 300px;\n",
       "    overflow: auto;\n",
       "  }\n",
       "  table, th, td {\n",
       "    border: 1px solid black;\n",
       "    border-collapse: collapse;\n",
       "  }\n",
       "  th, td {\n",
       "    padding: 5px;\n",
       "  }\n",
       "  th {\n",
       "    text-align: left;\n",
       "  }\n",
       "</style><div class='table-result-container'><table class='table-result'><thead style='background-color: white'><tr><th>ID</th><th>Source</th><th>Severity</th><th>Start_Time</th><th>End_Time</th><th>Start_Lat</th><th>Start_Lng</th><th>End_Lat</th><th>End_Lng</th><th>Distance_miles</th><th>Description</th><th>Street</th><th>City</th><th>County</th><th>State</th><th>Zipcode</th><th>Country</th><th>Timezone</th><th>Airport_Code</th><th>Weather_Timestamp</th><th>Temperature_F</th><th>Wind_Chill_F</th><th>Humidity_percent</th><th>Pressure_in</th><th>Visibility_mi</th><th>Wind_Direction</th><th>Wind_Speed_mph</th><th>Precipitation_in</th><th>Weather_Condition</th><th>Amenity</th><th>Bump</th><th>Crossing</th><th>Give_Way</th><th>Junction</th><th>No_Exit</th><th>Railway</th><th>Roundabout</th><th>Station</th><th>Stop</th><th>Traffic_Calming</th><th>Traffic_Signal</th><th>Turning_Loop</th><th>Sunrise_Sunset</th><th>Civil_Twilight</th><th>Nautical_Twilight</th><th>Astronomical_Twilight</th><th>accident_duration_mins</th><th>weightCol</th><th>State_si</th><th>Amenity_si</th><th>Crossing_si</th><th>Give_Way_si</th><th>Junction_si</th><th>Railway_si</th><th>Station_si</th><th>Stop_si</th><th>Traffic_Signal_si</th><th>Sunrise_Sunset_si</th><th>Civil_Twilight_si</th><th>Nautical_Twilight_si</th><th>Astronomical_Twilight_si</th><th>State_ohe</th><th>numerical_features</th><th>numerical_scaled</th><th>features</th><th>rawPrediction</th><th>probability</th><th>prediction</th></tr></thead><tbody><tr><td>A-1791414</td><td>Source2</td><td>0.0</td><td>2019-11-01T15:04:36Z</td><td>2019-11-01T16:23:16Z</td><td>42.99598</td><td>-83.63405</td><td>null</td><td>null</td><td>0.67</td><td>Lane blocked due to accident on Center Rd from Clarice Ave to Byers St.</td><td>Byers St</td><td>Burton</td><td>Genesee</td><td>MI</td><td>48519-1042</td><td>US</td><td>US/Eastern</td><td>KFNT</td><td>2019-11-01 14:53:00</td><td>41.0</td><td>34.0</td><td>62.0</td><td>29.35</td><td>10.0</td><td>SW</td><td>13.0</td><td>0.0</td><td>Mostly Cloudy</td><td>False</td><td>False</td><td>False</td><td>False</td><td>False</td><td>False</td><td>False</td><td>False</td><td>False</td><td>False</td><td>False</td><td>False</td><td>False</td><td>Day</td><td>Day</td><td>Day</td><td>Day</td><td>78.66666666666667</td><td>1</td><td>8.0</td><td>0.0</td><td>0.0</td><td>0.0</td><td>0.0</td><td>0.0</td><td>0.0</td><td>0.0</td><td>0.0</td><td>0.0</td><td>0.0</td><td>0.0</td><td>0.0</td><td>Map(vectorType -> sparse, length -> 49, indices -> List(8), values -> List(1.0))</td><td>Map(vectorType -> dense, length -> 7, values -> List(41.0, 34.0, 62.0, 29.350000381469727, 10.0, 13.0, 78.66666666666667))</td><td>Map(vectorType -> dense, length -> 7, values -> List(2.1052600640134984, 1.543528093946055, 2.7237547351753872, 25.882429608589437, 3.3182918924869815, 2.407999790905502, 0.018347598137012946))</td><td>Map(vectorType -> sparse, length -> 68, indices -> List(8, 61, 62, 63, 64, 65, 66, 67), values -> List(1.0, 2.1052600640134984, 1.543528093946055, 2.7237547351753872, 25.882429608589437, 3.3182918924869815, 2.407999790905502, 0.018347598137012946))</td><td>Map(vectorType -> dense, length -> 2, values -> List(-0.5853562970732138, 0.5853562970732138))</td><td>Map(vectorType -> dense, length -> 2, values -> List(0.3577010432815458, 0.6422989567184543))</td><td>1.0</td></tr><tr><td>A-1791738</td><td>Source2</td><td>0.0</td><td>2019-11-01T21:21:32Z</td><td>2019-11-01T21:51:04Z</td><td>40.27767</td><td>-76.84049</td><td>null</td><td>null</td><td>0.0</td><td>Accident on Canby St at Union Deposit Rd.</td><td>Market Street Rd</td><td>Harrisburg</td><td>Dauphin</td><td>PA</td><td>17109-5717</td><td>US</td><td>US/Eastern</td><td>KCXY</td><td>2019-11-01 20:56:00</td><td>44.0</td><td>40.0</td><td>49.0</td><td>29.91</td><td>10.0</td><td>NW</td><td>8.0</td><td>0.0</td><td>Fair</td><td>False</td><td>False</td><td>False</td><td>False</td><td>False</td><td>False</td><td>False</td><td>False</td><td>False</td><td>False</td><td>False</td><td>False</td><td>False</td><td>Night</td><td>Night</td><td>Night</td><td>Night</td><td>29.533333333333335</td><td>1</td><td>10.0</td><td>0.0</td><td>0.0</td><td>0.0</td><td>0.0</td><td>0.0</td><td>0.0</td><td>0.0</td><td>0.0</td><td>1.0</td><td>1.0</td><td>1.0</td><td>1.0</td><td>Map(vectorType -> sparse, length -> 49, indices -> List(10), values -> List(1.0))</td><td>Map(vectorType -> dense, length -> 7, values -> List(44.0, 40.0, 49.0, 29.90999984741211, 10.0, 8.0, 29.533333333333335))</td><td>Map(vectorType -> dense, length -> 7, values -> List(2.2593034833315593, 1.8159154046424175, 2.15264487134829, 26.376267651850668, 3.3182918924869815, 1.4818460251726169, 0.006888123707370115))</td><td>Map(vectorType -> sparse, length -> 68, indices -> List(10, 57, 58, 59, 60, 61, 62, 63, 64, 65, 66, 67), values -> List(1.0, 1.0, 1.0, 1.0, 1.0, 2.2593034833315593, 1.8159154046424175, 2.15264487134829, 26.376267651850668, 3.3182918924869815, 1.4818460251726169, 0.006888123707370115))</td><td>Map(vectorType -> dense, length -> 2, values -> List(-0.7148194903048855, 0.7148194903048855))</td><td>Map(vectorType -> dense, length -> 2, values -> List(0.32853478492302074, 0.6714652150769793))</td><td>1.0</td></tr><tr><td>A-1792132</td><td>Source2</td><td>0.0</td><td>2019-11-01T06:56:05Z</td><td>2019-11-01T08:27:00Z</td><td>26.33127</td><td>-81.75691</td><td>null</td><td>null</td><td>0.0</td><td>Accident on CR-865 Bonita Beach Rd near Saradrienne Ln.</td><td>Downs Dr</td><td>Bonita Springs</td><td>Lee</td><td>FL</td><td>34135</td><td>US</td><td>US/Eastern</td><td>KAPF</td><td>2019-11-01 06:53:00</td><td>77.0</td><td>77.0</td><td>90.0</td><td>30.03</td><td>10.0</td><td>CALM</td><td>0.0</td><td>0.0</td><td>Fair</td><td>False</td><td>False</td><td>True</td><td>False</td><td>False</td><td>False</td><td>False</td><td>False</td><td>False</td><td>False</td><td>False</td><td>True</td><td>False</td><td>Night</td><td>Night</td><td>Day</td><td>Day</td><td>90.91666666666667</td><td>1</td><td>2.0</td><td>0.0</td><td>1.0</td><td>0.0</td><td>0.0</td><td>0.0</td><td>0.0</td><td>0.0</td><td>1.0</td><td>1.0</td><td>1.0</td><td>0.0</td><td>0.0</td><td>Map(vectorType -> sparse, length -> 49, indices -> List(2), values -> List(1.0))</td><td>Map(vectorType -> dense, length -> 7, values -> List(77.0, 77.0, 90.0, 30.030000686645508, 10.0, 0.0, 90.91666666666667))</td><td>Map(vectorType -> dense, length -> 7, values -> List(3.953781095830229, 3.4956371539366535, 3.9538375188029815, 26.482090930694337, 3.3182918924869815, 0.0, 0.021204692338433397))</td><td>Map(vectorType -> sparse, length -> 68, indices -> List(2, 50, 56, 57, 58, 61, 62, 63, 64, 65, 67), values -> List(1.0, 1.0, 1.0, 1.0, 1.0, 3.953781095830229, 3.4956371539366535, 3.9538375188029815, 26.482090930694337, 3.3182918924869815, 0.021204692338433397))</td><td>Map(vectorType -> dense, length -> 2, values -> List(1.5211737657703641, -1.5211737657703641))</td><td>Map(vectorType -> dense, length -> 2, values -> List(0.8207112585426651, 0.17928874145733487))</td><td>0.0</td></tr><tr><td>A-1793227</td><td>Source2</td><td>0.0</td><td>2019-11-01T09:43:58Z</td><td>2019-11-01T10:52:13Z</td><td>36.13342</td><td>-95.90458</td><td>null</td><td>null</td><td>0.0</td><td>Accident on Sheridan Rd near 21st St.</td><td>S Sheridan Rd</td><td>Tulsa</td><td>Tulsa</td><td>OK</td><td>74129-1001</td><td>US</td><td>US/Central</td><td>KTUL</td><td>2019-11-01 09:53:00</td><td>42.0</td><td>35.0</td><td>53.0</td><td>29.56</td><td>10.0</td><td>S</td><td>13.0</td><td>0.0</td><td>Fair</td><td>False</td><td>False</td><td>True</td><td>False</td><td>False</td><td>False</td><td>False</td><td>False</td><td>False</td><td>False</td><td>False</td><td>True</td><td>False</td><td>Day</td><td>Day</td><td>Day</td><td>Day</td><td>68.25</td><td>1</td><td>17.0</td><td>0.0</td><td>1.0</td><td>0.0</td><td>0.0</td><td>0.0</td><td>0.0</td><td>0.0</td><td>1.0</td><td>0.0</td><td>0.0</td><td>0.0</td><td>0.0</td><td>Map(vectorType -> sparse, length -> 49, indices -> List(17), values -> List(1.0))</td><td>Map(vectorType -> dense, length -> 7, values -> List(42.0, 35.0, 53.0, 29.559999465942383, 10.0, 13.0, 68.25))</td><td>Map(vectorType -> dense, length -> 7, values -> List(2.156607870452852, 1.5889259790621153, 2.3283709832950894, 26.067618244060913, 3.3182918924869815, 2.407999790905502, 0.01591809626505678))</td><td>Map(vectorType -> sparse, length -> 68, indices -> List(17, 50, 56, 61, 62, 63, 64, 65, 66, 67), values -> List(1.0, 1.0, 1.0, 2.156607870452852, 1.5889259790621153, 2.3283709832950894, 26.067618244060913, 3.3182918924869815, 2.407999790905502, 0.01591809626505678))</td><td>Map(vectorType -> dense, length -> 2, values -> List(2.462214169136481, -2.462214169136481))</td><td>Map(vectorType -> dense, length -> 2, values -> List(0.9214500736508616, 0.07854992634913838))</td><td>0.0</td></tr><tr><td>A-1793314</td><td>Source2</td><td>0.0</td><td>2019-11-01T04:26:12Z</td><td>2019-11-01T05:26:53Z</td><td>30.51067</td><td>-87.22694</td><td>null</td><td>null</td><td>0.0</td><td>Accident on Whitmire Dr at CR-290 Olive Rd.</td><td>E Olive Rd</td><td>Pensacola</td><td>Escambia</td><td>FL</td><td>32514-4824</td><td>US</td><td>US/Central</td><td>KPNS</td><td>2019-11-01 04:53:00</td><td>39.0</td><td>31.0</td><td>86.0</td><td>30.14</td><td>10.0</td><td>N</td><td>14.0</td><td>0.0</td><td>Fair</td><td>False</td><td>False</td><td>False</td><td>False</td><td>False</td><td>False</td><td>False</td><td>False</td><td>False</td><td>False</td><td>False</td><td>True</td><td>False</td><td>Night</td><td>Night</td><td>Night</td><td>Night</td><td>60.68333333333333</td><td>1</td><td>2.0</td><td>0.0</td><td>0.0</td><td>0.0</td><td>0.0</td><td>0.0</td><td>0.0</td><td>0.0</td><td>1.0</td><td>1.0</td><td>1.0</td><td>1.0</td><td>1.0</td><td>Map(vectorType -> sparse, length -> 49, indices -> List(2), values -> List(1.0))</td><td>Map(vectorType -> dense, length -> 7, values -> List(39.0, 31.0, 86.0, 30.139999389648438, 10.0, 14.0, 60.68333333333333))</td><td>Map(vectorType -> dense, length -> 7, values -> List(2.0025644511347913, 1.4073344385978737, 3.7781114068561825, 26.57909378079675, 3.3182918924869815, 2.5932305440520795, 0.014153306105267825))</td><td>Map(vectorType -> sparse, length -> 68, indices -> List(2, 56, 57, 58, 59, 60, 61, 62, 63, 64, 65, 66, 67), values -> List(1.0, 1.0, 1.0, 1.0, 1.0, 1.0, 2.0025644511347913, 1.4073344385978737, 3.7781114068561825, 26.57909378079675, 3.3182918924869815, 2.5932305440520795, 0.014153306105267825))</td><td>Map(vectorType -> dense, length -> 2, values -> List(0.3223292311238297, -0.3223292311238297))</td><td>Map(vectorType -> dense, length -> 2, values -> List(0.5798917985035524, 0.42010820149644756))</td><td>0.0</td></tr><tr><td>A-1794149</td><td>Source2</td><td>1.0</td><td>2019-11-02T07:15:29Z</td><td>2019-11-02T08:30:08Z</td><td>39.870857</td><td>-75.323685</td><td>null</td><td>null</td><td>0.0</td><td>Restrictions due to accident on I-95 Northbound at Exit 8 Stewart Ave.</td><td>I-95 N</td><td>Ridley Park</td><td>Delaware</td><td>PA</td><td>19078</td><td>US</td><td>US/Eastern</td><td>KPHL</td><td>2019-11-02 06:54:00</td><td>37.0</td><td>33.0</td><td>70.0</td><td>30.23</td><td>10.0</td><td>N</td><td>5.0</td><td>0.0</td><td>Fair</td><td>False</td><td>False</td><td>False</td><td>False</td><td>False</td><td>False</td><td>False</td><td>False</td><td>False</td><td>False</td><td>False</td><td>False</td><td>False</td><td>Night</td><td>Day</td><td>Day</td><td>Day</td><td>74.65</td><td>1</td><td>10.0</td><td>0.0</td><td>0.0</td><td>0.0</td><td>0.0</td><td>0.0</td><td>0.0</td><td>0.0</td><td>0.0</td><td>1.0</td><td>0.0</td><td>0.0</td><td>0.0</td><td>Map(vectorType -> sparse, length -> 49, indices -> List(10), values -> List(1.0))</td><td>Map(vectorType -> dense, length -> 7, values -> List(37.0, 33.0, 70.0, 30.229999542236328, 10.0, 5.0, 74.65))</td><td>Map(vectorType -> dense, length -> 7, values -> List(1.899868838256084, 1.4981302088299944, 3.0752069590689857, 26.658460819428512, 3.3182918924869815, 0.9261537657328855, 0.01741078221518665))</td><td>Map(vectorType -> sparse, length -> 68, indices -> List(10, 57, 61, 62, 63, 64, 65, 66, 67), values -> List(1.0, 1.0, 1.899868838256084, 1.4981302088299944, 3.0752069590689857, 26.658460819428512, 3.3182918924869815, 0.9261537657328855, 0.01741078221518665))</td><td>Map(vectorType -> dense, length -> 2, values -> List(-0.3888715536922944, 0.3888715536922944))</td><td>Map(vectorType -> dense, length -> 2, values -> List(0.4039889806678345, 0.5960110193321655))</td><td>0.0</td></tr><tr><td>A-1794307</td><td>Source2</td><td>1.0</td><td>2019-11-02T15:53:16Z</td><td>2019-11-02T18:10:44Z</td><td>33.71221</td><td>-84.22337</td><td>null</td><td>null</td><td>2.06</td><td>Exit ramp from I-285 at Exits 46 46A 46B to I-20 Eastbound lane blocked due to accident.</td><td>GA-402 E</td><td>Decatur</td><td>DeKalb</td><td>GA</td><td>30034</td><td>US</td><td>US/Eastern</td><td>KATL</td><td>2019-11-02 15:52:00</td><td>59.0</td><td>59.0</td><td>38.0</td><td>29.08</td><td>10.0</td><td>WNW</td><td>17.0</td><td>0.0</td><td>Partly Cloudy</td><td>False</td><td>False</td><td>False</td><td>False</td><td>False</td><td>False</td><td>False</td><td>False</td><td>False</td><td>False</td><td>False</td><td>False</td><td>False</td><td>Day</td><td>Day</td><td>Day</td><td>Day</td><td>137.46666666666667</td><td>1</td><td>13.0</td><td>0.0</td><td>0.0</td><td>0.0</td><td>0.0</td><td>0.0</td><td>0.0</td><td>0.0</td><td>0.0</td><td>0.0</td><td>0.0</td><td>0.0</td><td>0.0</td><td>Map(vectorType -> sparse, length -> 49, indices -> List(13), values -> List(1.0))</td><td>Map(vectorType -> dense, length -> 7, values -> List(59.0, 59.0, 38.0, 29.079999923706055, 10.0, 17.0, 137.46666666666667))</td><td>Map(vectorType -> dense, length -> 7, values -> List(3.0295205799218636, 2.678475221847566, 1.6693980634945922, 25.644328492694147, 3.3182918924869815, 3.1489228034918106, 0.032061650303831096))</td><td>Map(vectorType -> sparse, length -> 68, indices -> List(13, 61, 62, 63, 64, 65, 66, 67), values -> List(1.0, 3.0295205799218636, 2.678475221847566, 1.6693980634945922, 25.644328492694147, 3.3182918924869815, 3.1489228034918106, 0.032061650303831096))</td><td>Map(vectorType -> dense, length -> 2, values -> List(-1.248741232680814, 1.248741232680814))</td><td>Map(vectorType -> dense, length -> 2, values -> List(0.22291811353056734, 0.7770818864694327))</td><td>1.0</td></tr><tr><td>A-1794695</td><td>Source2</td><td>1.0</td><td>2019-11-02T04:26:01Z</td><td>2019-11-02T06:40:26Z</td><td>34.000782</td><td>-117.35221</td><td>null</td><td>null</td><td>0.0</td><td>Slow lane blocked due to accident on I-215 Northbound at Exit 35 La Cadena Dr.</td><td>I-215 N</td><td>Riverside</td><td>Riverside</td><td>CA</td><td>92501</td><td>US</td><td>US/Pacific</td><td>KRAL</td><td>2019-11-02 04:53:00</td><td>49.0</td><td>47.0</td><td>26.0</td><td>29.2</td><td>10.0</td><td>NE</td><td>6.0</td><td>0.0</td><td>Fair</td><td>False</td><td>False</td><td>False</td><td>False</td><td>True</td><td>False</td><td>False</td><td>False</td><td>False</td><td>False</td><td>False</td><td>False</td><td>False</td><td>Night</td><td>Night</td><td>Night</td><td>Night</td><td>134.41666666666666</td><td>1</td><td>0.0</td><td>0.0</td><td>0.0</td><td>0.0</td><td>1.0</td><td>0.0</td><td>0.0</td><td>0.0</td><td>0.0</td><td>1.0</td><td>1.0</td><td>1.0</td><td>1.0</td><td>Map(vectorType -> sparse, length -> 49, indices -> List(0), values -> List(1.0))</td><td>Map(vectorType -> dense, length -> 7, values -> List(49.0, 47.0, 26.0, 29.200000762939453, 10.0, 6.0, 134.41666666666666))</td><td>Map(vectorType -> dense, length -> 7, values -> List(2.5160425155283273, 2.1337006004548407, 1.1422197276541948, 25.750151771537816, 3.3182918924869815, 1.1113845188794627, 0.03135029215572233))</td><td>Map(vectorType -> sparse, length -> 68, indices -> List(0, 52, 57, 58, 59, 60, 61, 62, 63, 64, 65, 66, 67), values -> List(1.0, 1.0, 1.0, 1.0, 1.0, 1.0, 2.5160425155283273, 2.1337006004548407, 1.1422197276541948, 25.750151771537816, 3.3182918924869815, 1.1113845188794627, 0.03135029215572233))</td><td>Map(vectorType -> dense, length -> 2, values -> List(-0.04643866953667675, 0.04643866953667675))</td><td>Map(vectorType -> dense, length -> 2, values -> List(0.4883924185683631, 0.511607581431637))</td><td>0.0</td></tr><tr><td>A-1795174</td><td>Source2</td><td>0.0</td><td>2019-11-03T17:51:17Z</td><td>2019-11-03T20:27:01Z</td><td>35.40683</td><td>-97.57686</td><td>null</td><td>null</td><td>0.0</td><td>Accident on I-44 Northbound at I-240.</td><td>I-44 E</td><td>Oklahoma City</td><td>Oklahoma</td><td>OK</td><td>73119</td><td>US</td><td>US/Central</td><td>KOKC</td><td>2019-11-03 17:52:00</td><td>55.0</td><td>55.0</td><td>51.0</td><td>28.56</td><td>10.0</td><td>SSE</td><td>9.0</td><td>0.0</td><td>Partly Cloudy</td><td>False</td><td>False</td><td>False</td><td>False</td><td>False</td><td>False</td><td>False</td><td>False</td><td>False</td><td>False</td><td>False</td><td>False</td><td>False</td><td>Night</td><td>Day</td><td>Day</td><td>Day</td><td>155.73333333333332</td><td>1</td><td>17.0</td><td>0.0</td><td>0.0</td><td>0.0</td><td>0.0</td><td>0.0</td><td>0.0</td><td>0.0</td><td>0.0</td><td>1.0</td><td>0.0</td><td>0.0</td><td>0.0</td><td>Map(vectorType -> sparse, length -> 49, indices -> List(17), values -> List(1.0))</td><td>Map(vectorType -> dense, length -> 7, values -> List(55.0, 55.0, 51.0, 28.559999465942383, 10.0, 9.0, 155.73333333333332))</td><td>Map(vectorType -> dense, length -> 7, values -> List(2.824129354164449, 2.496883681383324, 2.2405079273216897, 25.18576375437817, 3.3182918924869815, 1.667076778319194, 0.03632202478649342))</td><td>Map(vectorType -> sparse, length -> 68, indices -> List(17, 57, 61, 62, 63, 64, 65, 66, 67), values -> List(1.0, 1.0, 2.824129354164449, 2.496883681383324, 2.2405079273216897, 25.18576375437817, 3.3182918924869815, 1.667076778319194, 0.03632202478649342))</td><td>Map(vectorType -> dense, length -> 2, values -> List(0.5226847015142937, -0.5226847015142937))</td><td>Map(vectorType -> dense, length -> 2, values -> List(0.6277753247220981, 0.37222467527790193))</td><td>0.0</td></tr><tr><td>A-1795377</td><td>Source3</td><td>0.0</td><td>2019-11-03T21:34:33Z</td><td>2019-11-03T22:19:41Z</td><td>37.752502</td><td>-122.40303</td><td>null</td><td>null</td><td>0.0</td><td>#1 lane blocked due to accident on US-101 Southbound at Exit 432 Bayshore Blvd.</td><td>James Lick Fwy S</td><td>San Francisco</td><td>San Francisco</td><td>CA</td><td>94107</td><td>US</td><td>US/Pacific</td><td>KOAK</td><td>2019-11-03 21:53:00</td><td>56.0</td><td>56.0</td><td>69.0</td><td>29.97</td><td>10.0</td><td>NW</td><td>3.0</td><td>0.0</td><td>Fair</td><td>False</td><td>False</td><td>False</td><td>False</td><td>True</td><td>False</td><td>False</td><td>False</td><td>False</td><td>False</td><td>False</td><td>False</td><td>False</td><td>Night</td><td>Night</td><td>Night</td><td>Night</td><td>45.13333333333333</td><td>1</td><td>0.0</td><td>0.0</td><td>0.0</td><td>0.0</td><td>1.0</td><td>0.0</td><td>0.0</td><td>0.0</td><td>0.0</td><td>1.0</td><td>1.0</td><td>1.0</td><td>1.0</td><td>Map(vectorType -> sparse, length -> 49, indices -> List(0), values -> List(1.0))</td><td>Map(vectorType -> dense, length -> 7, values -> List(56.0, 56.0, 69.0, 29.969999313354492, 10.0, 3.0, 45.13333333333333))</td><td>Map(vectorType -> dense, length -> 7, values -> List(2.8754771606038028, 2.5422815664993843, 3.031275431082286, 26.429178450270523, 3.3182918924869815, 0.5556922594397313, 0.010526545710811665))</td><td>Map(vectorType -> sparse, length -> 68, indices -> List(0, 52, 57, 58, 59, 60, 61, 62, 63, 64, 65, 66, 67), values -> List(1.0, 1.0, 1.0, 1.0, 1.0, 1.0, 2.8754771606038028, 2.5422815664993843, 3.031275431082286, 26.429178450270523, 3.3182918924869815, 0.5556922594397313, 0.010526545710811665))</td><td>Map(vectorType -> dense, length -> 2, values -> List(-0.030599439217471325, 0.030599439217471325))</td><td>Map(vectorType -> dense, length -> 2, values -> List(0.4923507370364306, 0.5076492629635694))</td><td>0.0</td></tr></tbody></table></div>"
      ]
     },
     "metadata": {
      "application/vnd.databricks.v1+output": {
       "addedWidgets": {},
       "aggData": [],
       "aggError": "",
       "aggOverflow": false,
       "aggSchema": [],
       "aggSeriesLimitReached": false,
       "aggType": "",
       "arguments": {},
       "columnCustomDisplayInfos": {},
       "data": [
        [
         "A-1791414",
         "Source2",
         0.0,
         "2019-11-01T15:04:36Z",
         "2019-11-01T16:23:16Z",
         42.99598,
         -83.63405,
         null,
         null,
         0.67,
         "Lane blocked due to accident on Center Rd from Clarice Ave to Byers St.",
         "Byers St",
         "Burton",
         "Genesee",
         "MI",
         "48519-1042",
         "US",
         "US/Eastern",
         "KFNT",
         "2019-11-01 14:53:00",
         41.0,
         34.0,
         62.0,
         29.35,
         10.0,
         "SW",
         13.0,
         0.0,
         "Mostly Cloudy",
         "False",
         "False",
         "False",
         "False",
         "False",
         "False",
         "False",
         "False",
         "False",
         "False",
         "False",
         "False",
         "False",
         "Day",
         "Day",
         "Day",
         "Day",
         78.66666666666667,
         1,
         8.0,
         0.0,
         0.0,
         0.0,
         0.0,
         0.0,
         0.0,
         0.0,
         0.0,
         0.0,
         0.0,
         0.0,
         0.0,
         {
          "indices": [
           8
          ],
          "length": 49,
          "values": [
           1.0
          ],
          "vectorType": "sparse"
         },
         {
          "length": 7,
          "values": [
           41.0,
           34.0,
           62.0,
           29.350000381469727,
           10.0,
           13.0,
           78.66666666666667
          ],
          "vectorType": "dense"
         },
         {
          "length": 7,
          "values": [
           2.1052600640134984,
           1.543528093946055,
           2.7237547351753872,
           25.882429608589437,
           3.3182918924869815,
           2.407999790905502,
           0.018347598137012946
          ],
          "vectorType": "dense"
         },
         {
          "indices": [
           8,
           61,
           62,
           63,
           64,
           65,
           66,
           67
          ],
          "length": 68,
          "values": [
           1.0,
           2.1052600640134984,
           1.543528093946055,
           2.7237547351753872,
           25.882429608589437,
           3.3182918924869815,
           2.407999790905502,
           0.018347598137012946
          ],
          "vectorType": "sparse"
         },
         {
          "length": 2,
          "values": [
           -0.5853562970732138,
           0.5853562970732138
          ],
          "vectorType": "dense"
         },
         {
          "length": 2,
          "values": [
           0.3577010432815458,
           0.6422989567184543
          ],
          "vectorType": "dense"
         },
         1.0
        ],
        [
         "A-1791738",
         "Source2",
         0.0,
         "2019-11-01T21:21:32Z",
         "2019-11-01T21:51:04Z",
         40.27767,
         -76.84049,
         null,
         null,
         0.0,
         "Accident on Canby St at Union Deposit Rd.",
         "Market Street Rd",
         "Harrisburg",
         "Dauphin",
         "PA",
         "17109-5717",
         "US",
         "US/Eastern",
         "KCXY",
         "2019-11-01 20:56:00",
         44.0,
         40.0,
         49.0,
         29.91,
         10.0,
         "NW",
         8.0,
         0.0,
         "Fair",
         "False",
         "False",
         "False",
         "False",
         "False",
         "False",
         "False",
         "False",
         "False",
         "False",
         "False",
         "False",
         "False",
         "Night",
         "Night",
         "Night",
         "Night",
         29.533333333333335,
         1,
         10.0,
         0.0,
         0.0,
         0.0,
         0.0,
         0.0,
         0.0,
         0.0,
         0.0,
         1.0,
         1.0,
         1.0,
         1.0,
         {
          "indices": [
           10
          ],
          "length": 49,
          "values": [
           1.0
          ],
          "vectorType": "sparse"
         },
         {
          "length": 7,
          "values": [
           44.0,
           40.0,
           49.0,
           29.90999984741211,
           10.0,
           8.0,
           29.533333333333335
          ],
          "vectorType": "dense"
         },
         {
          "length": 7,
          "values": [
           2.2593034833315593,
           1.8159154046424175,
           2.15264487134829,
           26.376267651850668,
           3.3182918924869815,
           1.4818460251726169,
           0.006888123707370115
          ],
          "vectorType": "dense"
         },
         {
          "indices": [
           10,
           57,
           58,
           59,
           60,
           61,
           62,
           63,
           64,
           65,
           66,
           67
          ],
          "length": 68,
          "values": [
           1.0,
           1.0,
           1.0,
           1.0,
           1.0,
           2.2593034833315593,
           1.8159154046424175,
           2.15264487134829,
           26.376267651850668,
           3.3182918924869815,
           1.4818460251726169,
           0.006888123707370115
          ],
          "vectorType": "sparse"
         },
         {
          "length": 2,
          "values": [
           -0.7148194903048855,
           0.7148194903048855
          ],
          "vectorType": "dense"
         },
         {
          "length": 2,
          "values": [
           0.32853478492302074,
           0.6714652150769793
          ],
          "vectorType": "dense"
         },
         1.0
        ],
        [
         "A-1792132",
         "Source2",
         0.0,
         "2019-11-01T06:56:05Z",
         "2019-11-01T08:27:00Z",
         26.33127,
         -81.75691,
         null,
         null,
         0.0,
         "Accident on CR-865 Bonita Beach Rd near Saradrienne Ln.",
         "Downs Dr",
         "Bonita Springs",
         "Lee",
         "FL",
         "34135",
         "US",
         "US/Eastern",
         "KAPF",
         "2019-11-01 06:53:00",
         77.0,
         77.0,
         90.0,
         30.03,
         10.0,
         "CALM",
         0.0,
         0.0,
         "Fair",
         "False",
         "False",
         "True",
         "False",
         "False",
         "False",
         "False",
         "False",
         "False",
         "False",
         "False",
         "True",
         "False",
         "Night",
         "Night",
         "Day",
         "Day",
         90.91666666666667,
         1,
         2.0,
         0.0,
         1.0,
         0.0,
         0.0,
         0.0,
         0.0,
         0.0,
         1.0,
         1.0,
         1.0,
         0.0,
         0.0,
         {
          "indices": [
           2
          ],
          "length": 49,
          "values": [
           1.0
          ],
          "vectorType": "sparse"
         },
         {
          "length": 7,
          "values": [
           77.0,
           77.0,
           90.0,
           30.030000686645508,
           10.0,
           0.0,
           90.91666666666667
          ],
          "vectorType": "dense"
         },
         {
          "length": 7,
          "values": [
           3.953781095830229,
           3.4956371539366535,
           3.9538375188029815,
           26.482090930694337,
           3.3182918924869815,
           0.0,
           0.021204692338433397
          ],
          "vectorType": "dense"
         },
         {
          "indices": [
           2,
           50,
           56,
           57,
           58,
           61,
           62,
           63,
           64,
           65,
           67
          ],
          "length": 68,
          "values": [
           1.0,
           1.0,
           1.0,
           1.0,
           1.0,
           3.953781095830229,
           3.4956371539366535,
           3.9538375188029815,
           26.482090930694337,
           3.3182918924869815,
           0.021204692338433397
          ],
          "vectorType": "sparse"
         },
         {
          "length": 2,
          "values": [
           1.5211737657703641,
           -1.5211737657703641
          ],
          "vectorType": "dense"
         },
         {
          "length": 2,
          "values": [
           0.8207112585426651,
           0.17928874145733487
          ],
          "vectorType": "dense"
         },
         0.0
        ],
        [
         "A-1793227",
         "Source2",
         0.0,
         "2019-11-01T09:43:58Z",
         "2019-11-01T10:52:13Z",
         36.13342,
         -95.90458,
         null,
         null,
         0.0,
         "Accident on Sheridan Rd near 21st St.",
         "S Sheridan Rd",
         "Tulsa",
         "Tulsa",
         "OK",
         "74129-1001",
         "US",
         "US/Central",
         "KTUL",
         "2019-11-01 09:53:00",
         42.0,
         35.0,
         53.0,
         29.56,
         10.0,
         "S",
         13.0,
         0.0,
         "Fair",
         "False",
         "False",
         "True",
         "False",
         "False",
         "False",
         "False",
         "False",
         "False",
         "False",
         "False",
         "True",
         "False",
         "Day",
         "Day",
         "Day",
         "Day",
         68.25,
         1,
         17.0,
         0.0,
         1.0,
         0.0,
         0.0,
         0.0,
         0.0,
         0.0,
         1.0,
         0.0,
         0.0,
         0.0,
         0.0,
         {
          "indices": [
           17
          ],
          "length": 49,
          "values": [
           1.0
          ],
          "vectorType": "sparse"
         },
         {
          "length": 7,
          "values": [
           42.0,
           35.0,
           53.0,
           29.559999465942383,
           10.0,
           13.0,
           68.25
          ],
          "vectorType": "dense"
         },
         {
          "length": 7,
          "values": [
           2.156607870452852,
           1.5889259790621153,
           2.3283709832950894,
           26.067618244060913,
           3.3182918924869815,
           2.407999790905502,
           0.01591809626505678
          ],
          "vectorType": "dense"
         },
         {
          "indices": [
           17,
           50,
           56,
           61,
           62,
           63,
           64,
           65,
           66,
           67
          ],
          "length": 68,
          "values": [
           1.0,
           1.0,
           1.0,
           2.156607870452852,
           1.5889259790621153,
           2.3283709832950894,
           26.067618244060913,
           3.3182918924869815,
           2.407999790905502,
           0.01591809626505678
          ],
          "vectorType": "sparse"
         },
         {
          "length": 2,
          "values": [
           2.462214169136481,
           -2.462214169136481
          ],
          "vectorType": "dense"
         },
         {
          "length": 2,
          "values": [
           0.9214500736508616,
           0.07854992634913838
          ],
          "vectorType": "dense"
         },
         0.0
        ],
        [
         "A-1793314",
         "Source2",
         0.0,
         "2019-11-01T04:26:12Z",
         "2019-11-01T05:26:53Z",
         30.51067,
         -87.22694,
         null,
         null,
         0.0,
         "Accident on Whitmire Dr at CR-290 Olive Rd.",
         "E Olive Rd",
         "Pensacola",
         "Escambia",
         "FL",
         "32514-4824",
         "US",
         "US/Central",
         "KPNS",
         "2019-11-01 04:53:00",
         39.0,
         31.0,
         86.0,
         30.14,
         10.0,
         "N",
         14.0,
         0.0,
         "Fair",
         "False",
         "False",
         "False",
         "False",
         "False",
         "False",
         "False",
         "False",
         "False",
         "False",
         "False",
         "True",
         "False",
         "Night",
         "Night",
         "Night",
         "Night",
         60.68333333333333,
         1,
         2.0,
         0.0,
         0.0,
         0.0,
         0.0,
         0.0,
         0.0,
         0.0,
         1.0,
         1.0,
         1.0,
         1.0,
         1.0,
         {
          "indices": [
           2
          ],
          "length": 49,
          "values": [
           1.0
          ],
          "vectorType": "sparse"
         },
         {
          "length": 7,
          "values": [
           39.0,
           31.0,
           86.0,
           30.139999389648438,
           10.0,
           14.0,
           60.68333333333333
          ],
          "vectorType": "dense"
         },
         {
          "length": 7,
          "values": [
           2.0025644511347913,
           1.4073344385978737,
           3.7781114068561825,
           26.57909378079675,
           3.3182918924869815,
           2.5932305440520795,
           0.014153306105267825
          ],
          "vectorType": "dense"
         },
         {
          "indices": [
           2,
           56,
           57,
           58,
           59,
           60,
           61,
           62,
           63,
           64,
           65,
           66,
           67
          ],
          "length": 68,
          "values": [
           1.0,
           1.0,
           1.0,
           1.0,
           1.0,
           1.0,
           2.0025644511347913,
           1.4073344385978737,
           3.7781114068561825,
           26.57909378079675,
           3.3182918924869815,
           2.5932305440520795,
           0.014153306105267825
          ],
          "vectorType": "sparse"
         },
         {
          "length": 2,
          "values": [
           0.3223292311238297,
           -0.3223292311238297
          ],
          "vectorType": "dense"
         },
         {
          "length": 2,
          "values": [
           0.5798917985035524,
           0.42010820149644756
          ],
          "vectorType": "dense"
         },
         0.0
        ],
        [
         "A-1794149",
         "Source2",
         1.0,
         "2019-11-02T07:15:29Z",
         "2019-11-02T08:30:08Z",
         39.870857,
         -75.323685,
         null,
         null,
         0.0,
         "Restrictions due to accident on I-95 Northbound at Exit 8 Stewart Ave.",
         "I-95 N",
         "Ridley Park",
         "Delaware",
         "PA",
         "19078",
         "US",
         "US/Eastern",
         "KPHL",
         "2019-11-02 06:54:00",
         37.0,
         33.0,
         70.0,
         30.23,
         10.0,
         "N",
         5.0,
         0.0,
         "Fair",
         "False",
         "False",
         "False",
         "False",
         "False",
         "False",
         "False",
         "False",
         "False",
         "False",
         "False",
         "False",
         "False",
         "Night",
         "Day",
         "Day",
         "Day",
         74.65,
         1,
         10.0,
         0.0,
         0.0,
         0.0,
         0.0,
         0.0,
         0.0,
         0.0,
         0.0,
         1.0,
         0.0,
         0.0,
         0.0,
         {
          "indices": [
           10
          ],
          "length": 49,
          "values": [
           1.0
          ],
          "vectorType": "sparse"
         },
         {
          "length": 7,
          "values": [
           37.0,
           33.0,
           70.0,
           30.229999542236328,
           10.0,
           5.0,
           74.65
          ],
          "vectorType": "dense"
         },
         {
          "length": 7,
          "values": [
           1.899868838256084,
           1.4981302088299944,
           3.0752069590689857,
           26.658460819428512,
           3.3182918924869815,
           0.9261537657328855,
           0.01741078221518665
          ],
          "vectorType": "dense"
         },
         {
          "indices": [
           10,
           57,
           61,
           62,
           63,
           64,
           65,
           66,
           67
          ],
          "length": 68,
          "values": [
           1.0,
           1.0,
           1.899868838256084,
           1.4981302088299944,
           3.0752069590689857,
           26.658460819428512,
           3.3182918924869815,
           0.9261537657328855,
           0.01741078221518665
          ],
          "vectorType": "sparse"
         },
         {
          "length": 2,
          "values": [
           -0.3888715536922944,
           0.3888715536922944
          ],
          "vectorType": "dense"
         },
         {
          "length": 2,
          "values": [
           0.4039889806678345,
           0.5960110193321655
          ],
          "vectorType": "dense"
         },
         0.0
        ],
        [
         "A-1794307",
         "Source2",
         1.0,
         "2019-11-02T15:53:16Z",
         "2019-11-02T18:10:44Z",
         33.71221,
         -84.22337,
         null,
         null,
         2.06,
         "Exit ramp from I-285 at Exits 46 46A 46B to I-20 Eastbound lane blocked due to accident.",
         "GA-402 E",
         "Decatur",
         "DeKalb",
         "GA",
         "30034",
         "US",
         "US/Eastern",
         "KATL",
         "2019-11-02 15:52:00",
         59.0,
         59.0,
         38.0,
         29.08,
         10.0,
         "WNW",
         17.0,
         0.0,
         "Partly Cloudy",
         "False",
         "False",
         "False",
         "False",
         "False",
         "False",
         "False",
         "False",
         "False",
         "False",
         "False",
         "False",
         "False",
         "Day",
         "Day",
         "Day",
         "Day",
         137.46666666666667,
         1,
         13.0,
         0.0,
         0.0,
         0.0,
         0.0,
         0.0,
         0.0,
         0.0,
         0.0,
         0.0,
         0.0,
         0.0,
         0.0,
         {
          "indices": [
           13
          ],
          "length": 49,
          "values": [
           1.0
          ],
          "vectorType": "sparse"
         },
         {
          "length": 7,
          "values": [
           59.0,
           59.0,
           38.0,
           29.079999923706055,
           10.0,
           17.0,
           137.46666666666667
          ],
          "vectorType": "dense"
         },
         {
          "length": 7,
          "values": [
           3.0295205799218636,
           2.678475221847566,
           1.6693980634945922,
           25.644328492694147,
           3.3182918924869815,
           3.1489228034918106,
           0.032061650303831096
          ],
          "vectorType": "dense"
         },
         {
          "indices": [
           13,
           61,
           62,
           63,
           64,
           65,
           66,
           67
          ],
          "length": 68,
          "values": [
           1.0,
           3.0295205799218636,
           2.678475221847566,
           1.6693980634945922,
           25.644328492694147,
           3.3182918924869815,
           3.1489228034918106,
           0.032061650303831096
          ],
          "vectorType": "sparse"
         },
         {
          "length": 2,
          "values": [
           -1.248741232680814,
           1.248741232680814
          ],
          "vectorType": "dense"
         },
         {
          "length": 2,
          "values": [
           0.22291811353056734,
           0.7770818864694327
          ],
          "vectorType": "dense"
         },
         1.0
        ],
        [
         "A-1794695",
         "Source2",
         1.0,
         "2019-11-02T04:26:01Z",
         "2019-11-02T06:40:26Z",
         34.000782,
         -117.35221,
         null,
         null,
         0.0,
         "Slow lane blocked due to accident on I-215 Northbound at Exit 35 La Cadena Dr.",
         "I-215 N",
         "Riverside",
         "Riverside",
         "CA",
         "92501",
         "US",
         "US/Pacific",
         "KRAL",
         "2019-11-02 04:53:00",
         49.0,
         47.0,
         26.0,
         29.2,
         10.0,
         "NE",
         6.0,
         0.0,
         "Fair",
         "False",
         "False",
         "False",
         "False",
         "True",
         "False",
         "False",
         "False",
         "False",
         "False",
         "False",
         "False",
         "False",
         "Night",
         "Night",
         "Night",
         "Night",
         134.41666666666666,
         1,
         0.0,
         0.0,
         0.0,
         0.0,
         1.0,
         0.0,
         0.0,
         0.0,
         0.0,
         1.0,
         1.0,
         1.0,
         1.0,
         {
          "indices": [
           0
          ],
          "length": 49,
          "values": [
           1.0
          ],
          "vectorType": "sparse"
         },
         {
          "length": 7,
          "values": [
           49.0,
           47.0,
           26.0,
           29.200000762939453,
           10.0,
           6.0,
           134.41666666666666
          ],
          "vectorType": "dense"
         },
         {
          "length": 7,
          "values": [
           2.5160425155283273,
           2.1337006004548407,
           1.1422197276541948,
           25.750151771537816,
           3.3182918924869815,
           1.1113845188794627,
           0.03135029215572233
          ],
          "vectorType": "dense"
         },
         {
          "indices": [
           0,
           52,
           57,
           58,
           59,
           60,
           61,
           62,
           63,
           64,
           65,
           66,
           67
          ],
          "length": 68,
          "values": [
           1.0,
           1.0,
           1.0,
           1.0,
           1.0,
           1.0,
           2.5160425155283273,
           2.1337006004548407,
           1.1422197276541948,
           25.750151771537816,
           3.3182918924869815,
           1.1113845188794627,
           0.03135029215572233
          ],
          "vectorType": "sparse"
         },
         {
          "length": 2,
          "values": [
           -0.04643866953667675,
           0.04643866953667675
          ],
          "vectorType": "dense"
         },
         {
          "length": 2,
          "values": [
           0.4883924185683631,
           0.511607581431637
          ],
          "vectorType": "dense"
         },
         0.0
        ],
        [
         "A-1795174",
         "Source2",
         0.0,
         "2019-11-03T17:51:17Z",
         "2019-11-03T20:27:01Z",
         35.40683,
         -97.57686,
         null,
         null,
         0.0,
         "Accident on I-44 Northbound at I-240.",
         "I-44 E",
         "Oklahoma City",
         "Oklahoma",
         "OK",
         "73119",
         "US",
         "US/Central",
         "KOKC",
         "2019-11-03 17:52:00",
         55.0,
         55.0,
         51.0,
         28.56,
         10.0,
         "SSE",
         9.0,
         0.0,
         "Partly Cloudy",
         "False",
         "False",
         "False",
         "False",
         "False",
         "False",
         "False",
         "False",
         "False",
         "False",
         "False",
         "False",
         "False",
         "Night",
         "Day",
         "Day",
         "Day",
         155.73333333333332,
         1,
         17.0,
         0.0,
         0.0,
         0.0,
         0.0,
         0.0,
         0.0,
         0.0,
         0.0,
         1.0,
         0.0,
         0.0,
         0.0,
         {
          "indices": [
           17
          ],
          "length": 49,
          "values": [
           1.0
          ],
          "vectorType": "sparse"
         },
         {
          "length": 7,
          "values": [
           55.0,
           55.0,
           51.0,
           28.559999465942383,
           10.0,
           9.0,
           155.73333333333332
          ],
          "vectorType": "dense"
         },
         {
          "length": 7,
          "values": [
           2.824129354164449,
           2.496883681383324,
           2.2405079273216897,
           25.18576375437817,
           3.3182918924869815,
           1.667076778319194,
           0.03632202478649342
          ],
          "vectorType": "dense"
         },
         {
          "indices": [
           17,
           57,
           61,
           62,
           63,
           64,
           65,
           66,
           67
          ],
          "length": 68,
          "values": [
           1.0,
           1.0,
           2.824129354164449,
           2.496883681383324,
           2.2405079273216897,
           25.18576375437817,
           3.3182918924869815,
           1.667076778319194,
           0.03632202478649342
          ],
          "vectorType": "sparse"
         },
         {
          "length": 2,
          "values": [
           0.5226847015142937,
           -0.5226847015142937
          ],
          "vectorType": "dense"
         },
         {
          "length": 2,
          "values": [
           0.6277753247220981,
           0.37222467527790193
          ],
          "vectorType": "dense"
         },
         0.0
        ],
        [
         "A-1795377",
         "Source3",
         0.0,
         "2019-11-03T21:34:33Z",
         "2019-11-03T22:19:41Z",
         37.752502,
         -122.40303,
         null,
         null,
         0.0,
         "#1 lane blocked due to accident on US-101 Southbound at Exit 432 Bayshore Blvd.",
         "James Lick Fwy S",
         "San Francisco",
         "San Francisco",
         "CA",
         "94107",
         "US",
         "US/Pacific",
         "KOAK",
         "2019-11-03 21:53:00",
         56.0,
         56.0,
         69.0,
         29.97,
         10.0,
         "NW",
         3.0,
         0.0,
         "Fair",
         "False",
         "False",
         "False",
         "False",
         "True",
         "False",
         "False",
         "False",
         "False",
         "False",
         "False",
         "False",
         "False",
         "Night",
         "Night",
         "Night",
         "Night",
         45.13333333333333,
         1,
         0.0,
         0.0,
         0.0,
         0.0,
         1.0,
         0.0,
         0.0,
         0.0,
         0.0,
         1.0,
         1.0,
         1.0,
         1.0,
         {
          "indices": [
           0
          ],
          "length": 49,
          "values": [
           1.0
          ],
          "vectorType": "sparse"
         },
         {
          "length": 7,
          "values": [
           56.0,
           56.0,
           69.0,
           29.969999313354492,
           10.0,
           3.0,
           45.13333333333333
          ],
          "vectorType": "dense"
         },
         {
          "length": 7,
          "values": [
           2.8754771606038028,
           2.5422815664993843,
           3.031275431082286,
           26.429178450270523,
           3.3182918924869815,
           0.5556922594397313,
           0.010526545710811665
          ],
          "vectorType": "dense"
         },
         {
          "indices": [
           0,
           52,
           57,
           58,
           59,
           60,
           61,
           62,
           63,
           64,
           65,
           66,
           67
          ],
          "length": 68,
          "values": [
           1.0,
           1.0,
           1.0,
           1.0,
           1.0,
           1.0,
           2.8754771606038028,
           2.5422815664993843,
           3.031275431082286,
           26.429178450270523,
           3.3182918924869815,
           0.5556922594397313,
           0.010526545710811665
          ],
          "vectorType": "sparse"
         },
         {
          "length": 2,
          "values": [
           -0.030599439217471325,
           0.030599439217471325
          ],
          "vectorType": "dense"
         },
         {
          "length": 2,
          "values": [
           0.4923507370364306,
           0.5076492629635694
          ],
          "vectorType": "dense"
         },
         0.0
        ]
       ],
       "datasetInfos": [],
       "dbfsResultPath": null,
       "isJsonSchema": true,
       "metadata": {},
       "overflow": false,
       "plotOptions": {
        "customPlotOptions": {},
        "displayType": "table",
        "pivotAggregation": null,
        "pivotColumns": null,
        "xColumns": null,
        "yColumns": null
       },
       "removedWidgets": [],
       "schema": [
        {
         "metadata": "{}",
         "name": "ID",
         "type": "\"string\""
        },
        {
         "metadata": "{}",
         "name": "Source",
         "type": "\"string\""
        },
        {
         "metadata": "{}",
         "name": "Severity",
         "type": "\"double\""
        },
        {
         "metadata": "{}",
         "name": "Start_Time",
         "type": "\"timestamp\""
        },
        {
         "metadata": "{}",
         "name": "End_Time",
         "type": "\"timestamp\""
        },
        {
         "metadata": "{}",
         "name": "Start_Lat",
         "type": "\"float\""
        },
        {
         "metadata": "{}",
         "name": "Start_Lng",
         "type": "\"float\""
        },
        {
         "metadata": "{}",
         "name": "End_Lat",
         "type": "\"float\""
        },
        {
         "metadata": "{}",
         "name": "End_Lng",
         "type": "\"float\""
        },
        {
         "metadata": "{}",
         "name": "Distance_miles",
         "type": "\"float\""
        },
        {
         "metadata": "{}",
         "name": "Description",
         "type": "\"string\""
        },
        {
         "metadata": "{}",
         "name": "Street",
         "type": "\"string\""
        },
        {
         "metadata": "{}",
         "name": "City",
         "type": "\"string\""
        },
        {
         "metadata": "{}",
         "name": "County",
         "type": "\"string\""
        },
        {
         "metadata": "{}",
         "name": "State",
         "type": "\"string\""
        },
        {
         "metadata": "{}",
         "name": "Zipcode",
         "type": "\"string\""
        },
        {
         "metadata": "{}",
         "name": "Country",
         "type": "\"string\""
        },
        {
         "metadata": "{}",
         "name": "Timezone",
         "type": "\"string\""
        },
        {
         "metadata": "{}",
         "name": "Airport_Code",
         "type": "\"string\""
        },
        {
         "metadata": "{}",
         "name": "Weather_Timestamp",
         "type": "\"string\""
        },
        {
         "metadata": "{}",
         "name": "Temperature_F",
         "type": "\"float\""
        },
        {
         "metadata": "{}",
         "name": "Wind_Chill_F",
         "type": "\"float\""
        },
        {
         "metadata": "{}",
         "name": "Humidity_percent",
         "type": "\"float\""
        },
        {
         "metadata": "{}",
         "name": "Pressure_in",
         "type": "\"float\""
        },
        {
         "metadata": "{}",
         "name": "Visibility_mi",
         "type": "\"float\""
        },
        {
         "metadata": "{}",
         "name": "Wind_Direction",
         "type": "\"string\""
        },
        {
         "metadata": "{}",
         "name": "Wind_Speed_mph",
         "type": "\"float\""
        },
        {
         "metadata": "{}",
         "name": "Precipitation_in",
         "type": "\"float\""
        },
        {
         "metadata": "{}",
         "name": "Weather_Condition",
         "type": "\"string\""
        },
        {
         "metadata": "{}",
         "name": "Amenity",
         "type": "\"string\""
        },
        {
         "metadata": "{}",
         "name": "Bump",
         "type": "\"string\""
        },
        {
         "metadata": "{}",
         "name": "Crossing",
         "type": "\"string\""
        },
        {
         "metadata": "{}",
         "name": "Give_Way",
         "type": "\"string\""
        },
        {
         "metadata": "{}",
         "name": "Junction",
         "type": "\"string\""
        },
        {
         "metadata": "{}",
         "name": "No_Exit",
         "type": "\"string\""
        },
        {
         "metadata": "{}",
         "name": "Railway",
         "type": "\"string\""
        },
        {
         "metadata": "{}",
         "name": "Roundabout",
         "type": "\"string\""
        },
        {
         "metadata": "{}",
         "name": "Station",
         "type": "\"string\""
        },
        {
         "metadata": "{}",
         "name": "Stop",
         "type": "\"string\""
        },
        {
         "metadata": "{}",
         "name": "Traffic_Calming",
         "type": "\"string\""
        },
        {
         "metadata": "{}",
         "name": "Traffic_Signal",
         "type": "\"string\""
        },
        {
         "metadata": "{}",
         "name": "Turning_Loop",
         "type": "\"string\""
        },
        {
         "metadata": "{}",
         "name": "Sunrise_Sunset",
         "type": "\"string\""
        },
        {
         "metadata": "{}",
         "name": "Civil_Twilight",
         "type": "\"string\""
        },
        {
         "metadata": "{}",
         "name": "Nautical_Twilight",
         "type": "\"string\""
        },
        {
         "metadata": "{}",
         "name": "Astronomical_Twilight",
         "type": "\"string\""
        },
        {
         "metadata": "{}",
         "name": "accident_duration_mins",
         "type": "\"double\""
        },
        {
         "metadata": "{}",
         "name": "weightCol",
         "type": "\"integer\""
        },
        {
         "metadata": "{\"ml_attr\":{\"vals\":[\"CA\",\"TX\",\"FL\",\"SC\",\"NY\",\"NC\",\"OR\",\"MN\",\"MI\",\"IL\",\"PA\",\"VA\",\"UT\",\"GA\",\"TN\",\"LA\",\"AZ\",\"OK\",\"AL\",\"OH\",\"WA\",\"CO\",\"NJ\",\"MA\",\"MO\",\"MD\",\"KY\",\"WI\",\"IN\",\"CT\",\"NE\",\"IA\",\"NV\",\"RI\",\"NH\",\"KS\",\"MS\",\"NM\",\"DE\",\"DC\",\"ME\",\"AR\",\"WV\",\"ID\",\"MT\",\"VT\",\"WY\",\"SD\",\"__unknown\"],\"type\":\"nominal\",\"name\":\"State_si\"}}",
         "name": "State_si",
         "type": "\"double\""
        },
        {
         "metadata": "{\"ml_attr\":{\"vals\":[\"False\",\"True\",\"__unknown\"],\"type\":\"nominal\",\"name\":\"Amenity_si\"}}",
         "name": "Amenity_si",
         "type": "\"double\""
        },
        {
         "metadata": "{\"ml_attr\":{\"vals\":[\"False\",\"True\",\"__unknown\"],\"type\":\"nominal\",\"name\":\"Crossing_si\"}}",
         "name": "Crossing_si",
         "type": "\"double\""
        },
        {
         "metadata": "{\"ml_attr\":{\"vals\":[\"False\",\"True\",\"__unknown\"],\"type\":\"nominal\",\"name\":\"Give_Way_si\"}}",
         "name": "Give_Way_si",
         "type": "\"double\""
        },
        {
         "metadata": "{\"ml_attr\":{\"vals\":[\"False\",\"True\",\"__unknown\"],\"type\":\"nominal\",\"name\":\"Junction_si\"}}",
         "name": "Junction_si",
         "type": "\"double\""
        },
        {
         "metadata": "{\"ml_attr\":{\"vals\":[\"False\",\"True\",\"__unknown\"],\"type\":\"nominal\",\"name\":\"Railway_si\"}}",
         "name": "Railway_si",
         "type": "\"double\""
        },
        {
         "metadata": "{\"ml_attr\":{\"vals\":[\"False\",\"True\",\"__unknown\"],\"type\":\"nominal\",\"name\":\"Station_si\"}}",
         "name": "Station_si",
         "type": "\"double\""
        },
        {
         "metadata": "{\"ml_attr\":{\"vals\":[\"False\",\"True\",\"__unknown\"],\"type\":\"nominal\",\"name\":\"Stop_si\"}}",
         "name": "Stop_si",
         "type": "\"double\""
        },
        {
         "metadata": "{\"ml_attr\":{\"vals\":[\"False\",\"True\",\"__unknown\"],\"type\":\"nominal\",\"name\":\"Traffic_Signal_si\"}}",
         "name": "Traffic_Signal_si",
         "type": "\"double\""
        },
        {
         "metadata": "{\"ml_attr\":{\"vals\":[\"Day\",\"Night\",\"__unknown\"],\"type\":\"nominal\",\"name\":\"Sunrise_Sunset_si\"}}",
         "name": "Sunrise_Sunset_si",
         "type": "\"double\""
        },
        {
         "metadata": "{\"ml_attr\":{\"vals\":[\"Day\",\"Night\",\"__unknown\"],\"type\":\"nominal\",\"name\":\"Civil_Twilight_si\"}}",
         "name": "Civil_Twilight_si",
         "type": "\"double\""
        },
        {
         "metadata": "{\"ml_attr\":{\"vals\":[\"Day\",\"Night\",\"__unknown\"],\"type\":\"nominal\",\"name\":\"Nautical_Twilight_si\"}}",
         "name": "Nautical_Twilight_si",
         "type": "\"double\""
        },
        {
         "metadata": "{\"ml_attr\":{\"vals\":[\"Day\",\"Night\",\"__unknown\"],\"type\":\"nominal\",\"name\":\"Astronomical_Twilight_si\"}}",
         "name": "Astronomical_Twilight_si",
         "type": "\"double\""
        },
        {
         "metadata": "{\"ml_attr\":{\"attrs\":{\"binary\":[{\"idx\":0,\"name\":\"CA\"},{\"idx\":1,\"name\":\"TX\"},{\"idx\":2,\"name\":\"FL\"},{\"idx\":3,\"name\":\"SC\"},{\"idx\":4,\"name\":\"NY\"},{\"idx\":5,\"name\":\"NC\"},{\"idx\":6,\"name\":\"OR\"},{\"idx\":7,\"name\":\"MN\"},{\"idx\":8,\"name\":\"MI\"},{\"idx\":9,\"name\":\"IL\"},{\"idx\":10,\"name\":\"PA\"},{\"idx\":11,\"name\":\"VA\"},{\"idx\":12,\"name\":\"UT\"},{\"idx\":13,\"name\":\"GA\"},{\"idx\":14,\"name\":\"TN\"},{\"idx\":15,\"name\":\"LA\"},{\"idx\":16,\"name\":\"AZ\"},{\"idx\":17,\"name\":\"OK\"},{\"idx\":18,\"name\":\"AL\"},{\"idx\":19,\"name\":\"OH\"},{\"idx\":20,\"name\":\"WA\"},{\"idx\":21,\"name\":\"CO\"},{\"idx\":22,\"name\":\"NJ\"},{\"idx\":23,\"name\":\"MA\"},{\"idx\":24,\"name\":\"MO\"},{\"idx\":25,\"name\":\"MD\"},{\"idx\":26,\"name\":\"KY\"},{\"idx\":27,\"name\":\"WI\"},{\"idx\":28,\"name\":\"IN\"},{\"idx\":29,\"name\":\"CT\"},{\"idx\":30,\"name\":\"NE\"},{\"idx\":31,\"name\":\"IA\"},{\"idx\":32,\"name\":\"NV\"},{\"idx\":33,\"name\":\"RI\"},{\"idx\":34,\"name\":\"NH\"},{\"idx\":35,\"name\":\"KS\"},{\"idx\":36,\"name\":\"MS\"},{\"idx\":37,\"name\":\"NM\"},{\"idx\":38,\"name\":\"DE\"},{\"idx\":39,\"name\":\"DC\"},{\"idx\":40,\"name\":\"ME\"},{\"idx\":41,\"name\":\"AR\"},{\"idx\":42,\"name\":\"WV\"},{\"idx\":43,\"name\":\"ID\"},{\"idx\":44,\"name\":\"MT\"},{\"idx\":45,\"name\":\"VT\"},{\"idx\":46,\"name\":\"WY\"},{\"idx\":47,\"name\":\"SD\"},{\"idx\":48,\"name\":\"__unknown\"}]},\"num_attrs\":49}}",
         "name": "State_ohe",
         "type": "{\"type\":\"udt\",\"class\":\"org.apache.spark.ml.linalg.VectorUDT\",\"pyClass\":\"pyspark.ml.linalg.VectorUDT\",\"sqlType\":{\"type\":\"struct\",\"fields\":[{\"name\":\"type\",\"type\":\"byte\",\"nullable\":false,\"metadata\":{}},{\"name\":\"size\",\"type\":\"integer\",\"nullable\":true,\"metadata\":{}},{\"name\":\"indices\",\"type\":{\"type\":\"array\",\"elementType\":\"integer\",\"containsNull\":false},\"nullable\":true,\"metadata\":{}},{\"name\":\"values\",\"type\":{\"type\":\"array\",\"elementType\":\"double\",\"containsNull\":false},\"nullable\":true,\"metadata\":{}}]}}"
        },
        {
         "metadata": "{\"ml_attr\":{\"attrs\":{\"numeric\":[{\"idx\":0,\"name\":\"Temperature_F\"},{\"idx\":1,\"name\":\"Wind_Chill_F\"},{\"idx\":2,\"name\":\"Humidity_percent\"},{\"idx\":3,\"name\":\"Pressure_in\"},{\"idx\":4,\"name\":\"Visibility_mi\"},{\"idx\":5,\"name\":\"Wind_Speed_mph\"},{\"idx\":6,\"name\":\"accident_duration_mins\"}]},\"num_attrs\":7}}",
         "name": "numerical_features",
         "type": "{\"type\":\"udt\",\"class\":\"org.apache.spark.ml.linalg.VectorUDT\",\"pyClass\":\"pyspark.ml.linalg.VectorUDT\",\"sqlType\":{\"type\":\"struct\",\"fields\":[{\"name\":\"type\",\"type\":\"byte\",\"nullable\":false,\"metadata\":{}},{\"name\":\"size\",\"type\":\"integer\",\"nullable\":true,\"metadata\":{}},{\"name\":\"indices\",\"type\":{\"type\":\"array\",\"elementType\":\"integer\",\"containsNull\":false},\"nullable\":true,\"metadata\":{}},{\"name\":\"values\",\"type\":{\"type\":\"array\",\"elementType\":\"double\",\"containsNull\":false},\"nullable\":true,\"metadata\":{}}]}}"
        },
        {
         "metadata": "{\"ml_attr\":{\"num_attrs\":7}}",
         "name": "numerical_scaled",
         "type": "{\"type\":\"udt\",\"class\":\"org.apache.spark.ml.linalg.VectorUDT\",\"pyClass\":\"pyspark.ml.linalg.VectorUDT\",\"sqlType\":{\"type\":\"struct\",\"fields\":[{\"name\":\"type\",\"type\":\"byte\",\"nullable\":false,\"metadata\":{}},{\"name\":\"size\",\"type\":\"integer\",\"nullable\":true,\"metadata\":{}},{\"name\":\"indices\",\"type\":{\"type\":\"array\",\"elementType\":\"integer\",\"containsNull\":false},\"nullable\":true,\"metadata\":{}},{\"name\":\"values\",\"type\":{\"type\":\"array\",\"elementType\":\"double\",\"containsNull\":false},\"nullable\":true,\"metadata\":{}}]}}"
        },
        {
         "metadata": "{\"ml_attr\":{\"attrs\":{\"numeric\":[{\"idx\":61,\"name\":\"numerical_scaled_0\"},{\"idx\":62,\"name\":\"numerical_scaled_1\"},{\"idx\":63,\"name\":\"numerical_scaled_2\"},{\"idx\":64,\"name\":\"numerical_scaled_3\"},{\"idx\":65,\"name\":\"numerical_scaled_4\"},{\"idx\":66,\"name\":\"numerical_scaled_5\"},{\"idx\":67,\"name\":\"numerical_scaled_6\"}],\"nominal\":[{\"vals\":[\"False\",\"True\",\"__unknown\"],\"idx\":49,\"name\":\"Amenity_si\"},{\"vals\":[\"False\",\"True\",\"__unknown\"],\"idx\":50,\"name\":\"Crossing_si\"},{\"vals\":[\"False\",\"True\",\"__unknown\"],\"idx\":51,\"name\":\"Give_Way_si\"},{\"vals\":[\"False\",\"True\",\"__unknown\"],\"idx\":52,\"name\":\"Junction_si\"},{\"vals\":[\"False\",\"True\",\"__unknown\"],\"idx\":53,\"name\":\"Railway_si\"},{\"vals\":[\"False\",\"True\",\"__unknown\"],\"idx\":54,\"name\":\"Station_si\"},{\"vals\":[\"False\",\"True\",\"__unknown\"],\"idx\":55,\"name\":\"Stop_si\"},{\"vals\":[\"False\",\"True\",\"__unknown\"],\"idx\":56,\"name\":\"Traffic_Signal_si\"},{\"vals\":[\"Day\",\"Night\",\"__unknown\"],\"idx\":57,\"name\":\"Sunrise_Sunset_si\"},{\"vals\":[\"Day\",\"Night\",\"__unknown\"],\"idx\":58,\"name\":\"Civil_Twilight_si\"},{\"vals\":[\"Day\",\"Night\",\"__unknown\"],\"idx\":59,\"name\":\"Nautical_Twilight_si\"},{\"vals\":[\"Day\",\"Night\",\"__unknown\"],\"idx\":60,\"name\":\"Astronomical_Twilight_si\"}],\"binary\":[{\"idx\":0,\"name\":\"State_ohe_CA\"},{\"idx\":1,\"name\":\"State_ohe_TX\"},{\"idx\":2,\"name\":\"State_ohe_FL\"},{\"idx\":3,\"name\":\"State_ohe_SC\"},{\"idx\":4,\"name\":\"State_ohe_NY\"},{\"idx\":5,\"name\":\"State_ohe_NC\"},{\"idx\":6,\"name\":\"State_ohe_OR\"},{\"idx\":7,\"name\":\"State_ohe_MN\"},{\"idx\":8,\"name\":\"State_ohe_MI\"},{\"idx\":9,\"name\":\"State_ohe_IL\"},{\"idx\":10,\"name\":\"State_ohe_PA\"},{\"idx\":11,\"name\":\"State_ohe_VA\"},{\"idx\":12,\"name\":\"State_ohe_UT\"},{\"idx\":13,\"name\":\"State_ohe_GA\"},{\"idx\":14,\"name\":\"State_ohe_TN\"},{\"idx\":15,\"name\":\"State_ohe_LA\"},{\"idx\":16,\"name\":\"State_ohe_AZ\"},{\"idx\":17,\"name\":\"State_ohe_OK\"},{\"idx\":18,\"name\":\"State_ohe_AL\"},{\"idx\":19,\"name\":\"State_ohe_OH\"},{\"idx\":20,\"name\":\"State_ohe_WA\"},{\"idx\":21,\"name\":\"State_ohe_CO\"},{\"idx\":22,\"name\":\"State_ohe_NJ\"},{\"idx\":23,\"name\":\"State_ohe_MA\"},{\"idx\":24,\"name\":\"State_ohe_MO\"},{\"idx\":25,\"name\":\"State_ohe_MD\"},{\"idx\":26,\"name\":\"State_ohe_KY\"},{\"idx\":27,\"name\":\"State_ohe_WI\"},{\"idx\":28,\"name\":\"State_ohe_IN\"},{\"idx\":29,\"name\":\"State_ohe_CT\"},{\"idx\":30,\"name\":\"State_ohe_NE\"},{\"idx\":31,\"name\":\"State_ohe_IA\"},{\"idx\":32,\"name\":\"State_ohe_NV\"},{\"idx\":33,\"name\":\"State_ohe_RI\"},{\"idx\":34,\"name\":\"State_ohe_NH\"},{\"idx\":35,\"name\":\"State_ohe_KS\"},{\"idx\":36,\"name\":\"State_ohe_MS\"},{\"idx\":37,\"name\":\"State_ohe_NM\"},{\"idx\":38,\"name\":\"State_ohe_DE\"},{\"idx\":39,\"name\":\"State_ohe_DC\"},{\"idx\":40,\"name\":\"State_ohe_ME\"},{\"idx\":41,\"name\":\"State_ohe_AR\"},{\"idx\":42,\"name\":\"State_ohe_WV\"},{\"idx\":43,\"name\":\"State_ohe_ID\"},{\"idx\":44,\"name\":\"State_ohe_MT\"},{\"idx\":45,\"name\":\"State_ohe_VT\"},{\"idx\":46,\"name\":\"State_ohe_WY\"},{\"idx\":47,\"name\":\"State_ohe_SD\"},{\"idx\":48,\"name\":\"State_ohe___unknown\"}]},\"num_attrs\":68}}",
         "name": "features",
         "type": "{\"type\":\"udt\",\"class\":\"org.apache.spark.ml.linalg.VectorUDT\",\"pyClass\":\"pyspark.ml.linalg.VectorUDT\",\"sqlType\":{\"type\":\"struct\",\"fields\":[{\"name\":\"type\",\"type\":\"byte\",\"nullable\":false,\"metadata\":{}},{\"name\":\"size\",\"type\":\"integer\",\"nullable\":true,\"metadata\":{}},{\"name\":\"indices\",\"type\":{\"type\":\"array\",\"elementType\":\"integer\",\"containsNull\":false},\"nullable\":true,\"metadata\":{}},{\"name\":\"values\",\"type\":{\"type\":\"array\",\"elementType\":\"double\",\"containsNull\":false},\"nullable\":true,\"metadata\":{}}]}}"
        },
        {
         "metadata": "{\"ml_attr\":{\"num_attrs\":2}}",
         "name": "rawPrediction",
         "type": "{\"type\":\"udt\",\"class\":\"org.apache.spark.ml.linalg.VectorUDT\",\"pyClass\":\"pyspark.ml.linalg.VectorUDT\",\"sqlType\":{\"type\":\"struct\",\"fields\":[{\"name\":\"type\",\"type\":\"byte\",\"nullable\":false,\"metadata\":{}},{\"name\":\"size\",\"type\":\"integer\",\"nullable\":true,\"metadata\":{}},{\"name\":\"indices\",\"type\":{\"type\":\"array\",\"elementType\":\"integer\",\"containsNull\":false},\"nullable\":true,\"metadata\":{}},{\"name\":\"values\",\"type\":{\"type\":\"array\",\"elementType\":\"double\",\"containsNull\":false},\"nullable\":true,\"metadata\":{}}]}}"
        },
        {
         "metadata": "{\"ml_attr\":{\"num_attrs\":2}}",
         "name": "probability",
         "type": "{\"type\":\"udt\",\"class\":\"org.apache.spark.ml.linalg.VectorUDT\",\"pyClass\":\"pyspark.ml.linalg.VectorUDT\",\"sqlType\":{\"type\":\"struct\",\"fields\":[{\"name\":\"type\",\"type\":\"byte\",\"nullable\":false,\"metadata\":{}},{\"name\":\"size\",\"type\":\"integer\",\"nullable\":true,\"metadata\":{}},{\"name\":\"indices\",\"type\":{\"type\":\"array\",\"elementType\":\"integer\",\"containsNull\":false},\"nullable\":true,\"metadata\":{}},{\"name\":\"values\",\"type\":{\"type\":\"array\",\"elementType\":\"double\",\"containsNull\":false},\"nullable\":true,\"metadata\":{}}]}}"
        },
        {
         "metadata": "{\"ml_attr\":{\"type\":\"nominal\",\"num_vals\":2}}",
         "name": "prediction",
         "type": "\"double\""
        }
       ],
       "type": "table"
      }
     },
     "output_type": "display_data"
    }
   ],
   "source": [
    "test = test.withColumn(\"weightCol\", F.lit(1))\n",
    "cv_test_results = pipeline_model_for_inference.transform(test)\n",
    "cv_test_results.limit(10).display()"
   ]
  },
  {
   "cell_type": "code",
   "execution_count": 0,
   "metadata": {
    "application/vnd.databricks.v1+cell": {
     "cellMetadata": {
      "byteLimit": 2048000,
      "rowLimit": 10000
     },
     "inputWidgets": {},
     "nuid": "1ff01b80-40c1-4687-bbb6-73158a68848c",
     "showTitle": false,
     "title": ""
    }
   },
   "outputs": [
    {
     "output_type": "execute_result",
     "data": {
      "text/plain": [
       "0.5123203984495905"
      ]
     },
     "execution_count": 20,
     "metadata": {},
     "output_type": "execute_result"
    }
   ],
   "source": [
    "evaluator.evaluate(cv_test_results)"
   ]
  },
  {
   "cell_type": "code",
   "execution_count": 0,
   "metadata": {
    "application/vnd.databricks.v1+cell": {
     "cellMetadata": {
      "byteLimit": 2048000,
      "rowLimit": 10000
     },
     "inputWidgets": {},
     "nuid": "8b7ec5b6-d571-4255-a1e7-c9e052ff5d66",
     "showTitle": false,
     "title": ""
    }
   },
   "outputs": [
    {
     "output_type": "execute_result",
     "data": {
      "text/plain": [
       "0.7410179338622551"
      ]
     },
     "execution_count": 21,
     "metadata": {},
     "output_type": "execute_result"
    }
   ],
   "source": [
    "evaluator_roc.evaluate(cv_test_results)"
   ]
  },
  {
   "cell_type": "code",
   "execution_count": 0,
   "metadata": {
    "application/vnd.databricks.v1+cell": {
     "cellMetadata": {
      "byteLimit": 2048000,
      "rowLimit": 10000
     },
     "inputWidgets": {},
     "nuid": "ff516c8d-5ab8-48ac-912b-95da05d929ee",
     "showTitle": false,
     "title": ""
    }
   },
   "outputs": [
    {
     "output_type": "display_data",
     "data": {
      "text/html": [
       "<style scoped>\n",
       "  .table-result-container {\n",
       "    max-height: 300px;\n",
       "    overflow: auto;\n",
       "  }\n",
       "  table, th, td {\n",
       "    border: 1px solid black;\n",
       "    border-collapse: collapse;\n",
       "  }\n",
       "  th, td {\n",
       "    padding: 5px;\n",
       "  }\n",
       "  th {\n",
       "    text-align: left;\n",
       "  }\n",
       "</style><div class='table-result-container'><table class='table-result'><thead style='background-color: white'><tr><th>Severity</th><th>Prediction</th><th>count</th></tr></thead><tbody><tr><td>1.0</td><td>1.0</td><td>2375</td></tr><tr><td>0.0</td><td>1.0</td><td>2424</td></tr><tr><td>1.0</td><td>0.0</td><td>1888</td></tr><tr><td>0.0</td><td>0.0</td><td>8526</td></tr></tbody></table></div>"
      ]
     },
     "metadata": {
      "application/vnd.databricks.v1+output": {
       "addedWidgets": {},
       "aggData": [],
       "aggError": "",
       "aggOverflow": false,
       "aggSchema": [],
       "aggSeriesLimitReached": false,
       "aggType": "",
       "arguments": {},
       "columnCustomDisplayInfos": {},
       "data": [
        [
         1.0,
         1.0,
         2375
        ],
        [
         0.0,
         1.0,
         2424
        ],
        [
         1.0,
         0.0,
         1888
        ],
        [
         0.0,
         0.0,
         8526
        ]
       ],
       "datasetInfos": [],
       "dbfsResultPath": null,
       "isJsonSchema": true,
       "metadata": {},
       "overflow": false,
       "plotOptions": {
        "customPlotOptions": {},
        "displayType": "table",
        "pivotAggregation": null,
        "pivotColumns": null,
        "xColumns": null,
        "yColumns": null
       },
       "removedWidgets": [],
       "schema": [
        {
         "metadata": "{}",
         "name": "Severity",
         "type": "\"double\""
        },
        {
         "metadata": "{\"ml_attr\":{\"type\":\"nominal\",\"num_vals\":2}}",
         "name": "Prediction",
         "type": "\"double\""
        },
        {
         "metadata": "{}",
         "name": "count",
         "type": "\"long\""
        }
       ],
       "type": "table"
      }
     },
     "output_type": "display_data"
    },
    {
     "output_type": "display_data",
     "data": {
      "text/plain": [
       "Databricks visualization. Run in Databricks to view."
      ]
     },
     "metadata": {
      "application/vnd.databricks.v1.subcommand+json": {
       "bindings": {},
       "collapsed": false,
       "command": "%python\n__backend_agg_display_orig = display\n__backend_agg_dfs = []\ndef __backend_agg_display_new(df):\n    __backend_agg_df_modules = [\"pandas.core.frame\", \"databricks.koalas.frame\", \"pyspark.sql.dataframe\", \"pyspark.pandas.frame\", \"pyspark.sql.connect.dataframe\"]\n    if (type(df).__module__ in __backend_agg_df_modules and type(df).__name__ == 'DataFrame') or isinstance(df, list):\n        __backend_agg_dfs.append(df)\n\ndisplay = __backend_agg_display_new\n\ndef __backend_agg_user_code_fn():\n    import base64\n    exec(base64.standard_b64decode(\"Y3ZfdGVzdF9yZXN1bHRzLmdyb3VwQnkoIlNldmVyaXR5IiwgIlByZWRpY3Rpb24iKS5jb3VudCgpLmRpc3BsYXkoKQ==\").decode())\n\ntry:\n    # run user code\n    __backend_agg_user_code_fn()\n\n    #reset display function\n    display = __backend_agg_display_orig\n\n    if len(__backend_agg_dfs) > 0:\n        # create a temp view\n        if type(__backend_agg_dfs[0]).__module__ == \"databricks.koalas.frame\":\n            # koalas dataframe\n            __backend_agg_dfs[0].to_spark().createOrReplaceTempView(\"DatabricksView2c81342\")\n        elif type(__backend_agg_dfs[0]).__module__ == \"pandas.core.frame\" or isinstance(__backend_agg_dfs[0], list):\n            # pandas dataframe\n            spark.createDataFrame(__backend_agg_dfs[0]).createOrReplaceTempView(\"DatabricksView2c81342\")\n        else:\n            __backend_agg_dfs[0].createOrReplaceTempView(\"DatabricksView2c81342\")\n        #run backend agg\n        display(spark.sql(\"\"\"WITH q AS (select * from DatabricksView2c81342) SELECT `Severity`,`Prediction`,SUM(`count`) `column_2e5d37a96` FROM q GROUP BY `Prediction`,`Severity`\"\"\"))\n    else:\n        displayHTML(\"dataframe no longer exists. If you're using dataframe.display(), use display(dataframe) instead.\")\n\n\nfinally:\n    spark.sql(\"drop view if exists DatabricksView2c81342\")\n    display = __backend_agg_display_orig\n    del __backend_agg_display_new\n    del __backend_agg_display_orig\n    del __backend_agg_dfs\n    del __backend_agg_user_code_fn\n\n",
       "commandTitle": "Logistic-weighted",
       "commandType": "auto",
       "commandVersion": 0,
       "commentThread": [],
       "commentsVisible": false,
       "contentSha256Hex": null,
       "customPlotOptions": {
        "redashChart": [
         {
          "key": "type",
          "value": "CHART"
         },
         {
          "key": "options",
          "value": {
           "alignYAxesAtZero": true,
           "coefficient": 1,
           "colorScheme": "YlGnBu",
           "columnConfigurationMap": {
            "x": {
             "column": "Severity",
             "id": "column_2e5d37a91"
            },
            "y": [
             {
              "column": "Prediction",
              "id": "column_2e5d37a93"
             }
            ],
            "zVal": {
             "column": "count",
             "id": "column_2e5d37a96",
             "transform": "SUM"
            }
           },
           "dateTimeFormat": "DD/MM/YYYY HH:mm",
           "direction": {
            "type": "counterclockwise"
           },
           "error_y": {
            "type": "data",
            "visible": true
           },
           "globalSeriesType": "heatmap",
           "isAggregationOn": true,
           "legend": {
            "traceorder": "normal"
           },
           "missingValuesAsZero": true,
           "numberFormat": "0,0.[00000]",
           "percentFormat": "0[.]00%",
           "series": {
            "error_y": {
             "type": "data",
             "visible": true
            },
            "stacking": null
           },
           "seriesOptions": {
            "column_2e5d37a93": {
             "type": "heatmap",
             "yAxis": 0
            }
           },
           "showDataLabels": true,
           "sizemode": "diameter",
           "sortX": true,
           "sortY": true,
           "swappedAxes": false,
           "textFormat": "",
           "useAggregationsUi": true,
           "valuesOptions": {},
           "version": 2,
           "xAxis": {
            "labels": {
             "enabled": true
            },
            "type": "-"
           },
           "yAxis": [
            {
             "type": "-"
            },
            {
             "opposite": true,
             "type": "-"
            }
           ]
          }
         }
        ]
       },
       "datasetPreviewNameToCmdIdMap": {},
       "diffDeletes": [],
       "diffInserts": [],
       "displayType": "redashChart",
       "error": null,
       "errorDetails": null,
       "errorSummary": null,
       "errorTraceType": null,
       "finishTime": 0,
       "globalVars": {},
       "guid": "",
       "height": "auto",
       "hideCommandCode": false,
       "hideCommandResult": false,
       "iPythonMetadata": null,
       "inputWidgets": {},
       "isLockedInExamMode": false,
       "latestUser": "a user",
       "latestUserId": null,
       "listResultMetadata": null,
       "metadata": {},
       "nuid": "d401aca1-4ef6-44f8-af18-7e4591433e5e",
       "origId": 0,
       "parentHierarchy": [],
       "pivotAggregation": null,
       "pivotColumns": null,
       "position": 10.0,
       "resultDbfsErrorMessage": null,
       "resultDbfsStatus": "INLINED_IN_TREE",
       "results": null,
       "showCommandTitle": false,
       "startTime": 0,
       "state": "input",
       "streamStates": {},
       "subcommandOptions": {
        "queryPlan": {
         "groups": [
          {
           "column": "Severity",
           "type": "column"
          },
          {
           "column": "Prediction",
           "type": "column"
          }
         ],
         "selects": [
          {
           "column": "Severity",
           "type": "column"
          },
          {
           "column": "Prediction",
           "type": "column"
          },
          {
           "alias": "column_2e5d37a96",
           "args": [
            {
             "column": "count",
             "type": "column"
            }
           ],
           "function": "SUM",
           "type": "function"
          }
         ]
        }
       },
       "submitTime": 0,
       "subtype": "tableResultSubCmd.visualization",
       "tableResultIndex": 0,
       "useConsistentColors": false,
       "version": "CommandV1",
       "width": "auto",
       "workflows": [],
       "xColumns": null,
       "yColumns": null
      }
     },
     "output_type": "display_data"
    }
   ],
   "source": [
    "cv_test_results.groupBy(\"Severity\", \"Prediction\").count().display()"
   ]
  },
  {
   "cell_type": "code",
   "execution_count": 0,
   "metadata": {
    "application/vnd.databricks.v1+cell": {
     "cellMetadata": {
      "byteLimit": 2048000,
      "rowLimit": 10000
     },
     "inputWidgets": {},
     "nuid": "b24a911e-50b5-41b0-8deb-e369a56a11c1",
     "showTitle": false,
     "title": ""
    }
   },
   "outputs": [],
   "source": [
    "import matplotlib.pyplot as plt\n",
    "# from pyspark.ml.evaluation import BinaryClassificationEvaluator\n",
    "from sklearn.metrics import roc_curve, auc\n",
    "# Select the probability for the positive class\n",
    "import pyspark.sql.functions as F\n",
    "from pyspark.sql.types import FloatType\n",
    "\n",
    "# If the probability column is a vector (common in PySpark), extract the relevant probability\n",
    "to_prob_udf = F.udf(lambda v: float(v[1]), FloatType())\n",
    "cv_test_results_2 = cv_test_results.withColumn(\"probability\", to_prob_udf(\"probability\"))\n",
    "\n",
    "# Collect the data to the driver\n",
    "local_data = cv_test_results_2.select(\"Severity\", \"probability\").toPandas()\n",
    "\n",
    "fpr, tpr, thresholds = roc_curve(local_data['Severity'], local_data['probability'])\n",
    "roc_auc = auc(fpr, tpr)\n",
    "\n",
    "# fpr, tpr, thresholds, roc_auc"
   ]
  },
  {
   "cell_type": "code",
   "execution_count": 0,
   "metadata": {
    "application/vnd.databricks.v1+cell": {
     "cellMetadata": {
      "byteLimit": 2048000,
      "rowLimit": 10000
     },
     "inputWidgets": {},
     "nuid": "db0ac3aa-ff6e-4501-8fa3-ce95afacdcfb",
     "showTitle": false,
     "title": ""
    }
   },
   "outputs": [
    {
     "output_type": "display_data",
     "data": {
      "image/png": "[encoded data removed]",
      "text/plain": [
       "<Figure size 640x480 with 1 Axes>"
      ]
     },
     "metadata": {},
     "output_type": "display_data"
    }
   ],
   "source": [
    "plt.figure()\n",
    "plt.plot(fpr, tpr, color='darkorange', lw=2, label='ROC curve (area = %0.2f)' % roc_auc)\n",
    "plt.plot([0, 1], [0, 1], color='navy', lw=2, linestyle='--')\n",
    "plt.xlim([0.0, 1.0])\n",
    "plt.ylim([0.0, 1.05])\n",
    "plt.xlabel('False Positive Rate')\n",
    "plt.ylabel('True Positive Rate')\n",
    "plt.title('Receiver Operating Characteristic')\n",
    "plt.legend(loc=\"lower right\")\n",
    "plt.show()"
   ]
  },
  {
   "cell_type": "code",
   "execution_count": 0,
   "metadata": {
    "application/vnd.databricks.v1+cell": {
     "cellMetadata": {},
     "inputWidgets": {},
     "nuid": "e212d64c-5d98-4177-bcd6-fee55c585fa0",
     "showTitle": false,
     "title": ""
    }
   },
   "outputs": [],
   "source": []
  }
 ],
 "metadata": {
  "application/vnd.databricks.v1+notebook": {
   "dashboards": [],
   "language": "python",
   "notebookMetadata": {
    "mostRecentlyExecutedCommandWithImplicitDF": {
     "commandId": 818735346775761,
     "dataframes": [
      "_sqldf"
     ]
    },
    "pythonIndentUnit": 4
   },
   "notebookName": "logistic-weighted",
   "widgets": {}
  }
 },
 "nbformat": 4,
 "nbformat_minor": 0
}
